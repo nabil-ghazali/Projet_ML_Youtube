{
 "cells": [
  {
   "cell_type": "markdown",
   "id": "f478863d",
   "metadata": {},
   "source": [
    "# PROJET ML — CLASSIFICATION DE VIDÉOS YOUTUBE *TRENDING*\n",
    "\n",
    "**Dataset Kaggle**: https://www.kaggle.com/datasets/datasnaek/youtube-new\n",
    "\n",
    "**Objectif**: Développer un classificateur pour prédire si une vidéo YouTube deviendra *trending*.\n",
    "\n",
    "> Ce notebook est conçu pour être complété. Chaque section contient des consignes détaillées et des zones de code à compléter.\n"
   ]
  },
  {
   "cell_type": "markdown",
   "id": "546bd156",
   "metadata": {},
   "source": [
    "## 1. Importation des librairies"
   ]
  },
  {
   "cell_type": "markdown",
   "id": "07d5e9d0",
   "metadata": {},
   "source": [
    "**Consigne 1.1 — Importez toutes les librairies nécessaires**\n",
    "- `pandas`, `numpy` pour la manipulation de données  \n",
    "- `matplotlib.pyplot`, `seaborn` pour la visualisation  \n",
    "- `sklearn` pour le machine learning  \n",
    "- `warnings` pour supprimer les avertissements"
   ]
  },
  {
   "cell_type": "code",
   "execution_count": 163,
   "id": "bb2ef50c",
   "metadata": {},
   "outputs": [],
   "source": [
    "# VOTRE CODE ICI - Section 1.1\n",
    "import pandas as pd\n",
    "import numpy as np \n",
    "import matplotlib.pyplot as plt\n",
    "import seaborn as sb\n",
    "import sklearn as sl\n",
    "# Suppression des warnings\n",
    "import warnings\n",
    "warnings.filterwarnings('ignore')"
   ]
  },
  {
   "cell_type": "markdown",
   "id": "879269a0",
   "metadata": {},
   "source": [
    "## 2. Chargement et exploration des données"
   ]
  },
  {
   "cell_type": "markdown",
   "id": "09a658e0",
   "metadata": {},
   "source": [
    "**Consigne 2.1 — Chargement des données**\n",
    "- Chargez le fichier `USvideos.csv` avec pandas  \n",
    "- Affichez les 5 premières lignes  \n",
    "- Affichez les informations générales (`info()`, `shape`, `describe()`)\n",
    "\n",
    "*Aide* :\n",
    "- Utilisez `pd.read_csv()` avec `encoding='utf-8'`\n",
    "- `.info()` donne les types de colonnes et valeurs non-nulles\n",
    "- `.describe()` donne les statistiques descriptives"
   ]
  },
  {
   "cell_type": "code",
   "execution_count": 164,
   "id": "21041baa",
   "metadata": {},
   "outputs": [
    {
     "name": "stdout",
     "output_type": "stream",
     "text": [
      "Premières lignes:\n"
     ]
    },
    {
     "data": {
      "application/vnd.microsoft.datawrangler.viewer.v0+json": {
       "columns": [
        {
         "name": "index",
         "rawType": "int64",
         "type": "integer"
        },
        {
         "name": "video_id",
         "rawType": "object",
         "type": "string"
        },
        {
         "name": "trending_date",
         "rawType": "object",
         "type": "string"
        },
        {
         "name": "title",
         "rawType": "object",
         "type": "string"
        },
        {
         "name": "channel_title",
         "rawType": "object",
         "type": "string"
        },
        {
         "name": "category_id",
         "rawType": "int64",
         "type": "integer"
        },
        {
         "name": "publish_time",
         "rawType": "object",
         "type": "string"
        },
        {
         "name": "tags",
         "rawType": "object",
         "type": "string"
        },
        {
         "name": "views",
         "rawType": "int64",
         "type": "integer"
        },
        {
         "name": "likes",
         "rawType": "int64",
         "type": "integer"
        },
        {
         "name": "dislikes",
         "rawType": "int64",
         "type": "integer"
        },
        {
         "name": "comment_count",
         "rawType": "int64",
         "type": "integer"
        },
        {
         "name": "thumbnail_link",
         "rawType": "object",
         "type": "string"
        },
        {
         "name": "comments_disabled",
         "rawType": "bool",
         "type": "boolean"
        },
        {
         "name": "ratings_disabled",
         "rawType": "bool",
         "type": "boolean"
        },
        {
         "name": "video_error_or_removed",
         "rawType": "bool",
         "type": "boolean"
        },
        {
         "name": "description",
         "rawType": "object",
         "type": "string"
        }
       ],
       "ref": "69ad491d-19fe-42b8-9162-96a02d0adf5f",
       "rows": [
        [
         "0",
         "2kyS6SvSYSE",
         "17.14.11",
         "WE WANT TO TALK ABOUT OUR MARRIAGE",
         "CaseyNeistat",
         "22",
         "2017-11-13T17:13:01.000Z",
         "SHANtell martin",
         "748374",
         "57527",
         "2966",
         "15954",
         "https://i.ytimg.com/vi/2kyS6SvSYSE/default.jpg",
         "False",
         "False",
         "False",
         "SHANTELL'S CHANNEL - https://www.youtube.com/shantellmartin\\nCANDICE - https://www.lovebilly.com\\n\\nfilmed this video in 4k on this -- http://amzn.to/2sTDnRZ\\nwith this lens -- http://amzn.to/2rUJOmD\\nbig drone - http://tinyurl.com/h4ft3oy\\nOTHER GEAR ---  http://amzn.to/2o3GLX5\\nSony CAMERA http://amzn.to/2nOBmnv\\nOLD CAMERA; http://amzn.to/2o2cQBT\\nMAIN LENS; http://amzn.to/2od5gBJ\\nBIG SONY CAMERA; http://amzn.to/2nrdJRO\\nBIG Canon CAMERA; http://tinyurl.com/jn4q4vz\\nBENDY TRIPOD THING; http://tinyurl.com/gw3ylz2\\nYOU NEED THIS FOR THE BENDY TRIPOD; http://tinyurl.com/j8mzzua\\nWIDE LENS; http://tinyurl.com/jkfcm8t\\nMORE EXPENSIVE WIDE LENS; http://tinyurl.com/zrdgtou\\nSMALL CAMERA; http://tinyurl.com/hrrzhor\\nMICROPHONE; http://tinyurl.com/zefm4jy\\nOTHER MICROPHONE; http://tinyurl.com/jxgpj86\\nOLD DRONE (cheaper but still great);http://tinyurl.com/zcfmnmd\\n\\nfollow me; on http://instagram.com/caseyneistat\\non https://www.facebook.com/cneistat\\non https://twitter.com/CaseyNeistat\\n\\namazing intro song by https://soundcloud.com/discoteeth\\n\\nad disclosure.  THIS IS NOT AN AD.  not selling or promoting anything.  but samsung did produce the Shantell Video as a 'GALAXY PROJECT' which is an initiative that enables creators like Shantell and me to make projects we might otherwise not have the opportunity to make.  hope that's clear.  if not ask in the comments and i'll answer any specifics."
        ]
       ],
       "shape": {
        "columns": 16,
        "rows": 1
       }
      },
      "text/html": [
       "<div>\n",
       "<style scoped>\n",
       "    .dataframe tbody tr th:only-of-type {\n",
       "        vertical-align: middle;\n",
       "    }\n",
       "\n",
       "    .dataframe tbody tr th {\n",
       "        vertical-align: top;\n",
       "    }\n",
       "\n",
       "    .dataframe thead th {\n",
       "        text-align: right;\n",
       "    }\n",
       "</style>\n",
       "<table border=\"1\" class=\"dataframe\">\n",
       "  <thead>\n",
       "    <tr style=\"text-align: right;\">\n",
       "      <th></th>\n",
       "      <th>video_id</th>\n",
       "      <th>trending_date</th>\n",
       "      <th>title</th>\n",
       "      <th>channel_title</th>\n",
       "      <th>category_id</th>\n",
       "      <th>publish_time</th>\n",
       "      <th>tags</th>\n",
       "      <th>views</th>\n",
       "      <th>likes</th>\n",
       "      <th>dislikes</th>\n",
       "      <th>comment_count</th>\n",
       "      <th>thumbnail_link</th>\n",
       "      <th>comments_disabled</th>\n",
       "      <th>ratings_disabled</th>\n",
       "      <th>video_error_or_removed</th>\n",
       "      <th>description</th>\n",
       "    </tr>\n",
       "  </thead>\n",
       "  <tbody>\n",
       "    <tr>\n",
       "      <th>0</th>\n",
       "      <td>2kyS6SvSYSE</td>\n",
       "      <td>17.14.11</td>\n",
       "      <td>WE WANT TO TALK ABOUT OUR MARRIAGE</td>\n",
       "      <td>CaseyNeistat</td>\n",
       "      <td>22</td>\n",
       "      <td>2017-11-13T17:13:01.000Z</td>\n",
       "      <td>SHANtell martin</td>\n",
       "      <td>748374</td>\n",
       "      <td>57527</td>\n",
       "      <td>2966</td>\n",
       "      <td>15954</td>\n",
       "      <td>https://i.ytimg.com/vi/2kyS6SvSYSE/default.jpg</td>\n",
       "      <td>False</td>\n",
       "      <td>False</td>\n",
       "      <td>False</td>\n",
       "      <td>SHANTELL'S CHANNEL - https://www.youtube.com/s...</td>\n",
       "    </tr>\n",
       "  </tbody>\n",
       "</table>\n",
       "</div>"
      ],
      "text/plain": [
       "      video_id trending_date                               title  \\\n",
       "0  2kyS6SvSYSE      17.14.11  WE WANT TO TALK ABOUT OUR MARRIAGE   \n",
       "\n",
       "  channel_title  category_id              publish_time             tags  \\\n",
       "0  CaseyNeistat           22  2017-11-13T17:13:01.000Z  SHANtell martin   \n",
       "\n",
       "    views  likes  dislikes  comment_count  \\\n",
       "0  748374  57527      2966          15954   \n",
       "\n",
       "                                   thumbnail_link  comments_disabled  \\\n",
       "0  https://i.ytimg.com/vi/2kyS6SvSYSE/default.jpg              False   \n",
       "\n",
       "   ratings_disabled  video_error_or_removed  \\\n",
       "0             False                   False   \n",
       "\n",
       "                                         description  \n",
       "0  SHANTELL'S CHANNEL - https://www.youtube.com/s...  "
      ]
     },
     "metadata": {},
     "output_type": "display_data"
    },
    {
     "name": "stdout",
     "output_type": "stream",
     "text": [
      "\n",
      "Informations générales:\n",
      "<class 'pandas.core.frame.DataFrame'>\n",
      "RangeIndex: 40949 entries, 0 to 40948\n",
      "Data columns (total 16 columns):\n",
      " #   Column                  Non-Null Count  Dtype \n",
      "---  ------                  --------------  ----- \n",
      " 0   video_id                40949 non-null  object\n",
      " 1   trending_date           40949 non-null  object\n",
      " 2   title                   40949 non-null  object\n",
      " 3   channel_title           40949 non-null  object\n",
      " 4   category_id             40949 non-null  int64 \n",
      " 5   publish_time            40949 non-null  object\n",
      " 6   tags                    40949 non-null  object\n",
      " 7   views                   40949 non-null  int64 \n",
      " 8   likes                   40949 non-null  int64 \n",
      " 9   dislikes                40949 non-null  int64 \n",
      " 10  comment_count           40949 non-null  int64 \n",
      " 11  thumbnail_link          40949 non-null  object\n",
      " 12  comments_disabled       40949 non-null  bool  \n",
      " 13  ratings_disabled        40949 non-null  bool  \n",
      " 14  video_error_or_removed  40949 non-null  bool  \n",
      " 15  description             40379 non-null  object\n",
      "dtypes: bool(3), int64(5), object(8)\n",
      "memory usage: 4.2+ MB\n"
     ]
    },
    {
     "data": {
      "text/plain": [
       "None"
      ]
     },
     "metadata": {},
     "output_type": "display_data"
    },
    {
     "name": "stdout",
     "output_type": "stream",
     "text": [
      "Shape: (40949, 16)\n"
     ]
    },
    {
     "data": {
      "application/vnd.microsoft.datawrangler.viewer.v0+json": {
       "columns": [
        {
         "name": "index",
         "rawType": "object",
         "type": "string"
        },
        {
         "name": "count",
         "rawType": "object",
         "type": "unknown"
        },
        {
         "name": "unique",
         "rawType": "object",
         "type": "unknown"
        },
        {
         "name": "top",
         "rawType": "object",
         "type": "unknown"
        },
        {
         "name": "freq",
         "rawType": "object",
         "type": "unknown"
        },
        {
         "name": "mean",
         "rawType": "object",
         "type": "unknown"
        },
        {
         "name": "std",
         "rawType": "object",
         "type": "unknown"
        },
        {
         "name": "min",
         "rawType": "object",
         "type": "unknown"
        },
        {
         "name": "25%",
         "rawType": "object",
         "type": "unknown"
        },
        {
         "name": "50%",
         "rawType": "object",
         "type": "unknown"
        },
        {
         "name": "75%",
         "rawType": "object",
         "type": "unknown"
        },
        {
         "name": "max",
         "rawType": "object",
         "type": "unknown"
        }
       ],
       "ref": "bd2617bb-bc23-4eba-82c0-f703103a2152",
       "rows": [
        [
         "video_id",
         "40949",
         "6351",
         "j4KvrAUjn6c",
         "30",
         null,
         null,
         null,
         null,
         null,
         null,
         null
        ],
        [
         "trending_date",
         "40949",
         "205",
         "17.14.11",
         "200",
         null,
         null,
         null,
         null,
         null,
         null,
         null
        ],
        [
         "title",
         "40949",
         "6455",
         "WE MADE OUR MOM CRY...HER DREAM CAME TRUE!",
         "30",
         null,
         null,
         null,
         null,
         null,
         null,
         null
        ],
        [
         "channel_title",
         "40949",
         "2207",
         "ESPN",
         "203",
         null,
         null,
         null,
         null,
         null,
         null,
         null
        ],
        [
         "category_id",
         "40949.0",
         null,
         null,
         null,
         "19.97242911914821",
         "7.56832682828046",
         "1.0",
         "17.0",
         "24.0",
         "25.0",
         "43.0"
        ],
        [
         "publish_time",
         "40949",
         "6269",
         "2018-05-18T14:00:04.000Z",
         "50",
         null,
         null,
         null,
         null,
         null,
         null,
         null
        ],
        [
         "tags",
         "40949",
         "6055",
         "[none]",
         "1535",
         null,
         null,
         null,
         null,
         null,
         null,
         null
        ],
        [
         "views",
         "40949.0",
         null,
         null,
         null,
         "2360784.6382573447",
         "7394113.75970394",
         "549.0",
         "242329.0",
         "681861.0",
         "1823157.0",
         "225211923.0"
        ],
        [
         "likes",
         "40949.0",
         null,
         null,
         null,
         "74266.7024347359",
         "228885.33820949917",
         "0.0",
         "5424.0",
         "18091.0",
         "55417.0",
         "5613827.0"
        ],
        [
         "dislikes",
         "40949.0",
         null,
         null,
         null,
         "3711.400888910596",
         "29029.705945001795",
         "0.0",
         "202.0",
         "631.0",
         "1938.0",
         "1674420.0"
        ],
        [
         "comment_count",
         "40949.0",
         null,
         null,
         null,
         "8446.803682629612",
         "37430.48699437981",
         "0.0",
         "614.0",
         "1856.0",
         "5755.0",
         "1361580.0"
        ],
        [
         "thumbnail_link",
         "40949",
         "6352",
         "https://i.ytimg.com/vi/j4KvrAUjn6c/default.jpg",
         "30",
         null,
         null,
         null,
         null,
         null,
         null,
         null
        ],
        [
         "comments_disabled",
         "40949",
         "2",
         "False",
         "40316",
         null,
         null,
         null,
         null,
         null,
         null,
         null
        ],
        [
         "ratings_disabled",
         "40949",
         "2",
         "False",
         "40780",
         null,
         null,
         null,
         null,
         null,
         null,
         null
        ],
        [
         "video_error_or_removed",
         "40949",
         "2",
         "False",
         "40926",
         null,
         null,
         null,
         null,
         null,
         null,
         null
        ],
        [
         "description",
         "40379",
         "6901",
         "► Listen LIVE: http://power1051fm.com/\\n► Facebook: https://www.facebook.com/Power1051NY/\\n► Twitter: https://twitter.com/power1051/\\n► Instagram: https://www.instagram.com/power1051/",
         "58",
         null,
         null,
         null,
         null,
         null,
         null,
         null
        ]
       ],
       "shape": {
        "columns": 11,
        "rows": 16
       }
      },
      "text/html": [
       "<div>\n",
       "<style scoped>\n",
       "    .dataframe tbody tr th:only-of-type {\n",
       "        vertical-align: middle;\n",
       "    }\n",
       "\n",
       "    .dataframe tbody tr th {\n",
       "        vertical-align: top;\n",
       "    }\n",
       "\n",
       "    .dataframe thead th {\n",
       "        text-align: right;\n",
       "    }\n",
       "</style>\n",
       "<table border=\"1\" class=\"dataframe\">\n",
       "  <thead>\n",
       "    <tr style=\"text-align: right;\">\n",
       "      <th></th>\n",
       "      <th>count</th>\n",
       "      <th>unique</th>\n",
       "      <th>top</th>\n",
       "      <th>freq</th>\n",
       "      <th>mean</th>\n",
       "      <th>std</th>\n",
       "      <th>min</th>\n",
       "      <th>25%</th>\n",
       "      <th>50%</th>\n",
       "      <th>75%</th>\n",
       "      <th>max</th>\n",
       "    </tr>\n",
       "  </thead>\n",
       "  <tbody>\n",
       "    <tr>\n",
       "      <th>video_id</th>\n",
       "      <td>40949</td>\n",
       "      <td>6351</td>\n",
       "      <td>j4KvrAUjn6c</td>\n",
       "      <td>30</td>\n",
       "      <td>NaN</td>\n",
       "      <td>NaN</td>\n",
       "      <td>NaN</td>\n",
       "      <td>NaN</td>\n",
       "      <td>NaN</td>\n",
       "      <td>NaN</td>\n",
       "      <td>NaN</td>\n",
       "    </tr>\n",
       "    <tr>\n",
       "      <th>trending_date</th>\n",
       "      <td>40949</td>\n",
       "      <td>205</td>\n",
       "      <td>17.14.11</td>\n",
       "      <td>200</td>\n",
       "      <td>NaN</td>\n",
       "      <td>NaN</td>\n",
       "      <td>NaN</td>\n",
       "      <td>NaN</td>\n",
       "      <td>NaN</td>\n",
       "      <td>NaN</td>\n",
       "      <td>NaN</td>\n",
       "    </tr>\n",
       "    <tr>\n",
       "      <th>title</th>\n",
       "      <td>40949</td>\n",
       "      <td>6455</td>\n",
       "      <td>WE MADE OUR MOM CRY...HER DREAM CAME TRUE!</td>\n",
       "      <td>30</td>\n",
       "      <td>NaN</td>\n",
       "      <td>NaN</td>\n",
       "      <td>NaN</td>\n",
       "      <td>NaN</td>\n",
       "      <td>NaN</td>\n",
       "      <td>NaN</td>\n",
       "      <td>NaN</td>\n",
       "    </tr>\n",
       "    <tr>\n",
       "      <th>channel_title</th>\n",
       "      <td>40949</td>\n",
       "      <td>2207</td>\n",
       "      <td>ESPN</td>\n",
       "      <td>203</td>\n",
       "      <td>NaN</td>\n",
       "      <td>NaN</td>\n",
       "      <td>NaN</td>\n",
       "      <td>NaN</td>\n",
       "      <td>NaN</td>\n",
       "      <td>NaN</td>\n",
       "      <td>NaN</td>\n",
       "    </tr>\n",
       "    <tr>\n",
       "      <th>category_id</th>\n",
       "      <td>40949.0</td>\n",
       "      <td>NaN</td>\n",
       "      <td>NaN</td>\n",
       "      <td>NaN</td>\n",
       "      <td>19.972429</td>\n",
       "      <td>7.568327</td>\n",
       "      <td>1.0</td>\n",
       "      <td>17.0</td>\n",
       "      <td>24.0</td>\n",
       "      <td>25.0</td>\n",
       "      <td>43.0</td>\n",
       "    </tr>\n",
       "    <tr>\n",
       "      <th>publish_time</th>\n",
       "      <td>40949</td>\n",
       "      <td>6269</td>\n",
       "      <td>2018-05-18T14:00:04.000Z</td>\n",
       "      <td>50</td>\n",
       "      <td>NaN</td>\n",
       "      <td>NaN</td>\n",
       "      <td>NaN</td>\n",
       "      <td>NaN</td>\n",
       "      <td>NaN</td>\n",
       "      <td>NaN</td>\n",
       "      <td>NaN</td>\n",
       "    </tr>\n",
       "    <tr>\n",
       "      <th>tags</th>\n",
       "      <td>40949</td>\n",
       "      <td>6055</td>\n",
       "      <td>[none]</td>\n",
       "      <td>1535</td>\n",
       "      <td>NaN</td>\n",
       "      <td>NaN</td>\n",
       "      <td>NaN</td>\n",
       "      <td>NaN</td>\n",
       "      <td>NaN</td>\n",
       "      <td>NaN</td>\n",
       "      <td>NaN</td>\n",
       "    </tr>\n",
       "    <tr>\n",
       "      <th>views</th>\n",
       "      <td>40949.0</td>\n",
       "      <td>NaN</td>\n",
       "      <td>NaN</td>\n",
       "      <td>NaN</td>\n",
       "      <td>2360784.638257</td>\n",
       "      <td>7394113.759704</td>\n",
       "      <td>549.0</td>\n",
       "      <td>242329.0</td>\n",
       "      <td>681861.0</td>\n",
       "      <td>1823157.0</td>\n",
       "      <td>225211923.0</td>\n",
       "    </tr>\n",
       "    <tr>\n",
       "      <th>likes</th>\n",
       "      <td>40949.0</td>\n",
       "      <td>NaN</td>\n",
       "      <td>NaN</td>\n",
       "      <td>NaN</td>\n",
       "      <td>74266.702435</td>\n",
       "      <td>228885.338209</td>\n",
       "      <td>0.0</td>\n",
       "      <td>5424.0</td>\n",
       "      <td>18091.0</td>\n",
       "      <td>55417.0</td>\n",
       "      <td>5613827.0</td>\n",
       "    </tr>\n",
       "    <tr>\n",
       "      <th>dislikes</th>\n",
       "      <td>40949.0</td>\n",
       "      <td>NaN</td>\n",
       "      <td>NaN</td>\n",
       "      <td>NaN</td>\n",
       "      <td>3711.400889</td>\n",
       "      <td>29029.705945</td>\n",
       "      <td>0.0</td>\n",
       "      <td>202.0</td>\n",
       "      <td>631.0</td>\n",
       "      <td>1938.0</td>\n",
       "      <td>1674420.0</td>\n",
       "    </tr>\n",
       "    <tr>\n",
       "      <th>comment_count</th>\n",
       "      <td>40949.0</td>\n",
       "      <td>NaN</td>\n",
       "      <td>NaN</td>\n",
       "      <td>NaN</td>\n",
       "      <td>8446.803683</td>\n",
       "      <td>37430.486994</td>\n",
       "      <td>0.0</td>\n",
       "      <td>614.0</td>\n",
       "      <td>1856.0</td>\n",
       "      <td>5755.0</td>\n",
       "      <td>1361580.0</td>\n",
       "    </tr>\n",
       "    <tr>\n",
       "      <th>thumbnail_link</th>\n",
       "      <td>40949</td>\n",
       "      <td>6352</td>\n",
       "      <td>https://i.ytimg.com/vi/j4KvrAUjn6c/default.jpg</td>\n",
       "      <td>30</td>\n",
       "      <td>NaN</td>\n",
       "      <td>NaN</td>\n",
       "      <td>NaN</td>\n",
       "      <td>NaN</td>\n",
       "      <td>NaN</td>\n",
       "      <td>NaN</td>\n",
       "      <td>NaN</td>\n",
       "    </tr>\n",
       "    <tr>\n",
       "      <th>comments_disabled</th>\n",
       "      <td>40949</td>\n",
       "      <td>2</td>\n",
       "      <td>False</td>\n",
       "      <td>40316</td>\n",
       "      <td>NaN</td>\n",
       "      <td>NaN</td>\n",
       "      <td>NaN</td>\n",
       "      <td>NaN</td>\n",
       "      <td>NaN</td>\n",
       "      <td>NaN</td>\n",
       "      <td>NaN</td>\n",
       "    </tr>\n",
       "    <tr>\n",
       "      <th>ratings_disabled</th>\n",
       "      <td>40949</td>\n",
       "      <td>2</td>\n",
       "      <td>False</td>\n",
       "      <td>40780</td>\n",
       "      <td>NaN</td>\n",
       "      <td>NaN</td>\n",
       "      <td>NaN</td>\n",
       "      <td>NaN</td>\n",
       "      <td>NaN</td>\n",
       "      <td>NaN</td>\n",
       "      <td>NaN</td>\n",
       "    </tr>\n",
       "    <tr>\n",
       "      <th>video_error_or_removed</th>\n",
       "      <td>40949</td>\n",
       "      <td>2</td>\n",
       "      <td>False</td>\n",
       "      <td>40926</td>\n",
       "      <td>NaN</td>\n",
       "      <td>NaN</td>\n",
       "      <td>NaN</td>\n",
       "      <td>NaN</td>\n",
       "      <td>NaN</td>\n",
       "      <td>NaN</td>\n",
       "      <td>NaN</td>\n",
       "    </tr>\n",
       "    <tr>\n",
       "      <th>description</th>\n",
       "      <td>40379</td>\n",
       "      <td>6901</td>\n",
       "      <td>► Listen LIVE: http://power1051fm.com/\\n► Face...</td>\n",
       "      <td>58</td>\n",
       "      <td>NaN</td>\n",
       "      <td>NaN</td>\n",
       "      <td>NaN</td>\n",
       "      <td>NaN</td>\n",
       "      <td>NaN</td>\n",
       "      <td>NaN</td>\n",
       "      <td>NaN</td>\n",
       "    </tr>\n",
       "  </tbody>\n",
       "</table>\n",
       "</div>"
      ],
      "text/plain": [
       "                          count unique  \\\n",
       "video_id                  40949   6351   \n",
       "trending_date             40949    205   \n",
       "title                     40949   6455   \n",
       "channel_title             40949   2207   \n",
       "category_id             40949.0    NaN   \n",
       "publish_time              40949   6269   \n",
       "tags                      40949   6055   \n",
       "views                   40949.0    NaN   \n",
       "likes                   40949.0    NaN   \n",
       "dislikes                40949.0    NaN   \n",
       "comment_count           40949.0    NaN   \n",
       "thumbnail_link            40949   6352   \n",
       "comments_disabled         40949      2   \n",
       "ratings_disabled          40949      2   \n",
       "video_error_or_removed    40949      2   \n",
       "description               40379   6901   \n",
       "\n",
       "                                                                      top  \\\n",
       "video_id                                                      j4KvrAUjn6c   \n",
       "trending_date                                                    17.14.11   \n",
       "title                          WE MADE OUR MOM CRY...HER DREAM CAME TRUE!   \n",
       "channel_title                                                        ESPN   \n",
       "category_id                                                           NaN   \n",
       "publish_time                                     2018-05-18T14:00:04.000Z   \n",
       "tags                                                               [none]   \n",
       "views                                                                 NaN   \n",
       "likes                                                                 NaN   \n",
       "dislikes                                                              NaN   \n",
       "comment_count                                                         NaN   \n",
       "thumbnail_link             https://i.ytimg.com/vi/j4KvrAUjn6c/default.jpg   \n",
       "comments_disabled                                                   False   \n",
       "ratings_disabled                                                    False   \n",
       "video_error_or_removed                                              False   \n",
       "description             ► Listen LIVE: http://power1051fm.com/\\n► Face...   \n",
       "\n",
       "                         freq            mean             std    min  \\\n",
       "video_id                   30             NaN             NaN    NaN   \n",
       "trending_date             200             NaN             NaN    NaN   \n",
       "title                      30             NaN             NaN    NaN   \n",
       "channel_title             203             NaN             NaN    NaN   \n",
       "category_id               NaN       19.972429        7.568327    1.0   \n",
       "publish_time               50             NaN             NaN    NaN   \n",
       "tags                     1535             NaN             NaN    NaN   \n",
       "views                     NaN  2360784.638257  7394113.759704  549.0   \n",
       "likes                     NaN    74266.702435   228885.338209    0.0   \n",
       "dislikes                  NaN     3711.400889    29029.705945    0.0   \n",
       "comment_count             NaN     8446.803683    37430.486994    0.0   \n",
       "thumbnail_link             30             NaN             NaN    NaN   \n",
       "comments_disabled       40316             NaN             NaN    NaN   \n",
       "ratings_disabled        40780             NaN             NaN    NaN   \n",
       "video_error_or_removed  40926             NaN             NaN    NaN   \n",
       "description                58             NaN             NaN    NaN   \n",
       "\n",
       "                             25%       50%        75%          max  \n",
       "video_id                     NaN       NaN        NaN          NaN  \n",
       "trending_date                NaN       NaN        NaN          NaN  \n",
       "title                        NaN       NaN        NaN          NaN  \n",
       "channel_title                NaN       NaN        NaN          NaN  \n",
       "category_id                 17.0      24.0       25.0         43.0  \n",
       "publish_time                 NaN       NaN        NaN          NaN  \n",
       "tags                         NaN       NaN        NaN          NaN  \n",
       "views                   242329.0  681861.0  1823157.0  225211923.0  \n",
       "likes                     5424.0   18091.0    55417.0    5613827.0  \n",
       "dislikes                   202.0     631.0     1938.0    1674420.0  \n",
       "comment_count              614.0    1856.0     5755.0    1361580.0  \n",
       "thumbnail_link               NaN       NaN        NaN          NaN  \n",
       "comments_disabled            NaN       NaN        NaN          NaN  \n",
       "ratings_disabled             NaN       NaN        NaN          NaN  \n",
       "video_error_or_removed       NaN       NaN        NaN          NaN  \n",
       "description                  NaN       NaN        NaN          NaN  "
      ]
     },
     "metadata": {},
     "output_type": "display_data"
    }
   ],
   "source": [
    "# VOTRE CODE ICI - Section 2.1\n",
    "\n",
    "df= pd.read_csv('USvideos.csv', encoding='utf-8')\n",
    "print(\"Premières lignes:\")\n",
    "display(df.head(1))\n",
    "print(\"\\nInformations générales:\")\n",
    "# <class 'pandas.core.frame.DataFrame'> : - DataFrame → class (le plan fourni par pandas pour créer des tableaux)\n",
    "#                                           DataFrame est la classe : elle définit toutes les méthodes possibles (head(), describe(), shape, info(), etc.).\n",
    "#                                          - df → object (ton tableau concret créé avec ce plan)\n",
    "#                                            df est un objet : tu peux l’utiliser, l’afficher, filtrer des lignes, calculer des moyennes…\n",
    "display(df.info())\n",
    "print(\"Shape:\", df.shape)\n",
    "# Le tableau contient 40949 lignes et 16 colonnes\n",
    "display(df.describe(include='all').transpose())\n",
    "# Avec include='all' on demande à pandas d’essayer d’inclure toutes les colonnes (numériques, texte/objets, dates, booléens, catégories) sinon seulement les colonnes numériques\n",
    "# Avec .transpose(), chaque ligne correspond à une colonne du DataFrame et chaque colonne correspond à une métrique. C’est souvent plus lisible quand tu as beaucoup de colonnes."
   ]
  },
  {
   "cell_type": "markdown",
   "id": "ba03a263",
   "metadata": {},
   "source": [
    "**Consigne 2.2 — Analyse des valeurs manquantes**  \n",
    "- Comptez les valeurs manquantes par colonne  \n",
    "- Identifiez les colonnes avec le plus de valeurs manquantes  \n",
    "- Affichez le pourcentage de valeurs manquantes"
   ]
  },
  {
   "cell_type": "code",
   "execution_count": 165,
   "id": "44aa87cf",
   "metadata": {},
   "outputs": [
    {
     "name": "stdout",
     "output_type": "stream",
     "text": [
      "Valeurs manquantes (nombre):\n"
     ]
    },
    {
     "data": {
      "application/vnd.microsoft.datawrangler.viewer.v0+json": {
       "columns": [
        {
         "name": "index",
         "rawType": "object",
         "type": "string"
        },
        {
         "name": "0",
         "rawType": "int64",
         "type": "integer"
        }
       ],
       "ref": "e9b5c5f9-05b2-452f-ac17-00efe5f6d184",
       "rows": [
        [
         "video_id",
         "0"
        ],
        [
         "trending_date",
         "0"
        ],
        [
         "title",
         "0"
        ],
        [
         "channel_title",
         "0"
        ],
        [
         "category_id",
         "0"
        ],
        [
         "publish_time",
         "0"
        ],
        [
         "tags",
         "0"
        ],
        [
         "views",
         "0"
        ],
        [
         "likes",
         "0"
        ],
        [
         "dislikes",
         "0"
        ],
        [
         "comment_count",
         "0"
        ],
        [
         "thumbnail_link",
         "0"
        ],
        [
         "comments_disabled",
         "0"
        ],
        [
         "ratings_disabled",
         "0"
        ],
        [
         "video_error_or_removed",
         "0"
        ],
        [
         "description",
         "570"
        ]
       ],
       "shape": {
        "columns": 1,
        "rows": 16
       }
      },
      "text/plain": [
       "video_id                    0\n",
       "trending_date               0\n",
       "title                       0\n",
       "channel_title               0\n",
       "category_id                 0\n",
       "publish_time                0\n",
       "tags                        0\n",
       "views                       0\n",
       "likes                       0\n",
       "dislikes                    0\n",
       "comment_count               0\n",
       "thumbnail_link              0\n",
       "comments_disabled           0\n",
       "ratings_disabled            0\n",
       "video_error_or_removed      0\n",
       "description               570\n",
       "dtype: int64"
      ]
     },
     "metadata": {},
     "output_type": "display_data"
    },
    {
     "name": "stdout",
     "output_type": "stream",
     "text": [
      "\n",
      "Valeurs manquantes (pourcentage):\n"
     ]
    },
    {
     "data": {
      "application/vnd.microsoft.datawrangler.viewer.v0+json": {
       "columns": [
        {
         "name": "index",
         "rawType": "object",
         "type": "string"
        },
        {
         "name": "0",
         "rawType": "float64",
         "type": "float"
        }
       ],
       "ref": "e8509739-79fe-4599-bd6d-d88e14292772",
       "rows": [
        [
         "video_id",
         "0.0"
        ],
        [
         "trending_date",
         "0.0"
        ],
        [
         "title",
         "0.0"
        ],
        [
         "channel_title",
         "0.0"
        ],
        [
         "category_id",
         "0.0"
        ],
        [
         "publish_time",
         "0.0"
        ],
        [
         "tags",
         "0.0"
        ],
        [
         "views",
         "0.0"
        ],
        [
         "likes",
         "0.0"
        ],
        [
         "dislikes",
         "0.0"
        ],
        [
         "comment_count",
         "0.0"
        ],
        [
         "thumbnail_link",
         "0.0"
        ],
        [
         "comments_disabled",
         "0.0"
        ],
        [
         "ratings_disabled",
         "0.0"
        ],
        [
         "video_error_or_removed",
         "0.0"
        ],
        [
         "description",
         "1.3919753840142617"
        ]
       ],
       "shape": {
        "columns": 1,
        "rows": 16
       }
      },
      "text/plain": [
       "video_id                  0.000000\n",
       "trending_date             0.000000\n",
       "title                     0.000000\n",
       "channel_title             0.000000\n",
       "category_id               0.000000\n",
       "publish_time              0.000000\n",
       "tags                      0.000000\n",
       "views                     0.000000\n",
       "likes                     0.000000\n",
       "dislikes                  0.000000\n",
       "comment_count             0.000000\n",
       "thumbnail_link            0.000000\n",
       "comments_disabled         0.000000\n",
       "ratings_disabled          0.000000\n",
       "video_error_or_removed    0.000000\n",
       "description               1.391975\n",
       "dtype: float64"
      ]
     },
     "metadata": {},
     "output_type": "display_data"
    }
   ],
   "source": [
    "# VOTRE CODE ICI - Section 2.2\n",
    "# #Valeurs manquantes\n",
    "missing = df.isna().sum() #isna() est similaire à isnull() par contre isna() est la nouvelle convention pandas\n",
    "#Valeurs manquantes en pourcentage = 1.39 % \n",
    "pct_missing = (missing / len(df)) * 100\n",
    "print(\"Valeurs manquantes (nombre):\")\n",
    "display(missing)\n",
    "print(\"\\nValeurs manquantes (pourcentage):\")\n",
    "display(pct_missing)"
   ]
  },
  {
   "cell_type": "markdown",
   "id": "f43660bf",
   "metadata": {},
   "source": [
    "**Consigne 2.3 — Exploration des catégories**  \n",
    "- Chargez le fichier JSON des catégories (`US_category_id.json`)  \n",
    "- Fusionnez avec le DataFrame principal  \n",
    "- Affichez la distribution des catégories\n",
    "\n",
    "*Aide* : La structure JSON est du type:  \n",
    "`{\"items\": [{\"id\": \"1\", \"snippet\": {\"title\": \"Film & Animation\"}}, ...]}`"
   ]
  },
  {
   "cell_type": "code",
   "execution_count": 166,
   "id": "53717a80",
   "metadata": {},
   "outputs": [
    {
     "name": "stdout",
     "output_type": "stream",
     "text": [
      "<class 'pandas.core.series.Series'>\n",
      "<class 'list'>\n"
     ]
    },
    {
     "data": {
      "text/plain": [
       "[{'kind': 'youtube#videoCategory',\n",
       "  'etag': '\"m2yskBQFythfE4irbTIeOgYYfBU/Xy1mB4_yLrHy_BmKmPBggty2mZQ\"',\n",
       "  'id': '1',\n",
       "  'snippet': {'channelId': 'UCBR8-60-B28hp2BmDPdntcQ',\n",
       "   'title': 'Film & Animation',\n",
       "   'assignable': True}},\n",
       " {'kind': 'youtube#videoCategory',\n",
       "  'etag': '\"m2yskBQFythfE4irbTIeOgYYfBU/UZ1oLIIz2dxIhO45ZTFR3a3NyTA\"',\n",
       "  'id': '2',\n",
       "  'snippet': {'channelId': 'UCBR8-60-B28hp2BmDPdntcQ',\n",
       "   'title': 'Autos & Vehicles',\n",
       "   'assignable': True}},\n",
       " {'kind': 'youtube#videoCategory',\n",
       "  'etag': '\"m2yskBQFythfE4irbTIeOgYYfBU/nqRIq97-xe5XRZTxbknKFVe5Lmg\"',\n",
       "  'id': '10',\n",
       "  'snippet': {'channelId': 'UCBR8-60-B28hp2BmDPdntcQ',\n",
       "   'title': 'Music',\n",
       "   'assignable': True}},\n",
       " {'kind': 'youtube#videoCategory',\n",
       "  'etag': '\"m2yskBQFythfE4irbTIeOgYYfBU/HwXKamM1Q20q9BN-oBJavSGkfDI\"',\n",
       "  'id': '15',\n",
       "  'snippet': {'channelId': 'UCBR8-60-B28hp2BmDPdntcQ',\n",
       "   'title': 'Pets & Animals',\n",
       "   'assignable': True}},\n",
       " {'kind': 'youtube#videoCategory',\n",
       "  'etag': '\"m2yskBQFythfE4irbTIeOgYYfBU/9GQMSRjrZdHeb1OEM1XVQ9zbGec\"',\n",
       "  'id': '17',\n",
       "  'snippet': {'channelId': 'UCBR8-60-B28hp2BmDPdntcQ',\n",
       "   'title': 'Sports',\n",
       "   'assignable': True}},\n",
       " {'kind': 'youtube#videoCategory',\n",
       "  'etag': '\"m2yskBQFythfE4irbTIeOgYYfBU/FJwVpGCVZ1yiJrqZbpqe68Sy_OE\"',\n",
       "  'id': '18',\n",
       "  'snippet': {'channelId': 'UCBR8-60-B28hp2BmDPdntcQ',\n",
       "   'title': 'Short Movies',\n",
       "   'assignable': False}},\n",
       " {'kind': 'youtube#videoCategory',\n",
       "  'etag': '\"m2yskBQFythfE4irbTIeOgYYfBU/M-3iD9dwK7YJCafRf_DkLN8CouA\"',\n",
       "  'id': '19',\n",
       "  'snippet': {'channelId': 'UCBR8-60-B28hp2BmDPdntcQ',\n",
       "   'title': 'Travel & Events',\n",
       "   'assignable': True}},\n",
       " {'kind': 'youtube#videoCategory',\n",
       "  'etag': '\"m2yskBQFythfE4irbTIeOgYYfBU/WmA0qYEfjWsAoyJFSw2zinhn2wM\"',\n",
       "  'id': '20',\n",
       "  'snippet': {'channelId': 'UCBR8-60-B28hp2BmDPdntcQ',\n",
       "   'title': 'Gaming',\n",
       "   'assignable': True}},\n",
       " {'kind': 'youtube#videoCategory',\n",
       "  'etag': '\"m2yskBQFythfE4irbTIeOgYYfBU/EapFaGYG7K0StIXVf8aba249tdM\"',\n",
       "  'id': '21',\n",
       "  'snippet': {'channelId': 'UCBR8-60-B28hp2BmDPdntcQ',\n",
       "   'title': 'Videoblogging',\n",
       "   'assignable': False}},\n",
       " {'kind': 'youtube#videoCategory',\n",
       "  'etag': '\"m2yskBQFythfE4irbTIeOgYYfBU/xId8RX7vRN8rqkbYZbNIytUQDRo\"',\n",
       "  'id': '22',\n",
       "  'snippet': {'channelId': 'UCBR8-60-B28hp2BmDPdntcQ',\n",
       "   'title': 'People & Blogs',\n",
       "   'assignable': True}},\n",
       " {'kind': 'youtube#videoCategory',\n",
       "  'etag': '\"m2yskBQFythfE4irbTIeOgYYfBU/G9LHzQmx44rX2S5yaga_Aqtwz8M\"',\n",
       "  'id': '23',\n",
       "  'snippet': {'channelId': 'UCBR8-60-B28hp2BmDPdntcQ',\n",
       "   'title': 'Comedy',\n",
       "   'assignable': True}},\n",
       " {'kind': 'youtube#videoCategory',\n",
       "  'etag': '\"m2yskBQFythfE4irbTIeOgYYfBU/UVB9oxX2Bvqa_w_y3vXSLVK5E_s\"',\n",
       "  'id': '24',\n",
       "  'snippet': {'channelId': 'UCBR8-60-B28hp2BmDPdntcQ',\n",
       "   'title': 'Entertainment',\n",
       "   'assignable': True}},\n",
       " {'kind': 'youtube#videoCategory',\n",
       "  'etag': '\"m2yskBQFythfE4irbTIeOgYYfBU/QiLK0ZIrFoORdk_g2l_XR_ECjDc\"',\n",
       "  'id': '25',\n",
       "  'snippet': {'channelId': 'UCBR8-60-B28hp2BmDPdntcQ',\n",
       "   'title': 'News & Politics',\n",
       "   'assignable': True}},\n",
       " {'kind': 'youtube#videoCategory',\n",
       "  'etag': '\"m2yskBQFythfE4irbTIeOgYYfBU/r6Ck6Z0_L0rG37VJQR200SGNA_w\"',\n",
       "  'id': '26',\n",
       "  'snippet': {'channelId': 'UCBR8-60-B28hp2BmDPdntcQ',\n",
       "   'title': 'Howto & Style',\n",
       "   'assignable': True}},\n",
       " {'kind': 'youtube#videoCategory',\n",
       "  'etag': '\"m2yskBQFythfE4irbTIeOgYYfBU/EoYkczo9I3RCf96RveKTOgOPkUM\"',\n",
       "  'id': '27',\n",
       "  'snippet': {'channelId': 'UCBR8-60-B28hp2BmDPdntcQ',\n",
       "   'title': 'Education',\n",
       "   'assignable': True}},\n",
       " {'kind': 'youtube#videoCategory',\n",
       "  'etag': '\"m2yskBQFythfE4irbTIeOgYYfBU/w5HjcTD82G_XA3xBctS30zS-JpQ\"',\n",
       "  'id': '28',\n",
       "  'snippet': {'channelId': 'UCBR8-60-B28hp2BmDPdntcQ',\n",
       "   'title': 'Science & Technology',\n",
       "   'assignable': True}},\n",
       " {'kind': 'youtube#videoCategory',\n",
       "  'etag': '\"m2yskBQFythfE4irbTIeOgYYfBU/SalkJoBWq_smSEqiAx_qyri6Wa8\"',\n",
       "  'id': '29',\n",
       "  'snippet': {'channelId': 'UCBR8-60-B28hp2BmDPdntcQ',\n",
       "   'title': 'Nonprofits & Activism',\n",
       "   'assignable': True}},\n",
       " {'kind': 'youtube#videoCategory',\n",
       "  'etag': '\"m2yskBQFythfE4irbTIeOgYYfBU/lL7uWDr_071CHxifjYG1tJrp4Uo\"',\n",
       "  'id': '30',\n",
       "  'snippet': {'channelId': 'UCBR8-60-B28hp2BmDPdntcQ',\n",
       "   'title': 'Movies',\n",
       "   'assignable': False}},\n",
       " {'kind': 'youtube#videoCategory',\n",
       "  'etag': '\"m2yskBQFythfE4irbTIeOgYYfBU/WnuVfjO-PyFLO7NTRQIbrGE62nk\"',\n",
       "  'id': '31',\n",
       "  'snippet': {'channelId': 'UCBR8-60-B28hp2BmDPdntcQ',\n",
       "   'title': 'Anime/Animation',\n",
       "   'assignable': False}},\n",
       " {'kind': 'youtube#videoCategory',\n",
       "  'etag': '\"m2yskBQFythfE4irbTIeOgYYfBU/ctpH2hGA_UZ3volJT_FTlOg9M00\"',\n",
       "  'id': '32',\n",
       "  'snippet': {'channelId': 'UCBR8-60-B28hp2BmDPdntcQ',\n",
       "   'title': 'Action/Adventure',\n",
       "   'assignable': False}},\n",
       " {'kind': 'youtube#videoCategory',\n",
       "  'etag': '\"m2yskBQFythfE4irbTIeOgYYfBU/L0kR3-g1BAo5UD1PLVbQ7LkkDtQ\"',\n",
       "  'id': '33',\n",
       "  'snippet': {'channelId': 'UCBR8-60-B28hp2BmDPdntcQ',\n",
       "   'title': 'Classics',\n",
       "   'assignable': False}},\n",
       " {'kind': 'youtube#videoCategory',\n",
       "  'etag': '\"m2yskBQFythfE4irbTIeOgYYfBU/pUZOAC_s9sfiwar639qr_wAB-aI\"',\n",
       "  'id': '34',\n",
       "  'snippet': {'channelId': 'UCBR8-60-B28hp2BmDPdntcQ',\n",
       "   'title': 'Comedy',\n",
       "   'assignable': False}},\n",
       " {'kind': 'youtube#videoCategory',\n",
       "  'etag': '\"m2yskBQFythfE4irbTIeOgYYfBU/Xb5JLhtyNRN3AQq021Ds-OV50Jk\"',\n",
       "  'id': '35',\n",
       "  'snippet': {'channelId': 'UCBR8-60-B28hp2BmDPdntcQ',\n",
       "   'title': 'Documentary',\n",
       "   'assignable': False}},\n",
       " {'kind': 'youtube#videoCategory',\n",
       "  'etag': '\"m2yskBQFythfE4irbTIeOgYYfBU/u8WXzF4HIhtEi805__sqjuA4lEk\"',\n",
       "  'id': '36',\n",
       "  'snippet': {'channelId': 'UCBR8-60-B28hp2BmDPdntcQ',\n",
       "   'title': 'Drama',\n",
       "   'assignable': False}},\n",
       " {'kind': 'youtube#videoCategory',\n",
       "  'etag': '\"m2yskBQFythfE4irbTIeOgYYfBU/D04PP4Gr7wc4IV_O9G66Z4A8KWQ\"',\n",
       "  'id': '37',\n",
       "  'snippet': {'channelId': 'UCBR8-60-B28hp2BmDPdntcQ',\n",
       "   'title': 'Family',\n",
       "   'assignable': False}},\n",
       " {'kind': 'youtube#videoCategory',\n",
       "  'etag': '\"m2yskBQFythfE4irbTIeOgYYfBU/i5-_AceGXQCEEMWU0V8CcQm_vLQ\"',\n",
       "  'id': '38',\n",
       "  'snippet': {'channelId': 'UCBR8-60-B28hp2BmDPdntcQ',\n",
       "   'title': 'Foreign',\n",
       "   'assignable': False}},\n",
       " {'kind': 'youtube#videoCategory',\n",
       "  'etag': '\"m2yskBQFythfE4irbTIeOgYYfBU/rtlxd0zOixA9QHdIZB26-St5qgQ\"',\n",
       "  'id': '39',\n",
       "  'snippet': {'channelId': 'UCBR8-60-B28hp2BmDPdntcQ',\n",
       "   'title': 'Horror',\n",
       "   'assignable': False}},\n",
       " {'kind': 'youtube#videoCategory',\n",
       "  'etag': '\"m2yskBQFythfE4irbTIeOgYYfBU/N1TrDFLRppxZgBowCJfJCvh0Dpg\"',\n",
       "  'id': '40',\n",
       "  'snippet': {'channelId': 'UCBR8-60-B28hp2BmDPdntcQ',\n",
       "   'title': 'Sci-Fi/Fantasy',\n",
       "   'assignable': False}},\n",
       " {'kind': 'youtube#videoCategory',\n",
       "  'etag': '\"m2yskBQFythfE4irbTIeOgYYfBU/7UMGi6zRySqXopr_rv4sZq6Za2E\"',\n",
       "  'id': '41',\n",
       "  'snippet': {'channelId': 'UCBR8-60-B28hp2BmDPdntcQ',\n",
       "   'title': 'Thriller',\n",
       "   'assignable': False}},\n",
       " {'kind': 'youtube#videoCategory',\n",
       "  'etag': '\"m2yskBQFythfE4irbTIeOgYYfBU/RScXhi324h8usyIetreAVb-uKeM\"',\n",
       "  'id': '42',\n",
       "  'snippet': {'channelId': 'UCBR8-60-B28hp2BmDPdntcQ',\n",
       "   'title': 'Shorts',\n",
       "   'assignable': False}},\n",
       " {'kind': 'youtube#videoCategory',\n",
       "  'etag': '\"m2yskBQFythfE4irbTIeOgYYfBU/0n9MJVCDLpA8q7aiGVrFsuFsd0A\"',\n",
       "  'id': '43',\n",
       "  'snippet': {'channelId': 'UCBR8-60-B28hp2BmDPdntcQ',\n",
       "   'title': 'Shows',\n",
       "   'assignable': False}},\n",
       " {'kind': 'youtube#videoCategory',\n",
       "  'etag': '\"m2yskBQFythfE4irbTIeOgYYfBU/x5NxSf5fz8hn4loSN4rvhwzD_pY\"',\n",
       "  'id': '44',\n",
       "  'snippet': {'channelId': 'UCBR8-60-B28hp2BmDPdntcQ',\n",
       "   'title': 'Trailers',\n",
       "   'assignable': False}}]"
      ]
     },
     "metadata": {},
     "output_type": "display_data"
    },
    {
     "name": "stdout",
     "output_type": "stream",
     "text": [
      "{1: 'Film & Animation', 2: 'Autos & Vehicles', 10: 'Music', 15: 'Pets & Animals', 17: 'Sports', 18: 'Short Movies', 19: 'Travel & Events', 20: 'Gaming', 21: 'Videoblogging', 22: 'People & Blogs', 23: 'Comedy', 24: 'Entertainment', 25: 'News & Politics', 26: 'Howto & Style', 27: 'Education', 28: 'Science & Technology', 29: 'Nonprofits & Activism', 30: 'Movies', 31: 'Anime/Animation', 32: 'Action/Adventure', 33: 'Classics', 34: 'Comedy', 35: 'Documentary', 36: 'Drama', 37: 'Family', 38: 'Foreign', 39: 'Horror', 40: 'Sci-Fi/Fantasy', 41: 'Thriller', 42: 'Shorts', 43: 'Shows', 44: 'Trailers'}\n",
      "Distribution des catégories:\n"
     ]
    },
    {
     "data": {
      "application/vnd.microsoft.datawrangler.viewer.v0+json": {
       "columns": [
        {
         "name": "category_title",
         "rawType": "object",
         "type": "string"
        },
        {
         "name": "count",
         "rawType": "int64",
         "type": "integer"
        }
       ],
       "ref": "fb422bb6-f602-44ce-bf9f-e55fffeb15ca",
       "rows": [
        [
         "Entertainment",
         "9964"
        ],
        [
         "Music",
         "6472"
        ],
        [
         "Howto & Style",
         "4146"
        ],
        [
         "Comedy",
         "3457"
        ],
        [
         "People & Blogs",
         "3210"
        ],
        [
         "News & Politics",
         "2487"
        ],
        [
         "Science & Technology",
         "2401"
        ],
        [
         "Film & Animation",
         "2345"
        ],
        [
         "Sports",
         "2174"
        ],
        [
         "Education",
         "1656"
        ],
        [
         "Pets & Animals",
         "920"
        ],
        [
         "Gaming",
         "817"
        ],
        [
         "Travel & Events",
         "402"
        ],
        [
         "Autos & Vehicles",
         "384"
        ],
        [
         "Nonprofits & Activism",
         "57"
        ],
        [
         "Shows",
         "57"
        ]
       ],
       "shape": {
        "columns": 1,
        "rows": 16
       }
      },
      "text/html": [
       "<div>\n",
       "<style scoped>\n",
       "    .dataframe tbody tr th:only-of-type {\n",
       "        vertical-align: middle;\n",
       "    }\n",
       "\n",
       "    .dataframe tbody tr th {\n",
       "        vertical-align: top;\n",
       "    }\n",
       "\n",
       "    .dataframe thead th {\n",
       "        text-align: right;\n",
       "    }\n",
       "</style>\n",
       "<table border=\"1\" class=\"dataframe\">\n",
       "  <thead>\n",
       "    <tr style=\"text-align: right;\">\n",
       "      <th></th>\n",
       "      <th>count</th>\n",
       "    </tr>\n",
       "    <tr>\n",
       "      <th>category_title</th>\n",
       "      <th></th>\n",
       "    </tr>\n",
       "  </thead>\n",
       "  <tbody>\n",
       "    <tr>\n",
       "      <th>Entertainment</th>\n",
       "      <td>9964</td>\n",
       "    </tr>\n",
       "    <tr>\n",
       "      <th>Music</th>\n",
       "      <td>6472</td>\n",
       "    </tr>\n",
       "    <tr>\n",
       "      <th>Howto &amp; Style</th>\n",
       "      <td>4146</td>\n",
       "    </tr>\n",
       "    <tr>\n",
       "      <th>Comedy</th>\n",
       "      <td>3457</td>\n",
       "    </tr>\n",
       "    <tr>\n",
       "      <th>People &amp; Blogs</th>\n",
       "      <td>3210</td>\n",
       "    </tr>\n",
       "    <tr>\n",
       "      <th>News &amp; Politics</th>\n",
       "      <td>2487</td>\n",
       "    </tr>\n",
       "    <tr>\n",
       "      <th>Science &amp; Technology</th>\n",
       "      <td>2401</td>\n",
       "    </tr>\n",
       "    <tr>\n",
       "      <th>Film &amp; Animation</th>\n",
       "      <td>2345</td>\n",
       "    </tr>\n",
       "    <tr>\n",
       "      <th>Sports</th>\n",
       "      <td>2174</td>\n",
       "    </tr>\n",
       "    <tr>\n",
       "      <th>Education</th>\n",
       "      <td>1656</td>\n",
       "    </tr>\n",
       "    <tr>\n",
       "      <th>Pets &amp; Animals</th>\n",
       "      <td>920</td>\n",
       "    </tr>\n",
       "    <tr>\n",
       "      <th>Gaming</th>\n",
       "      <td>817</td>\n",
       "    </tr>\n",
       "    <tr>\n",
       "      <th>Travel &amp; Events</th>\n",
       "      <td>402</td>\n",
       "    </tr>\n",
       "    <tr>\n",
       "      <th>Autos &amp; Vehicles</th>\n",
       "      <td>384</td>\n",
       "    </tr>\n",
       "    <tr>\n",
       "      <th>Nonprofits &amp; Activism</th>\n",
       "      <td>57</td>\n",
       "    </tr>\n",
       "    <tr>\n",
       "      <th>Shows</th>\n",
       "      <td>57</td>\n",
       "    </tr>\n",
       "  </tbody>\n",
       "</table>\n",
       "</div>"
      ],
      "text/plain": [
       "                       count\n",
       "category_title              \n",
       "Entertainment           9964\n",
       "Music                   6472\n",
       "Howto & Style           4146\n",
       "Comedy                  3457\n",
       "People & Blogs          3210\n",
       "News & Politics         2487\n",
       "Science & Technology    2401\n",
       "Film & Animation        2345\n",
       "Sports                  2174\n",
       "Education               1656\n",
       "Pets & Animals           920\n",
       "Gaming                   817\n",
       "Travel & Events          402\n",
       "Autos & Vehicles         384\n",
       "Nonprofits & Activism     57\n",
       "Shows                     57"
      ]
     },
     "metadata": {},
     "output_type": "display_data"
    }
   ],
   "source": [
    "# VOTRE CODE ICI - Section 2.3\n",
    "import pandas as pd\n",
    "import json\n",
    "categories_raw = pd.read_json('US_category_id.json') # Transforme le fichier Json imbriqué en DataFrame\n",
    "print(type(categories_raw['items'])) # type series Pandas (colonne d'un tableau avec son index): on peut utiliser certaine méthode : .mean(), .describe(), .isna()\n",
    "items = categories_raw['items'].tolist() # Transforme une Series pandas (colonne avec index) en liste Python (juste les valeurs, plus simple).\n",
    "print(type(items)) # liste Python = juste les valeurs, sans index, sans méthodes pandas avancées : Pas de .mean(), .describe(), .isna() sur une liste → tu dois tout programmer toi-même.\n",
    "display(items)\n",
    "category_dict = {int(item['id']): item['snippet']['title'] for item in items} # On transforme la clé item['id']string en int, ensuite on boucle afin d'extraire chaque valeur item['title'] et son ID\n",
    "print(category_dict)\n",
    "cat_df = pd.DataFrame(list(category_dict.items()), columns=['category_id', 'category_title'])\n",
    "\n",
    "        # .items() → récupère toutes les paires clé/valeur d’un dictionnaire.\n",
    "        # list(...) → transforme ça en une liste de tuples.\n",
    "        # pd.DataFrame(...) → transforme cette liste en tableau (DataFrame).\n",
    "        # columns=[...] → donne des noms clairs aux colonnes.\n",
    "        # Donc au lieu d’avoir un dictionnaire, on a un tableau pandas prêt pour l’analyse de données.\n",
    "\"\"\"\n",
    "dict = parfait pour accéder rapidement à une valeur avec une clé.\n",
    "DataFrame = parfait pour analyser, trier, fusionner avec d’autres données.\n",
    "Un DataFrame pandas est comme une table Excel :tu peux trier,filtrer,fusionner avec d’autres données,sauvegarder facilement en CSV, JSON, SQL, etc.\n",
    "category_dict = version “Python pure” (rapide, simple)\n",
    "cat_df = version “pandas” (prête pour l’analyse et la manipulation tabulaire)\n",
    "On fait ça car pandas travaille avec des DataFrames.\"\"\"\n",
    "\n",
    "df_merged = df.merge(       # Prends df, on lui ajoute les colonnes de cat_df en utilisant la correspondance entre les category_id.\n",
    "    cat_df,                 # le tableau avec lequel on fusionne\n",
    "    how='left',             # type de jointure\n",
    "    left_on='category_id',  # table de gauche\n",
    "    right_on='category_id'  # table de droite\n",
    "    )\n",
    "\n",
    "print(\"Distribution des catégories:\")\n",
    "display(df_merged['category_title'] # on veut un tableau qui te dit combien de vidéos par catégorie\n",
    "        .value_counts()             # fait un dénombrement des valeurs uniques sur category_title.\n",
    "        .to_frame('count')          # transforme le résultat en DataFrame avec une colonne nommée \"count\".\n",
    "        )\n"
   ]
  },
  {
   "cell_type": "markdown",
   "id": "7f86ba1a",
   "metadata": {},
   "source": [
    "## 3. Nettoyage des données"
   ]
  },
  {
   "cell_type": "markdown",
   "id": "981825a0",
   "metadata": {},
   "source": [
    "**Consigne 3.1 — Nettoyage des données**\n",
    "- Supprimez les doublons basés sur `video_id`  \n",
    "- Gérez les valeurs manquantes dans `description` (remplacez par string vide)  \n",
    "- Convertissez `publish_time` en datetime  \n",
    "- Supprimez les lignes avec des valeurs aberrantes (ex: `views` négatives)"
   ]
  },
  {
   "cell_type": "code",
   "execution_count": 167,
   "id": "4966e9d4",
   "metadata": {},
   "outputs": [
    {
     "name": "stdout",
     "output_type": "stream",
     "text": [
      "object\n",
      "category_id      0\n",
      "views            0\n",
      "likes            0\n",
      "dislikes         0\n",
      "comment_count    0\n",
      "dtype: int64\n"
     ]
    }
   ],
   "source": [
    "# VOTRE CODE ICI - Section 3.1\n",
    "df_clean = df_merged.drop_duplicates(subset='video_id').copy() # Supprimez les doublons basés sur `video_id` \n",
    "df_clean['description'] = df_clean['description'].fillna('') # Remplacer les valeurs manquantes de la colonne description par une string vide\n",
    "\n",
    "\"\"\" Actuellement le format actuelle sur df_clean est sous forme : 2017-11-13T17:13:01.000Z, c'est le format format ISO 8601. \n",
    "    Pandas le considère comme un objet. \n",
    "    Pour faire des calculs sur les dates (trier, filtrer, extraire l’année, le mois…), il faut la convertir en datetime.\n",
    "\"\"\"\n",
    "print(df_clean['publish_time'].dtype)\n",
    "\n",
    "# Convertissez `publish_time` en datetime  \n",
    "df_clean['publish_time'] =  pd.to_datetime(df_clean['publish_time'], errors='coerce') \n",
    "\"\"\"\n",
    "errors='coerce' est très utile pour : \n",
    "- Nettoyer des colonnes numériques avec des chaînes “sales”. \n",
    "- Transformer des dates mal formatées en datetime  Ex: [\"2023-01-01\", \"invalide\", \"2023-03-15\"] -> 2023-01-01 NaT(Not a Time) 2023-03-15.\n",
    "- Eviter que pandas bloque avec une erreur.\n",
    "\n",
    "\"\"\"\n",
    "df_clean = df_clean.dropna(subset=['publish_time']) # sert à supprimmer les lignes où publish_time est manquant (NaT après conversion en datetime).\n",
    "\n",
    "# Supprimez les lignes avec des valeurs aberrantes (ex: `views` négatives)\n",
    "df_clean = df_clean[(df_clean['views'] >= 0) & (df_clean['likes'] >= 0) & (df_clean['dislikes'] >= 0) & (df_clean['comment_count'] >= 0)]\n",
    "print((df_clean.select_dtypes(include='number') < 0).sum()) #On vérifie dans les colonnes de type number s'il y'a des valeurs négatifs\n",
    "\n"
   ]
  },
  {
   "cell_type": "markdown",
   "id": "f6c110ca",
   "metadata": {},
   "source": [
    "## 4. Feature Engineering\n",
    "\n",
    "Le Feature Engineering (ou création de variables) est l’art de transformer et enrichir les données brutes pour que les modèles de Machine Learning puissent mieux apprendre.\n",
    "\n",
    "Pourquoi c’est important ?\n",
    "- Les modèles ne comprennent que les nombres. Ils ne savent pas deviner des relations ou des patterns complexes dans des colonnes brutes (ex : des   \n",
    "  dates, des textes ou des catégories).\n",
    "\n",
    "- De bonnes features améliorent la performance du modèle.\n",
    "\n",
    "- De mauvaises features peuvent faire baisser la précision ou même tromper le modèle."
   ]
  },
  {
   "cell_type": "markdown",
   "id": "460ce78b",
   "metadata": {},
   "source": [
    "**Consigne 4.1 — Variables d'engagement**\n",
    "** définition : https://support.google.com/youtube/answer/2991785?hl=fr**\n",
    "\n",
    "Les métriques d'engagement sur YouTube (vues, \"J'aime\", \"Je n'aime pas\" et abonnements) représentent le nombre d'interactions enregistrées sur une vidéo ou une chaîne. Elles constituent un indicateur important pour mesurer la popularité générale de votre vidéo ou de votre chaîne."
   ]
  },
  {
   "cell_type": "code",
   "execution_count": 168,
   "id": "eab13049",
   "metadata": {},
   "outputs": [
    {
     "data": {
      "application/vnd.microsoft.datawrangler.viewer.v0+json": {
       "columns": [
        {
         "name": "index",
         "rawType": "int64",
         "type": "integer"
        },
        {
         "name": "video_id",
         "rawType": "object",
         "type": "string"
        },
        {
         "name": "trending_date",
         "rawType": "object",
         "type": "string"
        },
        {
         "name": "title",
         "rawType": "object",
         "type": "string"
        },
        {
         "name": "channel_title",
         "rawType": "object",
         "type": "string"
        },
        {
         "name": "category_id",
         "rawType": "int64",
         "type": "integer"
        },
        {
         "name": "publish_time",
         "rawType": "datetime64[ns, UTC]",
         "type": "unknown"
        },
        {
         "name": "tags",
         "rawType": "object",
         "type": "string"
        },
        {
         "name": "views",
         "rawType": "int64",
         "type": "integer"
        },
        {
         "name": "likes",
         "rawType": "int64",
         "type": "integer"
        },
        {
         "name": "dislikes",
         "rawType": "int64",
         "type": "integer"
        },
        {
         "name": "comment_count",
         "rawType": "int64",
         "type": "integer"
        },
        {
         "name": "thumbnail_link",
         "rawType": "object",
         "type": "string"
        },
        {
         "name": "comments_disabled",
         "rawType": "bool",
         "type": "boolean"
        },
        {
         "name": "ratings_disabled",
         "rawType": "bool",
         "type": "boolean"
        },
        {
         "name": "video_error_or_removed",
         "rawType": "bool",
         "type": "boolean"
        },
        {
         "name": "description",
         "rawType": "object",
         "type": "string"
        },
        {
         "name": "category_title",
         "rawType": "object",
         "type": "string"
        },
        {
         "name": "like_ratio",
         "rawType": "float64",
         "type": "float"
        },
        {
         "name": "engagement_rate",
         "rawType": "float64",
         "type": "float"
        },
        {
         "name": "comments_per_view",
         "rawType": "float64",
         "type": "float"
        }
       ],
       "ref": "1588e6f2-3ca1-4e7d-96cc-86145fd9dac8",
       "rows": [
        [
         "0",
         "2kyS6SvSYSE",
         "17.14.11",
         "WE WANT TO TALK ABOUT OUR MARRIAGE",
         "CaseyNeistat",
         "22",
         "2017-11-13 17:13:01+00:00",
         "SHANtell martin",
         "748374",
         "57527",
         "2966",
         "15954",
         "https://i.ytimg.com/vi/2kyS6SvSYSE/default.jpg",
         "False",
         "False",
         "False",
         "SHANTELL'S CHANNEL - https://www.youtube.com/shantellmartin\\nCANDICE - https://www.lovebilly.com\\n\\nfilmed this video in 4k on this -- http://amzn.to/2sTDnRZ\\nwith this lens -- http://amzn.to/2rUJOmD\\nbig drone - http://tinyurl.com/h4ft3oy\\nOTHER GEAR ---  http://amzn.to/2o3GLX5\\nSony CAMERA http://amzn.to/2nOBmnv\\nOLD CAMERA; http://amzn.to/2o2cQBT\\nMAIN LENS; http://amzn.to/2od5gBJ\\nBIG SONY CAMERA; http://amzn.to/2nrdJRO\\nBIG Canon CAMERA; http://tinyurl.com/jn4q4vz\\nBENDY TRIPOD THING; http://tinyurl.com/gw3ylz2\\nYOU NEED THIS FOR THE BENDY TRIPOD; http://tinyurl.com/j8mzzua\\nWIDE LENS; http://tinyurl.com/jkfcm8t\\nMORE EXPENSIVE WIDE LENS; http://tinyurl.com/zrdgtou\\nSMALL CAMERA; http://tinyurl.com/hrrzhor\\nMICROPHONE; http://tinyurl.com/zefm4jy\\nOTHER MICROPHONE; http://tinyurl.com/jxgpj86\\nOLD DRONE (cheaper but still great);http://tinyurl.com/zcfmnmd\\n\\nfollow me; on http://instagram.com/caseyneistat\\non https://www.facebook.com/cneistat\\non https://twitter.com/CaseyNeistat\\n\\namazing intro song by https://soundcloud.com/discoteeth\\n\\nad disclosure.  THIS IS NOT AN AD.  not selling or promoting anything.  but samsung did produce the Shantell Video as a 'GALAXY PROJECT' which is an initiative that enables creators like Shantell and me to make projects we might otherwise not have the opportunity to make.  hope that's clear.  if not ask in the comments and i'll answer any specifics.",
         "People & Blogs",
         "0.9509695336650521",
         "0.10215079625962406",
         "0.021318217896399365"
        ],
        [
         "1",
         "1ZAPwfrtAFY",
         "17.14.11",
         "The Trump Presidency: Last Week Tonight with John Oliver (HBO)",
         "LastWeekTonight",
         "24",
         "2017-11-13 07:30:00+00:00",
         "last week tonight trump presidency|\"last week tonight donald trump\"|\"john oliver trump\"|\"donald trump\"",
         "2418783",
         "97185",
         "6146",
         "12703",
         "https://i.ytimg.com/vi/1ZAPwfrtAFY/default.jpg",
         "False",
         "False",
         "False",
         "One year after the presidential election, John Oliver discusses what we've learned so far and enlists our catheter cowboy to teach Donald Trump what he hasn't.\\n\\nConnect with Last Week Tonight online...\\n\\nSubscribe to the Last Week Tonight YouTube channel for more almost news as it almost happens: www.youtube.com/user/LastWeekTonight\\n\\nFind Last Week Tonight on Facebook like your mom would: http://Facebook.com/LastWeekTonight\\n\\nFollow us on Twitter for news about jokes and jokes about news: http://Twitter.com/LastWeekTonight\\n\\nVisit our official site for all that other stuff at once: http://www.hbo.com/lastweektonight",
         "Entertainment",
         "0.9405212375763323",
         "0.04797205867578859",
         "0.005251814652244536"
        ],
        [
         "2",
         "5qpjK5DgCt4",
         "17.14.11",
         "Racist Superman | Rudy Mancuso, King Bach & Lele Pons",
         "Rudy Mancuso",
         "23",
         "2017-11-12 19:05:24+00:00",
         "racist superman|\"rudy\"|\"mancuso\"|\"king\"|\"bach\"|\"racist\"|\"superman\"|\"love\"|\"rudy mancuso poo bear black white official music video\"|\"iphone x by pineapple\"|\"lelepons\"|\"hannahstocking\"|\"rudymancuso\"|\"inanna\"|\"anwar\"|\"sarkis\"|\"shots\"|\"shotsstudios\"|\"alesso\"|\"anitta\"|\"brazil\"|\"Getting My Driver's License | Lele Pons\"",
         "3191434",
         "146033",
         "5339",
         "8181",
         "https://i.ytimg.com/vi/5qpjK5DgCt4/default.jpg",
         "False",
         "False",
         "False",
         "WATCH MY PREVIOUS VIDEO ▶ \\n\\nSUBSCRIBE ► https://www.youtube.com/channel/UC5jkXpfnBhlDjqh0ir5FsIQ?sub_confirmation=1\\n\\nTHANKS FOR WATCHING! LIKE & SUBSCRIBE FOR MORE VIDEOS!\\n-----------------------------------------------------------\\nFIND ME ON: \\nInstagram | http://instagram.com/rudymancuso\\nTwitter | http://twitter.com/rudymancuso\\nFacebook | http://facebook.com/rudymancuso\\n\\nCAST: \\nRudy Mancuso | http://youtube.com/c/rudymancuso\\nLele Pons | http://youtube.com/c/lelepons\\nKing Bach | https://youtube.com/user/BachelorsPadTv\\n\\nVideo Effects: \\nCaleb Natale | https://instagram.com/calebnatale\\n\\nPA:\\nPaulina Gregory\\n\\n\\nShots Studios Channels:\\nAlesso | https://youtube.com/c/alesso\\nAnitta | http://youtube.com/c/anitta\\nAnwar Jibawi | http://youtube.com/c/anwar\\nAwkward Puppets | http://youtube.com/c/awkwardpuppets\\nHannah Stocking | http://youtube.com/c/hannahstocking\\nInanna Sarkis | http://youtube.com/c/inanna\\nLele Pons | http://youtube.com/c/lelepons\\nMaejor | http://youtube.com/c/maejor\\nMike Tyson | http://youtube.com/c/miketyson \\nRudy Mancuso | http://youtube.com/c/rudymancuso\\nShots Studios | http://youtube.com/c/shots\\n\\n#Rudy\\n#RudyMancuso",
         "Comedy",
         "0.9647292762201728",
         "0.049994140565024985",
         "0.002563424466869751"
        ],
        [
         "3",
         "puqaWrEC7tY",
         "17.14.11",
         "Nickelback Lyrics: Real or Fake?",
         "Good Mythical Morning",
         "24",
         "2017-11-13 11:00:04+00:00",
         "rhett and link|\"gmm\"|\"good mythical morning\"|\"rhett and link good mythical morning\"|\"good mythical morning rhett and link\"|\"mythical morning\"|\"Season 12\"|\"nickelback lyrics\"|\"nickelback lyrics real or fake\"|\"nickelback\"|\"nickelback songs\"|\"nickelback song\"|\"rhett link nickelback\"|\"gmm nickelback\"|\"lyrics (website category)\"|\"nickelback (musical group)\"|\"rock\"|\"music\"|\"lyrics\"|\"chad kroeger\"|\"canada\"|\"music (industry)\"|\"mythical\"|\"gmm challenge\"|\"comedy\"|\"funny\"|\"challenge\"",
         "343168",
         "10172",
         "666",
         "2146",
         "https://i.ytimg.com/vi/puqaWrEC7tY/default.jpg",
         "False",
         "False",
         "False",
         "Today we find out if Link is a Nickelback amateur or a secret Nickelback devotee. GMM #1218\\nDon't miss an all new Ear Biscuits: https://goo.gl/xeZNQt\\nWatch Part 4: https://youtu.be/MhCdiiB8CQg | Watch Part 2: https://youtu.be/7qiOrNao9fg\\nWatch today's episode from the start: http://bit.ly/GMM1218\\n\\nPick up all of the official GMM merch only at https://mythical.store\\n\\nFollow Rhett & Link: \\nInstagram: https://instagram.com/rhettandlink\\nFacebook: https://facebook.com/rhettandlink\\nTwitter: https://twitter.com/rhettandlink\\nTumblr: https://rhettandlink.tumblr.com\\nSnapchat: @realrhettlink\\nWebsite: https://mythical.co/\\n\\nCheck Out Our Other Mythical Channels:\\nGood Mythical MORE: https://youtube.com/goodmythicalmore\\nRhett & Link: https://youtube.com/rhettandlink\\nThis Is Mythical: https://youtube.com/thisismythical\\nEar Biscuits: https://applepodcasts.com/earbiscuits\\n\\nWant to send us something? https://mythical.co/contact\\nHave you made a Wheel of Mythicality intro video? Submit it here: https://bit.ly/GMMWheelIntro\\n\\nIntro Animation by Digital Twigs: https://www.digitaltwigs.com\\nIntro & Outro Music by Jeff Zeigler & Sarah Schimeneck https://www.jeffzeigler.com\\nWheel of Mythicality theme: https://www.royaltyfreemusiclibrary.com/\\nAll Supplemental Music fromOpus 1 Music: https://opus1.sourceaudio.com/\\nWe use ‘The Mouse’ by Blue Microphones https://www.bluemic.com/mouse/",
         "Entertainment",
         "0.938549547887064",
         "0.03783569563595662",
         "0.006253496829541198"
        ],
        [
         "4",
         "d380meD0W0M",
         "17.14.11",
         "I Dare You: GOING BALD!?",
         "nigahiga",
         "24",
         "2017-11-12 18:01:41+00:00",
         "ryan|\"higa\"|\"higatv\"|\"nigahiga\"|\"i dare you\"|\"idy\"|\"rhpc\"|\"dares\"|\"no truth\"|\"comments\"|\"comedy\"|\"funny\"|\"stupid\"|\"fail\"",
         "2095731",
         "132235",
         "1989",
         "17518",
         "https://i.ytimg.com/vi/d380meD0W0M/default.jpg",
         "False",
         "False",
         "False",
         "I know it's been a while since we did this show, but we're back with what might be the best episode yet!\\nLeave your dares in the comment section! \\n\\nOrder my book how to write good \\nhttp://higatv.com/ryan-higas-how-to-write-good-pre-order-links/\\n\\nJust Launched New Official Store\\nhttps://www.gianthugs.com/collections/ryan\\n\\nHigaTV Channel\\nhttp://www.youtube.com/higatv\\n\\nTwitter\\nhttp://www.twitter.com/therealryanhiga\\n\\nFacebook\\nhttp://www.facebook.com/higatv\\n\\nWebsite\\nhttp://www.higatv.com\\n\\nInstagram\\nhttp://www.instagram.com/notryanhiga\\n\\nSend us mail or whatever you want here!\\nPO Box 232355\\nLas Vegas, NV 89105",
         "Entertainment",
         "0.9851814876624151",
         "0.07240528483855987",
         "0.00835889720579597"
        ],
        [
         "5",
         "gHZ1Qz0KiKM",
         "17.14.11",
         "2 Weeks with iPhone X",
         "iJustine",
         "28",
         "2017-11-13 19:07:23+00:00",
         "ijustine|\"week with iPhone X\"|\"iphone x\"|\"apple\"|\"iphone\"|\"iphone x review\"|\"iphone x unboxing\"",
         "119180",
         "9763",
         "511",
         "1434",
         "https://i.ytimg.com/vi/gHZ1Qz0KiKM/default.jpg",
         "False",
         "False",
         "False",
         "Using the iPhone for the past two weeks -- here's my thoughts!\\nAll my iPhone X Videos: https://www.youtube.com/watch?v=vqztGUwhRlQ&list=PLoYRB6C09WUDbCndtEDELX-Fpk_pgATvF\\n► SUBSCRIBE FOR MORE VIDEOS: http://www.youtube.com/subscription_center?add_user=ijustine\\n► Get my BOOK! http://ijustinebook.com\\n► Get my iOS 10 STICKERS! http://ijustinestickers.com\\n\\n▼ SOCIAL\\nhttp://instagram.com/ijustine\\nhttp://facebook.com/ijustine\\nhttp://twitter.com/ijustine\\nSnapchat: iJustine\\n\\n————————————\\n\\n▼ STUFF I USE TO MAKE VIDEOS\\n\\nSony rx100 V - http://amzn.to/2jesbxA\\nG7X ii - http://amzn.to/2f6n2Bs\\nCanon 80D - http://amzn.to/2eRKhQo\\nSony A7s ii - http://amzn.to/2ebLR16\\nSony a6500 - http://amzn.to/2okeG2a\\nGoPro Hero 5 - http://amzn.to/2e1KyhM\\nGoPro Hero 5 Session - http://amzn.to/2oksMQT\\nEpidemic Sound - https://goo.gl/Pe7GTL \\n\\nFavorite lenses: \\nCanon EF 24-70mm - http://amzn.to/2dT7mFr\\nCanon EF-S 10-18mm - http://amzn.to/2dT62SU\\nSony 16-35mm (full frame) - http://amzn.to/2ftPaTf\\nSony Distagon 35mm (full frame) - http://amzn.to/2oB0XQj\\nSony 10-18mm wide angle - http://amzn.to/2e1Myqz\\n\\nRode Small on camera microphone - http://amzn.to/2fkiVGJ\\nRode Larger (battery required) microphone - http://amzn.to/2ftNkl8\\nSony XLR adapter Microphone - http://amzn.to/2kCcIDH\\nSmall Sony Microphone - http://amzn.to/2oX7Eih\\n\\nFavorite SD Card - http://amzn.to/2oWRGoD\\n\\nDJI Mavic Pro - http://amzn.to/2f6nL5E\\nPhantom 4 Pro - http://amzn.to/2pbDrN1\\nPhantom 4 Pro Plus  - http://amzn.to/2oX63Jz",
         "Science & Technology",
         "0.9502627992992019",
         "0.09823795938915843",
         "0.012032220171169557"
        ],
        [
         "6",
         "39idVpFF7NQ",
         "17.14.11",
         "Roy Moore & Jeff Sessions Cold Open - SNL",
         "Saturday Night Live",
         "24",
         "2017-11-12 05:37:17+00:00",
         "SNL|\"Saturday Night Live\"|\"SNL Season 43\"|\"Episode 1730\"|\"Tiffany Haddish\"|\"Roy Moore\"|\"Mikey Day\"|\"Mike Pence\"|\"Beck Bennett\"|\"Jeff Sessions\"|\"Kate McKinnon\"|\"s43\"|\"s43e5\"|\"episode 5\"|\"live\"|\"new york\"|\"comedy\"|\"sketch\"|\"funny\"|\"hilarious\"|\"late night\"|\"host\"|\"music\"|\"guest\"|\"laugh\"|\"impersonation\"|\"actor\"|\"improv\"|\"musician\"|\"comedian\"|\"actress\"|\"If Loving You Is Wrong\"|\"Oprah Winfrey\"|\"OWN\"|\"Girls Trip\"|\"The Carmichael Show\"|\"Keanu\"|\"Taylor Swift\"|\"Reputation\"|\"Look What You Made Me Do\"|\"ready for it?\"|\"cold open\"",
         "2103417",
         "15993",
         "2445",
         "1970",
         "https://i.ytimg.com/vi/39idVpFF7NQ/default.jpg",
         "False",
         "False",
         "False",
         "Embattled Alabama Senate candidate Roy Moore (Mikey Day) meets with Vice President Mike Pence (Beck Bennett) and Attorney General Jeff Sessions (Kate McKinnon).\\n\\n#SNL #SNL43\\n\\nGet more SNL: http://www.nbc.com/saturday-night-live\\nFull Episodes: http://www.nbc.com/saturday-night-liv...\\n\\nLike SNL: https://www.facebook.com/snl\\nFollow SNL: https://twitter.com/nbcsnl\\nSNL Tumblr: http://nbcsnl.tumblr.com/\\nSNL Instagram: http://instagram.com/nbcsnl \\nSNL Pinterest: http://www.pinterest.com/nbcsnl/",
         "Entertainment",
         "0.8673934266189391",
         "0.009702308196615312",
         "0.0009365713027896985"
        ],
        [
         "7",
         "nc99ccSXST0",
         "17.14.11",
         "5 Ice Cream Gadgets put to the Test",
         "CrazyRussianHacker",
         "28",
         "2017-11-12 21:50:37+00:00",
         "5 Ice Cream Gadgets|\"Ice Cream\"|\"Cream Sandwich Maker\"|\"gadgets\"|\"gadget review\"|\"review\"|\"unboxing\"|\"kitchen gadgets\"|\"Gadgets put to the Test\"|\"testing\"|\"10 Kitchen Gadgets\"|\"7 Camping Coffee Gadgets\"|\"10 Kitchen Gadgets put to the Test\"",
         "817732",
         "23663",
         "778",
         "3432",
         "https://i.ytimg.com/vi/nc99ccSXST0/default.jpg",
         "False",
         "False",
         "False",
         "Ice Cream Pint Combination Lock - http://amzn.to/2ACipdI\\nMini Ice Cream Sandwich Maker - http://amzn.to/2ACiX3g\\nMotorized Ice Cream Cone - http://amzn.to/2jkrYdg\\nBall Ice Cream Maker - http://amzn.to/2AEbtwE\\nScoop and Stack - http://amzn.to/2zEMhGo\\n\\nSubscribe to: \\n2nd channel - https://www.youtube.com/user/origami768\\ninstagram https://instagram.com/crazyrussianhacker/\\nfacebook - https://www.facebook.com/CrazyRussianHacker\\n\\nDON'T TRY THIS AT HOME!\\n\\nBusiness email: crh.inquire@gmail.com\\n\\nFAN MAIL:  \\nCRAZY RUSSIAN HACKER\\nP.O. Box 49\\nWaynesville, NC 28786\\n\\nDISCLAIMER: In this video description contains affiliate links, which means that if you click on one of the product links, I’ll receive a small commission.",
         "Science & Technology",
         "0.9681682418886297",
         "0.03408573958216135",
         "0.004196974069744116"
        ],
        [
         "8",
         "jr9QtXwC9vc",
         "17.14.11",
         "The Greatest Showman | Official Trailer 2 [HD] | 20th Century FOX",
         "20th Century Fox",
         "1",
         "2017-11-13 14:00:23+00:00",
         "Trailer|\"Hugh Jackman\"|\"Michelle Williams\"|\"Zac Efron\"|\"Zendaya\"|\"Rebecca Ferguson\"|\"pasek and paul\"|\"la la land\"|\"moulin rouge\"|\"high school musical\"|\"hugh jackman musical\"|\"zac efron musical\"|\"musical\"|\"the greatest showman\"|\"greatest showman\"|\"Michael Gracey\"|\"P.T. Barnum\"|\"Barnum and Bailey\"|\"Barnum Circus\"|\"Barnum and Bailey Circus\"|\"20th century fox\"|\"greatest showman trailer\"|\"trailer\"|\"official trailer\"|\"the greatest showman trailer\"|\"logan\"|\"Benj Pasek\"|\"Justin Paul\"",
         "826059",
         "3543",
         "119",
         "340",
         "https://i.ytimg.com/vi/jr9QtXwC9vc/default.jpg",
         "False",
         "False",
         "False",
         "Inspired by the imagination of P.T. Barnum, The Greatest Showman is an original musical that celebrates the birth of show business & tells of a visionary who rose from nothing to create a spectacle that became a worldwide sensation.\\n\\nIn Theaters This Christmas\\n\\nDirected By Michael Gracey\\nCast: Hugh Jackman, Michelle Williams, Zac Efron, Zendaya, Rebecca Ferguson\\n\\nSUBSCRIBE: http://bit.ly/FOXSubscribe\\n\\n\\nVisit the Official Site Here: http://www.foxmovies.com/movies/the-greatest-showman\\nLike The Greatest Showman on FACEBOOK: http://fox.co/GreatestShowmanFB\\nFollow The Greatest Showman on TWITTER: http://fox.co/GreatestShowmanTW\\nFollow The Greatest Showman on INSTAGRAM: http://fox.co/GreatestShowmanIG\\n\\n#GreatestShowman\\n\\nAbout 20th Century FOX:\\nOfficial YouTube Channel for 20th Century Fox Movies. Home of Avatar, Aliens, X-Men, Die Hard, Deadpool, Ice Age, Alvin and the Chipmunks, Rio, Peanuts, Maze Runner, Planet of the Apes, Wolverine and many more.\\n\\nConnect with 20th Century FOX Online:\\nVisit the 20th Century FOX WEBSITE: http://bit.ly/FOXMovie\\nLike 20th Century FOX on FACEBOOK: http://bit.ly/FOXFacebook\\nFollow 20th Century FOX on TWITTER: http://bit.ly/TwitterFOX\\n\\nThe Greatest Showman | Official Trailer 2 [HD] | 20th Century FOX\\nhttp://www.youtube.com/user/FoxMovies",
         "Film & Animation",
         "0.9675040961223376",
         "0.004844690270307562",
         "0.00041159287653787387"
        ],
        [
         "9",
         "TUmyygCMMGA",
         "17.14.11",
         "Why the rise of the robots won’t mean the end of work",
         "Vox",
         "25",
         "2017-11-13 13:45:16+00:00",
         "vox.com|\"vox\"|\"explain\"|\"shift change\"|\"future of work\"|\"automation\"|\"robots\"|\"jobs\"|\"technological unemployment\"|\"joss fong\"|\"heidi shierholz\"|\"martin ford\"|\"rise of the robots\"|\"humans\"|\"workers\"|\"employment\"|\"economics\"|\"macroeconomics\"|\"silicon valley\"|\"basic income\"",
         "256426",
         "12654",
         "1363",
         "2368",
         "https://i.ytimg.com/vi/TUmyygCMMGA/default.jpg",
         "False",
         "False",
         "False",
         "For now, at least, we have better things to worry about.\\n\\n\\nSubscribe to our channel! http://goo.gl/0bsAjO\\n\\nSources: \\nhttps://economics.mit.edu/files/11563\\nhttps://www.aeaweb.org/full_issue.php?doi=10.1257/jep.29.3#page=33\\nhttp://voxeu.org/article/how-computer-automation-affects-occupations\\nhttps://www.opensocietyfoundations.org/sites/default/files/future-work-lit-review-20150428.pdf\\nhttps://obamawhitehouse.archives.gov/sites/whitehouse.gov/files/documents/Artificial-Intelligence-Automation-Economy.PDF\\nhttps://www.vox.com/2015/7/27/9038829/automation-myth\\nhttps://www.amazon.com/dp/B00PWX7RPG/ref=dp-kindle-redirect\\nhttps://www.amazon.com/Second-Machine-Age-Prosperity-Technologies-ebook/dp/B00D97HPQI/ref=sr_1_1\\nhttps://www.amazon.com/New-Division-Labor-Computers-Creating/dp/0691124027/ref=sr_1_1?\\nhttps://www.oxfordmartin.ox.ac.uk/downloads/academic/The_Future_of_Employment.pdf\\n\\nClips:\\nhttps://www.youtube.com/watch?v=VTlV0Y5yAww\\nhttps://www.youtube.com/watch?v=_luhn7TLfWU\\nhttps://www.youtube.com/watch?v=rVlhMGQgDkY\\nhttps://www.youtube.com/watch?v=rCoFKUJ_8Yo\\nhttps://www.youtube.com/watch?v=yeyn9zzrC84\\nhttps://www.youtube.com/watch?v=7Pq-S557XQU\\nhttps://www.youtube.com/watch?v=WSKi8HfcxEk\\n\\n///\\n\\nRecent advancements in artificial intelligence and robotics have commentators worrying about the coming obsolescence of the human worker. Some in Silicon Valley are even calling for a basic minimum income provided by the government for everyone, under the assumption that work will become scarce. But many economists are skeptical of these claims, because the notion that the the economy offers a fixed amount of work has been debunked time and time again over the centuries and current economic data show no signs of a productivity boom. Fortunately, we don't need to divine the future of the labor market in order to prepare for it. \\n\\n///\\n\\nVox.com is a news website that helps you cut through the noise and understand what's really driving the events in the headlines. Check out http://www.vox.com to get up to speed on everything from Kurdistan to the Kim Kardashian app. \\n\\nCheck out our full video catalog: http://goo.gl/IZONyE\\nFollow Vox on Twitter: http://goo.gl/XFrZ5H\\nOr on Facebook: http://goo.gl/U2g06o",
         "News & Politics",
         "0.9027609331526004",
         "0.06389757668879106",
         "0.00923463299353416"
        ],
        [
         "10",
         "9wRQljFNDW8",
         "17.14.11",
         "Dion Lewis' 103-Yd Kick Return TD vs. Denver! | Can't-Miss Play | NFL Wk 10 Highlights",
         "NFL",
         "17",
         "2017-11-13 02:05:26+00:00",
         "NFL|\"Football\"|\"offense\"|\"defense\"|\"afc\"|\"nfc\"|\"American Football\"|\"highlight\"|\"highlights\"|\"game\"|\"games\"|\"sport\"|\"sports\"|\"action\"|\"play\"|\"plays\"|\"season\"|\"2017\"|\"rookie\"|\"rookies\"|\"recap\"|\"run\"|\"sprint\"|\"catch\"|\"huge\"|\"amazing\"|\"touchdown\"|\"td\"|\"week 9\"|\"wk 9\"|\"new england\"|\"patriots\"|\"pats\"|\"denver\"|\"broncos\"|\"lewis\"|\"kickoff\"|\"kick return\"|\"return td\"|\"special teams\"|\"sp:dt=2017-11-12T20:30:00-05:00\"|\"sp:vl=en-US\"|\"sp:st=football\"|\"sp:li=nfl\"|\"sp:ti:home=Den\"|\"sp:ti:away=NE\"|\"sp:scp=athlete_in_match\"|\"sp:ty=high\"|\"nfl-lewdio\"",
         "81377",
         "655",
         "25",
         "177",
         "https://i.ytimg.com/vi/9wRQljFNDW8/default.jpg",
         "False",
         "False",
         "False",
         "New England Patriots returner Dion Lewis blasts off for an amazing kickoff return touchdown against the Denver Broncos in Week 10 of the 2017 NFL Season.\\n\\nWatch full games with NFL Game Pass: https://www.nfl.com/gamepass?campaign=sp-nf-gd-ot-yt-3000342\\n\\nSign up for Fantasy Football! http://www.nfl.com/fantasyfootball\\n\\nSubscribe to NFL: http://j.mp/1L0bVBu\\n\\nThe NFL YouTube channel is your home for immediate in-game highlights from your favorite teams and players, full NFL games, behind the scenes access and more!\\n\\nCheck out our other channels:\\nNFL Network http://www.youtube.com/nflnetwork\\nNFL Films http://www.youtube.com/nflfilms\\n\\nFor all things NFL, visit the league's official website at http://www.nfl.com/\\n\\nWatch NFL Now: https://www.nfl.com/now\\nListen to NFL podcasts: http://www.nfl.com/podcasts\\nWatch the NFL network: http://nflnonline.nfl.com/\\nDownload the NFL mobile app: https://www.nfl.com/apps\\n2017 NFL Schedule: http://www.nfl.com/schedules\\nBuy tickets to watch your favorite team:  http://www.nfl.com/tickets\\nShop NFL: http://www.nflshop.com/source/bm-nflcom-Header-Shop-Tab\\n\\nLike us on Facebook: https://www.facebook.com/NFL\\nFollow us on Twitter: https://twitter.com/NFL\\nFollow us on Instagram: https://instagram.com/nfl/\\nFind us on Snapchat",
         "Sports",
         "0.9632352941176471",
         "0.01053123118325804",
         "0.002175061749634391"
        ],
        [
         "11",
         "VifQlJit6A0",
         "17.14.11",
         "(SPOILERS) 'Shiva Saves the Day' Talked About Scene Ep. 804 | The Walking Dead",
         "amc",
         "24",
         "2017-11-13 03:00:00+00:00",
         "The Walking Dead|\"shiva\"|\"tiger\"|\"king ezekiel\"|\"episode 804\"|\"episode 4\"|\"some guy\"|\"sad\"|\"zombies\"|\"all out war\"|\"war\"|\"walkers\"|\"the kingdom\"|\"the saviors\"|\"Rick\"|\"Rick Grimes\"|\"Negan\"|\"Ezekiel\"|\"Daryl\"|\"Michonne\"|\"Morgan\"|\"Carl\"|\"Dwight\"|\"Jeffrey Dean Morgan\"|\"Andrew Lincoln\"|\"Norman Reedus\"|\"Danai Gurira\"|\"Lennie James\"|\"robert kirkman\"|\"scott m. gimple\"|\"apocalypse\"|\"season\"|\"season 8\"|\"alexandria\"|\"AMC\"|\"tv\"|\"tv show\"|\"television\"|\"11/12_TWD\"|\"Featured\"",
         "104578",
         "1576",
         "303",
         "1279",
         "https://i.ytimg.com/vi/VifQlJit6A0/default.jpg",
         "False",
         "False",
         "False",
         "Shiva arrives just in time as King Ezekiel attempts to take out an army of walkers.\\n\\n#TheWalkingDead #TWD #AllOutWar\\n\\nFor more The Walking Dead videos: http://goo.gl/qJOZ6n\\n\\n(SPOILERS) Talked About Scene from The Walking Dead: Season 8, Episode 4\\n\\nSubscribe to the AMC YouTube Channel : http://goo.gl/qSMzej\\nThe Walking Dead: https://goo.gl/jzTTCb\\nSign Up for the The Walking Dead Newsletter : http://www.amc.com/shows/the-walking-dead/exclusives/newsletter-subscription\\nThe Walking Dead on Facebook: https://www.facebook.com/TheWalkingDeadAMC/ \\nThe Walking Dead on Twitter: https://twitter.com/WalkingDead_AMC \\nSign Up for the AMC Newsletter : http://www.amc.com/newsletter-subscription\\nAMC : http://www.amc.com/\\nAMC on Facebook : https://www.facebook.com/amc\\nAMC on Twitter : http://twitter.com/AMC_TV",
         "Entertainment",
         "0.8387440127727515",
         "0.03019755589129616",
         "0.012230105758381186"
        ],
        [
         "12",
         "5E4ZBSInqUU",
         "17.14.11",
         "Marshmello - Blocks (Official Music Video)",
         "marshmello",
         "10",
         "2017-11-13 17:00:00+00:00",
         "marshmello|\"blocks\"|\"marshmello blocks\"|\"blocks music video\"|\"marshmello music video\"|\"roblox bully story\"|\"marshmello alone\"|\"roblox\"|\"cuphead\"|\"marshmello nightcore\"|\"marshmello musically\"|\"music for kids\"|\"happy music\"|\"videos that make you happy\"|\"sad songs\"|\"childrens music\"|\"joytime\"|\"marshmello joytime\"|\"frat bro\"|\"band\"|\"high school\"|\"crush\"|\"mellogang\"",
         "687582",
         "114188",
         "1333",
         "8371",
         "https://i.ytimg.com/vi/5E4ZBSInqUU/default.jpg",
         "False",
         "False",
         "False",
         "WATCH SILENCE MUSIC VIDEO ▶ https://youtu.be/Tx1sqYc3qas\\nWATCH YOU & ME MUSIC VIDEO ▶ https://youtu.be/fiusxyygqGk\\nWATCH FIND ME MUSIC VIDEO ▶ https://youtu.be/ymq1WdGUcw8\\nWATCH MOVING ON MUSIC VIDEO ▶ https://youtu.be/yU0tnrEk8H4\\nWATCH SUMMER MUSIC VIDEO ▶ https://youtu.be/2vMH8lITTCE\\nWATCH ALONE MUSIC VIDEO ▶ https://youtu.be/ALZHF5UqnU4\\nWATCH KEEP IT MELLO MUSIC VIDEO ▶ https://youtu.be/_J_VpmXAzqg\\n\\nSUBSCRIBE HERE ▶ http://www.youtube.com/marshmellomusic?sub_confirmation=1\\n\\nMARSHMELLO: \\nSpotify | http://spoti.fi/2lxqzzm\\nSoundCloud | http://soundcloud.com/marshmellomusic\\nInstagram | http://instagram.com/marshmellomusic\\nTwitter | http://twitter.com/marshmellomusic\\nFacebook | http://facebook.com/marshmellomusic\\nMerch | https://shop.marshmellomusic.com/\\n\\nCREDITS:\\nAgency: MGX Creative\\nDirector: Daniel Burke\\nCreative Directors: Daniel Malikyar, Karam Gill\\nExecutive Producer: Ryan Huffman\\nProducer: Andrew Chennisi\\nDP: Ian Quill\\nProduction Designer: John Richoux\\nEditor: Karl Jungquist\\nColorist: Tyler Roth",
         "Music",
         "0.988460972463881",
         "0.18018505429170603",
         "0.012174547908467627"
        ],
        [
         "13",
         "GgVmn66oK_A",
         "17.14.11",
         "Which Countries Are About To Collapse?",
         "NowThis World",
         "25",
         "2017-11-12 14:00:00+00:00",
         "nowthis|\"nowthis world\"|\"world news\"|\"nowthis news\"|\"international news\"|\"countries\"|\"collapse\"|\"failing countries\"|\"war in the world\"|\"fragile states\"|\"the fragile states index\"|\"fund for peace\"|\"social\"|\"economic\"|\"political\"|\"which countries are failing\"|\"Central African Republic\"|\"CAR\"|\"countries that are sinking\"|\"countries that are dying\"|\"countries that are going to disappear\"|\"Somalia\"|\"colonization\"|\"dictatorship\"|\"south sudan\"",
         "544770",
         "7848",
         "1171",
         "3981",
         "https://i.ytimg.com/vi/GgVmn66oK_A/default.jpg",
         "False",
         "False",
         "False",
         "The world at large is improving, but some countries and their governments are struggling to even function. Although disputed, to find out which three are the most likely to collapse, check out this video.\\n» Subscribe to NowThis World: http://go.nowth.is/World_Subscribe\\n» Follow us on Twitter: http://go.nowth.is/NowThisWorld_Twitter\\n\\nConnect with NowThis\\n» Subscribe to NowThis News: http://go.nowth.is/News_Subscribe\\n» Like us on Facebook: http://go.nowth.is/News_Facebook\\n» Tweet us on Twitter: http://go.nowth.is/News_Twitter\\n» Follow us on Instagram: http://go.nowth.is/News_Instagram\\n» Find us on Snapchat Discover: http://go.nowth.is/News_Snapchat\\n\\nNowThis World is dedicated to bringing you topical explainers about the world around you. Check back in for new videos every Sunday, Tuesday, and Thursday at 9am ET.\\n\\nhttp://www.youtube.com/nowthisworld",
         "News & Politics",
         "0.8701629892449274",
         "0.02386328175193196",
         "0.007307671127264703"
        ],
        [
         "14",
         "TaTleo4cOs8",
         "17.14.11",
         "SHOPPING FOR NEW FISH!!!",
         "The king of DIY",
         "15",
         "2017-11-12 18:30:01+00:00",
         "shopping for new fish|\"new fish\"|\"aquarium fish\"|\"aquarium\"|\"uarujoey\"|\"king of diy\"|\"aquarium gallery\"|\"the king of diy\"|\"fish tank\"|\"fish (animal)\"|\"diy king\"|\"arowana\"|\"flower horn\"|\"fish\"",
         "207532",
         "7473",
         "246",
         "2120",
         "https://i.ytimg.com/vi/TaTleo4cOs8/default.jpg",
         "False",
         "False",
         "False",
         "Today we go shopping for new fish for some of the aquariums. I wanted to find some asian type fish for the new asian based aquarium... but had no luck. I did however find other fish i just had to have... of course. lol\\n\\nDetails of store and buying tickets:\\n\\nBuy tickets in store:\\n75 Macdonald Ave\\nDartmouth, Nova Scotia\\nOR\\nCall to buy: \\n1 - (902) - 446-3474\\nOR buy online here: https://goo.gl/4BaMqb\\n\\nTickets are $10 each\\nDraw will be Dec 3rd by Jeff in store(store owner) \\n\\n3rd will get a $200 store voucher \\n2nd will get a $300 store voucher \\n1st will get a 1/2 day trip to the King of DIY Gallery and dinner. \\nWinner will be picked up by Jeff at the store. Date of tour will likely be the following Friday or Saturday. \\n\\nSUBSCRIBE ► https://goo.gl/xjOm50\\nGet the ultimate DIY book ►  http://thekingofdiy.com\\nLIMITED EDITION SHIRTS!! ► https://goo.gl/E2l6tk\\nFacebook ► http://facebook.com/uarujoey\\nInstagram ► https://www.instagram.com/uarujoey/\\n\\nThe king of DIY aquarium projects, education and inspiration!\\n\\nJoin me each SUNDAY, TUESDAY AND THURSDAY for a new aquarium related video!\\n\\nMAIL TO:\\nPO BOX 25054\\nTruro, NS\\nB2N 7B8\\nCanada\\n\\nHow to build aquariums: https://goo.gl/gu3CsK\\nHow to build aquarium filters: https://goo.gl/cw0Jl9\\nHow to build aquarium stands: https://goo.gl/9JB9jo\\nHow to build aquarium equipment: https://goo.gl/BHkT2s\\nHow to build aquarium lighting: https://goo.gl/Wg4kt0\\nHow to build aquarium decorations: https://goo.gl/crQkeT\\nVarius aquarium tutorials: https://goo.gl/BKCb3a\\nALL Thursday videos: https://goo.gl/DPHjEM\\nALL Sunday videos: https://goo.gl/Rn0wmS\\n\\n\\nMy aquarium pumps, circulation and lights are by: http://ecotechmarine.com\\nMy aquarium racks and the aquariums within them were made by: http://customaquariums.com",
         "Pets & Animals",
         "0.9681305868635833",
         "0.047409556116646843",
         "0.01021529209953159"
        ],
        [
         "15",
         "kgaO45SyaO4",
         "17.14.11",
         "The New SpotMini",
         "BostonDynamics",
         "28",
         "2017-11-13 20:09:58+00:00",
         "Robots|\"Boston Dynamics\"|\"SpotMini\"|\"Legged Locomotion\"|\"Dynamic robot\"",
         "75752",
         "9419",
         "52",
         "1230",
         "https://i.ytimg.com/vi/kgaO45SyaO4/default.jpg",
         "False",
         "False",
         "False",
         "For more information . . . stay tuned.",
         "Science & Technology",
         "0.9945095554851653",
         "0.14126359700073737",
         "0.016237195057556022"
        ],
        [
         "16",
         "ZAQs-ctOqXQ",
         "17.14.11",
         "One Change That Would Make Pacific Rim a Classic",
         "Cracked",
         "23",
         "2017-11-12 17:00:05+00:00",
         "pacific rim|\"pacific rim 2\"|\"pacific rim sequel\"|\"Guillermo del Toro\"|\"Cracked\"|\"cracked.com\"|\"sketch\"|\"comedy\"|\"funny\"|\"spoof\"|\"laugh\"|\"satire\"|\"parody\"|\"hilarious\"|\"spoofs\"|\"josh sargent\"|\"fix a movie\"|\"how to fix\"|\"charlie day\"|\"idris elba\"|\"fighting robots\"|\"fight scenes\"|\"pacific rim problems\"|\"pacific rim epic\"|\"pacific rim comic con\"|\"pacific rim characters\"|\"pacific rim robots\"|\"pacific rim machines\"|\"mako mori\"|\"fan theory\"|\"headcanon\"|\"how it should have ended\"",
         "295639",
         "8011",
         "638",
         "1256",
         "https://i.ytimg.com/vi/ZAQs-ctOqXQ/default.jpg",
         "False",
         "False",
         "False",
         "Pacific Rim was so good, we can’t believe they didn’t do this one thing to make it freaking perfect. And no. That one thing isn’t “Add more swords.”\\n\\nCHECK US OUT on AMAZON: https://www.amazon.com/v/cracked\\n\\nWant some more SOME NEWS, starring Cody Johnston? Then CLICK HERE: https://goo.gl/RCEuwa\\n\\nSUBSCRIBE HERE: http://goo.gl/ITTCPW\\n\\nFor additional perks, subscribe at: https://secure.cracked.com/subscribe/\\n\\nCLICK HERE for more HONEST ADS spoofs - https://goo.gl/xHchf2\\nCLICK HERE for GALACTIC WAR ROOM - https://goo.gl/kStvEN\\nCLICK HERE for WE'RE NOT ALONE - http://goo.gl/cC9L5o\\nCLICK HERE for ROM.COM: The Series - https://goo.gl/5mabAx\\nCLICK HERE for AFTER HOURS: http://goo.gl/Nrg6Jh\\nCLICK HERE for CRACKED ANIMATIONS: https://goo.gl/bSD2Sf\\nCLICK HERE for TODAY'S TOPICS: https://goo.gl/1jxB44\\nCLICK HERE for ESCORT MISSION: https://goo.gl/19YnL7\\n\\nCLICK HERE to Subscribe to THE CRACKED PODCAST: https://goo.gl/qmdLnT\\nOn iTunes: https://goo.gl/MYjkoi\\n\\nSee more http://www.cracked.com\\nLIKE us on: http://www.facebook.com/cracked\\nFOLLOW us on: http://www.twitter.com/cracked\\nFOLLOW us on: http://cracked.tumblr.com",
         "Comedy",
         "0.9262342467337265",
         "0.0335036987677538",
         "0.004248424598919614"
        ],
        [
         "17",
         "YVfyYrEmzgM",
         "17.14.11",
         "How does your body know you're full? - Hilary Coller",
         "TED-Ed",
         "27",
         "2017-11-13 16:00:07+00:00",
         "TED|\"TED-Ed\"|\"TED Education\"|\"TED Ed\"|\"Hilary Coller\"|\"Sashko Danylenko\"|\"hunger\"|\"fullness\"|\"appetite\"|\"food\"|\"stomach\"|\"digestion\"|\"vagus nerve\"|\"hypothalamus\"|\"hormones\"|\"endocrine cells\"|\"digestive system\"|\"intestine\"|\"ghrelin\"|\"insulin\"|\"leptin\"|\"water\"|\"fiber\"|\"protein\"",
         "78044",
         "5398",
         "53",
         "385",
         "https://i.ytimg.com/vi/YVfyYrEmzgM/default.jpg",
         "False",
         "False",
         "False",
         "Check out our Patreon page: https://www.patreon.com/teded\\n\\nView full lesson: https://ed.ted.com/lessons/how-does-your-body-know-you-re-full-hilary-coller\\n\\nHunger claws at your belly. It tugs at your intestines, which begin to writhe, aching to be fed. Being hungry generates a powerful and often unpleasant physical sensation that’s almost impossible to ignore. After you’ve reacted by gorging on your morning pancakes, you start to experience an opposing force: fullness. But how does your body actually know when you’re full? Hilary Coller explains.\\n\\nLesson by Hilary Coller, directed by Sashko Danylenko.\\n\\nThank you so much to our patrons for your support! Without you this video would not be possible.\\nNoa Shore, Taylor Hunter, Kyle Nguyen, Bijan Bayat Mokhtari, Elias Wewel, Henry Li, Ayaan Heban, Michael Aquilina, Yansong Li, MJ Tan Mingjie, Fabio Peters, Silas Schwarz, Cristóbal Medina Moenne, Tushar Sharma, Mohammad Khory, Goh Xiang Ting Diana, Umar Farooq, Kevin Wong, Activated Classroom Teaching, Constantin Salagor, Monica Grace Ward, Dawn Jordan, Yanira Santamaria, Prasanth Mathialagan, Savannah Scheelings.",
         "Education",
         "0.9902770133920381",
         "0.07477833017272212",
         "0.00493311465327245"
        ],
        [
         "18",
         "eNSN6qet1kE",
         "17.14.11",
         "HomeMade Electric Airplane",
         "PeterSripol",
         "28",
         "2017-11-13 15:30:17+00:00",
         "ultralight|\"airplane\"|\"homemade\"|\"DIY\"|\"hoverbike\"|\"part 103\"|\"ultra light\"|\"aircraft\"|\"aviation\"|\"do it yourself\"|\"basement\"|\"petersripol\"|\"peter sripol\"|\"biplane\"|\"flitetest\"|\"flite test\"|\"electric vehicle\"|\"electric\"",
         "97007",
         "11963",
         "36",
         "2211",
         "https://i.ytimg.com/vi/eNSN6qet1kE/default.jpg",
         "False",
         "False",
         "False",
         "aaaannnd now to fly out of ground effect! The homemade airplane does indeed fly! This part 103 electric plane has probably been my craziest build yet! \\n\\npatreon (patreons get early access to videos!)\\nhttps://www.patreon.com/Petersripol\\n\\nHobbyking motors: https://goo.gl/ZZ1Kka\\n\\ntattu batteries: https://goo.gl/mVskoq\\n\\n\\nMY WEBSITE:::::::::::: https://goo.gl/87uDQK\\n\\nAmazon affiliate links (these help grow the channel, every purchase gets me a small percentage of the sale, it costs you nothing though!) \\n\\nSite where I get batteries and high quality stuff: https://goo.gl/cqmiIP\\nMain camera: https://goo.gl/MQQAfq\\n\\norange camera: https://goo.gl/Ikt4hD\\n\\nDrones: https://goo.gl/A0Yjqb  https://goo.gl/Kkg8SB\\n\\ncheap shotgun mic: https://goo.gl/TwFJJs\\n\\nbendy tripod: https://goo.gl/E2HD6L\\n\\ngopros used: https://goo.gl/Exb6f3 https://goo.gl/b7l2Ng\\n\\nMy 3D printer: https://goo.gl/S2kqKj\\n\\nVideo editing software: https://goo.gl/Np3aog\\n\\nCheap RC TRANSMITTER that I like to use\\nhttps://goo.gl/AYvbOl\\n\\nBest place to get High end RC equipment (luminer batteries here)\\nhttps://goo.gl/cqmiIP\\n\\nPatreon: https://www.patreon.com/Petersripol\\n\\nINSTAGRAM:\\nhttps://www.instagram.com/petersripol\\n\\nTWITTER: PeterSripol\\n\\nwant to send me something? :D\\n\\nPeterSripol\\nPMB328\\n3195 Dayton xenia RD STE 900\\nBeavercreek OH 45434\\n\\nsongs: \\nKubbi-Pathfinder\\nhttps://www.youtube.com/watch?v=KRm2zCqwd1c\\n\\nThefatRat-Xenogenisis (credit Tasty records)\\nhttps://www.youtube.com/watch?v=KRm2zCqwd1c",
         "Science & Technology",
         "0.996999749979165",
         "0.1464842743307169",
         "0.022792169637242437"
        ],
        [
         "19",
         "B5HORANmzHw",
         "17.14.11",
         "Founding An Inbreeding-Free Space Colony",
         "SciShow",
         "27",
         "2017-11-12 22:00:01+00:00",
         "SciShow|\"science\"|\"Hank\"|\"Green\"|\"education\"|\"learn\"|\"stefan chin\"|\"mars\"|\"colony\"|\"genetic diversity\"|\"founder effect\"|\"alleles\"|\"effective population size\"|\"mutations\"|\"interstellar mission\"|\"acta astronautica\"|\"Founding An Inbreeding-Free Space Colony\"",
         "223871",
         "8421",
         "191",
         "1214",
         "https://i.ytimg.com/vi/B5HORANmzHw/default.jpg",
         "False",
         "False",
         "False",
         "Thanks to 23AndMe for supporting SciShow. These kits make great gifts, so check out https://23AndMe.com/SciShow\\n\\nHow much genetic diversity would we need to found a colony on another planet?\\n\\nHosted by: Stefan Chin\\n----------\\nSupport SciShow by becoming a patron on Patreon: https://www.patreon.com/scishow\\n----------\\nDooblydoo thanks go to the following Patreon supporters: KSam Lutfi, Kevin Knupp, Nicholas Smith, Inerri, D.A. Noe, alexander wadsworth,\\nسلطان الخليفي, Piya Shedden, KatieMarie Magnone, Scott Satovsky Jr, Bella Nash, Charles Southerland, Bader AlGhamdi, James Harshaw, Patrick Merrithew, Patrick D. Ashmore, Candy, Tim Curwick, charles george, Saul, Mark Terrio-Cameron, Viraansh Bhanushali, Kevin Bealer, Philippe von Bergen, Chris Peters, Fatima Iqbal, Justin Lentz\\n----------\\nLooking for SciShow elsewhere on the internet?\\nFacebook: http://www.facebook.com/scishow\\nTwitter: http://www.twitter.com/scishow\\nTumblr: http://scishow.tumblr.com\\nInstagram: http://instagram.com/thescishow\\n----------\\nSources:\\nhttps://www.newscientist.com/article/dn1936-magic-number-for-space-pioneers-calculated/ \\nhttp://www.popularmechanics.com/space/deep-space/a10369/how-many-people-does-it-take-to-colonize-another-star-system-16654747/ \\nhttp://www.sciencedirect.com/science/article/pii/S0094576513004669 \\nhttps://geneticliteracyproject.org/2016/07/05/mars-colonists-need-bring-earth-large-gene-pool/ \\nhttps://www.salon.com/2015/04/12/there_will_be_sex_in_space_mars_science_and_the_dictates_of_biology_and_human_culture/\\nhttps://www.britannica.com/science/minimum-viable-population\\nhttps://www.nature.com/scientificamerican/journal/v308/n1/full/scientificamerican0113-38.html \\nhttp://bio.classes.ucsc.edu/bio107/Class%20pdfs/W05_lecture8.pdf\\nhttp://news.nationalgeographic.com/news/2002/02/0220_0220_wirelifeinspace_2.html\\nhttps://www.ncbi.nlm.nih.gov/pmc/articles/PMC1276087/\\nhttps://www.ncbi.nlm.nih.gov/pmc/articles/PMC2752555/\\nhttps://www.genome.gov/27561444/iceland-study-provides-insights-into-disease-paves-way-for-largescale-genomic-studies/\\nhttps://www.researchgate.net/publication/19535182_Observing_the_founder_effect_in_human_evolution\\nhttps://www.pbs.org/wgbh/evolution/library/06/3/l_063_03.html\\nhttps://investigativegenetics.biomedcentral.com/articles/10.1186/s13323-015-0028-9\\nhttps://www.karger.com/Article/Abstract/90545\\nhttps://www.ncbi.nlm.nih.gov/pmc/articles/PMC2987173/\\nhttps://www.nature.com/hdy/journal/v100/n4/full/6801083a.html\\nhttp://onlinelibrary.wiley.com/doi/10.1046/j.1469-1809.2003.00046.x/abstract\\nhttps://nctc.fws.gov/courses/csp/csp3157/content/resources/pop_viability.pdf\\nhttps://arxiv.org/pdf/1708.08649.pdf\\nhttps://www.theatlantic.com/health/archive/2014/10/how-icelands-genealogy-obsession-leads-to-scientific-breakthroughs/381097/\\nhttps://www.usatoday.com/story/tech/2013/04/18/new-app-helps-icelanders-avoid-accidental-incest/2093649/\\n\\nImages:\\nhttps://commons.wikimedia.org/wiki/File:Founder_effect_Illustration.jpg\\nhttps://commons.wikimedia.org/wiki/File:Amish_farm_morristown_new_york.jpg\\nhttps://commons.wikimedia.org/wiki/File:Ingolf_by_Raadsig.jpg",
         "Education",
         "0.977821644217371",
         "0.04389134814245685",
         "0.005422765789226808"
        ],
        [
         "20",
         "vU14JY3x81A",
         "17.14.11",
         "How Can You Control Your Dreams?",
         "Life Noggin",
         "27",
         "2017-11-13 14:00:03+00:00",
         "life noggin|\"life noggin youtube\"|\"youtube life noggin\"|\"life noggin channel\"|\"education\"|\"education channel\"|\"life noggin face reveal\"|\"edutainment\"|\"edutainment videos\"|\"blocko\"|\"blocko life noggin\"|\"science\"|\"technology\"|\"educational\"|\"school\"|\"lucid dream\"|\"lucid dreaming\"|\"control your dreams\"|\"how to control your dreams\"|\"how to lucid dream\"|\"sleep\"|\"dreaming\"|\"nightmare\"|\"dream\"|\"REM sleep\"|\"what is lucid dreaming\"|\"sleep study\"|\"brain activity\"|\"consciousness\"|\"PTSD\"|\"lucid dreaming experience\"",
         "115791",
         "9586",
         "75",
         "2800",
         "https://i.ytimg.com/vi/vU14JY3x81A/default.jpg",
         "False",
         "False",
         "False",
         "What if there was a way to control your dreams? Let's discuss lucid dreaming!\\nWatch more: Can You Be Scared To Death? ►► https://www.youtube.com/watch?v=TlpYuxulI1k\\n\\nSubscribe: https://bit.ly/SubLifeNoggin | Get your exclusive Life Noggin merch: http://keeponthinking.co \\n \\nSupport Life Noggin on Patreon: https://patreon.com/LifeNogginStudios \\n \\nFollow Life Noggin!\\nFacebook: https://facebook.com/LifeNoggin/?ref=br_rs\\nInstagram: https://instagram.com/lifenoggin/\\nTwitter: https://twitter.com/lifenoggin\\nOfficial Website: https://lnstudios.co/\\n \\nWatch More Life Noggin:\\nLatest Uploads: https://youtube.com/watch?v=4A6XkYpmidU&list=PL8L0MzSk_V6JtEDRfRMyb6rFd1acqYSlO\\nBig Questions: https://youtube.com/watch?v=rJTkHGXMdb0&list=PL8L0MzSk_V6LtaKh-Eqj7Cs4Tmf5iQPx4\\nOuter Space: https://youtube.com/watch?v=rJTkHGXMdb0&list=PL8L0MzSk_V6IPWXQvW3Exk9bqGzOdj8Qq\\nInside the Human Body: https://youtube.com/watch?v=FVnnM6hZ7Wk&list=PL8L0MzSk_V6JoZQ-Sy3eK2rjiDsamxCQs \\nPopular Videos: https://youtube.com/watch?v=1bVfzBD-40E&list=PL8L0MzSk_V6IYeU-cNGR6NYHW19GMiPNy \\n \\nWe are LIFE NOGGIN! An animated and educational web show designed to teach you all about your awesome life and the brain that makes you able to live it! We answer questions about everything from inside the human body to deep outer space. Stay tuned for more videos on every Monday and Thursday! Keep On Thinking. \\n \\nLife Noggin Team:\\nDirector/Voice: http://lifenogg.in/PatGraziosi \\nExecutive Producer - Ian Dokie: http://instagram.com/iandokie \\nDirector of Marketing: http://lifenogg.in/JaredOban \\nAnimation by Steven Lawson\\nWritten by Sophie Bakoledis: https://www.instagram.com/sophieexplorestheworld/\\n \\nSources:\\nhttps://www.scientificamerican.com/article/how-to-control-dreams/ \\nhttps://www.psychologytoday.com/blog/therapy-it-s-more-just-talk/201409/the-field-guide-lucid-dreaming \\nhttps://www.newscientist.com/article/2094018-want-to-control-your-dreams-these-tips-may-boost-your-chances/ \\nhttps://www.newscientist.com/article/2094018-want-to-control-your-dreams-these-tips-may-boost-your-chances/ \\nhttp://www.huffingtonpost.com/entry/how-to-control-your-dreams_n_6296526.html \\nhttp://nymag.com/scienceofus/2016/10/keeping-a-dream-journal-helps-you-understand-yourself.html \\nhttp://www.huffingtonpost.com/entry/how-to-control-your-dreams_n_6296526.html \\nhttp://www.cnn.com/2011/HEALTH/01/12/loughner.lucid.dreaming.arizona/index.html \\nhttps://www.scientificamerican.com/article/how-to-control-dreams/ \\nhttps://www.newscientist.com/article/2094018-want-to-control-your-dreams-these-tips-may-boost-your-chances/ \\nhttp://www.iflscience.com/brain/a-technique-to-control-your-dreams-has-been-verified-for-the-first-time/ \\nhttp://www.cnn.com/2011/HEALTH/01/12/loughner.lucid.dreaming.arizona/index.html \\nhttps://www.scientificamerican.com/article/how-to-control-dreams/ \\nhttp://www.independent.co.uk/life-style/how-to-lucid-dream-10329107.html \\nhttp://www.huffingtonpost.com/entry/how-to-control-your-dreams_n_6296526.html\\nhttps://www.psychologytoday.com/blog/the-mysteries-love/201602/four-levels-lucid-dreaming \\nhttps://www.psychologytoday.com/blog/the-mysteries-love/201602/four-levels-lucid-dreaming \\nhttps://www.sciencedaily.com/releases/2012/07/120727095555.htm\\nhttps://www.ncbi.nlm.nih.gov/pmc/articles/PMC2737577/ \\nhttps://www.sciencedaily.com/releases/2012/07/120727095555.htm\\nhttps://www.ncbi.nlm.nih.gov/pmc/articles/PMC2737577/ \\nhttps://www.sciencedaily.com/releases/2008/09/080921162021.htm\\nhttp://blogs.discovermagazine.com/seriouslyscience/2017/08/11/flashback-friday-want-control-dreams-shock-brain-induce-lucid-dreaming/#.WdZ56EzMx-U \\nhttp://www.nature.com/neuro/journal/v17/n6/full/nn.3719.html?foxtrotcallback=true \\nhttps://www.inc.com/yoram-solomon/this-startup-says-it-can-use-science-to-help-you-control-your-dreams.html \\nhttps://www.scientificamerican.com/article/how-to-control-dreams/ \\nhttps://www.vice.com/en_us/article/exme5p/lucid-dreaming-could-help-treat-ptsd-and-other-psychological-disorders-456 \\nhttp://abcnews.go.com/Health/Sleep/researchers-find-nightmare-cures-post-traumatic-stress-patients/story?id=11300422",
         "Education",
         "0.992236828485664",
         "0.10761630869411173",
         "0.02418149942568918"
        ],
        [
         "21",
         "6VhU_T463sU",
         "17.14.11",
         "The Making of Hela's Headdress from Thor: Ragnarok",
         "Tested",
         "28",
         "2017-11-12 15:00:01+00:00",
         "tested|\"testedcom\"|\"designercon 2017\"|\"preview\"|\"toys\"|\"props\"|\"costumes\"|\"ironhead studio\"|\"marvel\"|\"thor\"|\"thor 3\"|\"thor ragnorok\"|\"thor ragnarok\"|\"hela\"|\"helmet\"|\"cosplay\"|\"headdress\"|\"costume\"",
         "224019",
         "3585",
         "138",
         "208",
         "https://i.ytimg.com/vi/6VhU_T463sU/default.jpg",
         "False",
         "False",
         "False",
         "At this year's DesignerCon, we meet up with Ironhead Studio, the costume and prop fabricators who made Hela's jaw-dropping costume from Thor: Ragnarok. Jose Fernandez walks us through how his team made Hela's iconic headdress for Cate Blanchett to wear in the film, explaining how the helmet's pieces hold together and what goes into its brilliant finish. \\n\\nFind more of Ironhead Studio's work here: http://ironheadstudio.com/\\n\\nShot and edited by Norman Chan\\n\\nSubscribe for more videos! http://www.youtube.com/subscription_center?add_user=testedcom\\nFollow us on Twitter: http://www.twitter.com/testedcom\\nGet updates on Facebook: http://www.facebook.com/testedcom\\n\\nTested is: \\nAdam Savage http://www.twitter.com/donttrythis\\nNorman Chan http://www.twitter.com/nchan\\nSimone Giertz http://www.twitter.com/simonegiertz\\nJoey Fameli http://www.twitter.com/joeyfameli\\nKishore Hari http://www.twitter.com/sciencequiche\\nFrank Ippolito http://www.twitter.com/frankippolito\\nSean Charlesworth http://www.twitter.com/cworthdynamics\\nJeremy Williams http://www.twitter.com/jerware\\nGunther Kirsch\\nRyan Kiser\\n\\nThanks for watching!",
         "Science & Technology",
         "0.9629331184528606",
         "0.017547618728768463",
         "0.0009284926724965252"
        ],
        [
         "22",
         "_-aDHxoblr4",
         "17.14.11",
         "Is It Dangerous To Talk To A Camera While Driving?",
         "Tom Scott",
         "27",
         "2017-11-13 16:00:03+00:00",
         "tom scott|\"tomscott\"|\"built for science\"|\"national advanced driving simulator\"|\"university of iowa\"|\"driving simulation\"|\"driver safety\"|\"driver distraction\"",
         "144418",
         "11758",
         "89",
         "1014",
         "https://i.ytimg.com/vi/_-aDHxoblr4/default.jpg",
         "False",
         "False",
         "False",
         "I'm visiting the University of Iowa's National Advanced Driving Simulator, to answer a question: how unsafe is it for me to vlog while driving? Is vlogging while driving dangerous? The team at the simulator are the experts to ask.\\n\\nMore about the National Advanced Driving Simulator:\\nhttps://www.nads-sc.uiowa.edu/sim_nads1.php\\nor on Twitter: https://twitter.com/DrivingSim\\n\\nCamera operator: Jasmine Putney\\nEdited: Michelle Martin (@mrsmmartin)\\n\\nI'm at http://tomscott.com\\non Twitter at http://twitter.com/tomscott\\non Facebook at http://facebook.com/tomscott\\nand on Snapchat and Instagram as tomscottgo",
         "Education",
         "0.9924875495906137",
         "0.08905399603927427",
         "0.007021285435333498"
        ],
        [
         "23",
         "JBZTZZAcFTw",
         "17.14.11",
         "What $4,800 Will Get You In NYC | Sweet Digs Home Tour | Refinery29",
         "Refinery29",
         "26",
         "2017-11-12 16:00:01+00:00",
         "refinery29|\"refinery 29\"|\"r29\"|\"r29 video\"|\"video\"|\"refinery29 video\"|\"female\"|\"empowerment\"|\"house tour\"|\"sweet digs\"|\"new york city\"|\"apartment decor\"|\"interior design\"|\"home tour\"|\"big apple\"|\"real estate\"|\"apartment\"|\"new apartment tour\"|\"bedroom tour\"|\"new apartment\"|\"house tour 2017\"|\"living room\"|\"living room decor\"|\"walk through\"|\"nyc apartment\"|\"new house\"|\"kitchen tour\"|\"modern home\"|\"decorating on a budget\"|\"my new house\"|\"moving out\"|\"video blog\"|\"manhattan\"|\"NY\"|\"central park\"",
         "145921",
         "1707",
         "578",
         "673",
         "https://i.ytimg.com/vi/JBZTZZAcFTw/default.jpg",
         "False",
         "False",
         "False",
         "On this episode of Sweet Digs, we tour Social Media Editor, Ally Hickson's three bedroom apartment on the Upper West Side. Ally walks us through her place, showing us what $4,800 a month can get you in NYC. Press play to see how this R29er lives!\\n\\nABOUT SERIES\\nHigh rent, small spaces, nosy neighbors — we put up with A LOT of things to live where we love. In Sweet Digs, Refinery29 gets a peek inside the homes of the coolest people we know, from tiny studios to sprawling houses, and ask the real questions like, Wait, how much is your rent?\\n\\nABOUT REFINERY29 \\nRefinery29 is a modern woman's destination for how to live a stylish, well-rounded life. http://refinery29.com/\\n\\nRELATED CONTENT\\nWhat $1,800 Will Get You In NYC\\nhttps://youtube.com/watch?v=9VQh4wJ76Dc\\nWhat $2,600 Will Get You In NYC\\nhttps://www.youtube.com/watch?v=jihpJRqUTn0&t=21s\\n\\nSEE MORE REFINERY29 VIDEOS\\nhttp://refinery29.com/video\\n\\nSUBSCRIBE TO REFINERY29\\nSubscribe to the Refinery29 channel: http://bit.ly/subscribe-to-r29\\nFor the latest trends and videos, visit: http://refinery29.com\\nLike Refinery29 on Facebook: https://facebook.com/refinery29\\nFollow Refinery29 on Twitter: https://twitter.com/refinery29\\nHeart Refinery29 on Instagram: https://instagram.com/refinery29/\\n\\nTALENT\\nFollow Ally Hickson on Instagram: https://instagram.com/aphickson/",
         "Howto & Style",
         "0.7470459518599563",
         "0.020271242658698747",
         "0.004612084621130581"
        ],
        [
         "24",
         "lZ68j2J_GOM",
         "17.14.11",
         "Using Other People's Showers",
         "Gus Johnson",
         "23",
         "2017-11-13 14:44:24+00:00",
         "using other peoples showers|\"gus\"|\"gus shower\"|\"other people shower\"|\"ketchup shower\"|\"funny bathroom\"|\"funny\"|\"gustoonz\"|\"gus johnson\"|\"gus other peoples showers\"|\"funny video\"|\"trending\"|\"youtube trending\"|\"trending video\"|\"viral video\"|\"advertiser friendly\"|\"family friendly\"|\"clean\"|\"shower joke\"|\"sketch comedy\"|\"youtube haiku\"|\"shower meme\"|\"meme\"|\"new meme\"|\"meme 2017\"|\"meme 2018\"",
         "33980",
         "4884",
         "52",
         "234",
         "https://i.ytimg.com/vi/lZ68j2J_GOM/default.jpg",
         "False",
         "False",
         "False",
         "Why is it so hard to figure out other people's showers?\\n- Please subscribe so I can eat: http://bit.ly/21Xhy2m \\n↓FOLLOW GUS OR WHATEVER↓\\n- Twitter: https://twitter.com/Gusbuckets\\n- Facebook: https://www.facebook.com/gustoonz\\n- Reddit: https://www.reddit.com/r/gusjohnson/\\n- Snapchat: motherxteresa\\n- Instagram: instagram.com/johnsongus\\n- Patreon: http://bit.ly/1TVIYyA\\n- PayPal: gustoonz@gmail.com\\n- Download my new album here: http://bit.ly/2gRsJUQ\\n\\nSend me whatever you'd like:\\n\\nGus Johnson\\nPO Box 635\\nMenomonie, WI 54751\\n\\nMy album is available for download here: http://www.nimbitmusic.com/gusjohnson\\n\\nCheck out the merch store! http://gustoonz.cottoncart.com/\\n\\nIt is difficult to use other people's showers. \\n\\nI am Gus Johnson. I make music, I crap out bad skits. Thanks for your time, internet stranger. Sometimes I go by gustoonz.\\n\\nThanks for watching and sharing! Don't stab people. I'll see you later.",
         "Comedy",
         "0.9894651539708266",
         "0.1521483225426677",
         "0.006886403766921517"
        ],
        [
         "25",
         "dRpNZV18N_g",
         "17.14.11",
         "SPAGHETTI BURRITO VS SPAGHETTI BURRITO",
         "HellthyJunkFood",
         "24",
         "2017-11-12 14:00:04+00:00",
         "spaghetti burrito|\"diy burrito\"|\"spaghetti\"|\"burrito\"|\"burrito recipe\"|\"spaghetti deep fried\"|\"deep fried spaghetti\"|\"spgahetti sandwich\"|\"giant burrito\"",
         "223077",
         "8676",
         "193",
         "1392",
         "https://i.ytimg.com/vi/dRpNZV18N_g/default.jpg",
         "False",
         "False",
         "False",
         "Visit http://www.Bongiovibrand.com\\nand get 20% using the coupon CODE: BURRITO\\n\\nI say we're both winners in this scenario, but there can't be one winner, so you must decide!\\n\\nJP & JULIA CHANNEL!!\\nhttps://www.youtube.com/c/JPJulia\\n\\nTHINGS YOU'LL NEED\\nBongiovi Sauce:  https://www.bongiovibrand.com/\\nDeep Fryer: http://amzn.to/2nHDBe6\\nLarge Loaf Pan: http://amzn.to/2yLu4Ij\\n\\nMerchandise:\\nhttp://bit.ly/HJFMerch\\n\\nFULL RECIPE DETAILS:\\nhttp://www.hellthyjunkfood.com/spaghetti-burrito/\\n\\n🍔Social Media Links🍔  @HellthyJunkFood\\nhttp://www.facebook.com/hellthyjunkfood\\nhttp://www.instagram.com/hellthyjunkfood\\nhttp://www.twitter.com/hellthyjunkfood\\nhttp://www.patreon.com/hellthyjunkfood\\nhttp://www.twitch.com/hellthyjunkfood\\nSnapchat - HellthyJunkFood\\n\\nThis video is sponsored\\nMusic - Epidemic Sound",
         "Entertainment",
         "0.978238809335889",
         "0.04599757034566519",
         "0.006239997848276576"
        ],
        [
         "26",
         "fcVjitaM3LY",
         "17.14.11",
         "78557 and Proth Primes - Numberphile",
         "Numberphile",
         "28",
         "2017-11-13 12:13:36+00:00",
         "numberphile|\"prime numbers\"|\"proth prime\"",
         "80705",
         "4687",
         "41",
         "437",
         "https://i.ytimg.com/vi/fcVjitaM3LY/default.jpg",
         "False",
         "False",
         "False",
         "James Grime is back and talking prime numbers.\\nCheck out Brilliant.org by using the link: https://brilliant.org/numberphile (20% off premium subscription)\\n\\nMore on prime numbers: http://bit.ly/primevids\\nJames Grime: http://singingbanana.com\\n\\nEditing by Pete McPartlan\\nMusic by Alan Stewart\\n\\nRead about Sierpinski Numbers: https://en.wikipedia.org/wiki/Sierpinski_number\\n\\nPrimeGrid: http://www.primegrid.com\\n\\nNumberphile is supported by the Mathematical Sciences Research Institute (MSRI): http://bit.ly/MSRINumberphile\\n\\nWe are also supported by Science Sandbox, a Simons Foundation initiative dedicated to engaging everyone with the process of science.\\n\\nNUMBERPHILE\\nWebsite: http://www.numberphile.com/\\nNumberphile on Facebook: http://www.facebook.com/numberphile\\nNumberphile tweets: https://twitter.com/numberphile\\nSubscribe: http://bit.ly/Numberphile_Sub\\n\\nVideos by Brady Haran\\n\\nPatreon: http://www.patreon.com/numberphile\\n\\nBrady's videos subreddit: http://www.reddit.com/r/BradyHaran/\\n\\nBrady's latest videos across all channels: http://www.bradyharanblog.com/\\n\\nSign up for (occasional) emails: http://eepurl.com/YdjL9",
         "Science & Technology",
         "0.9913282571912013",
         "0.06399851310327657",
         "0.005414782231584097"
        ],
        [
         "27",
         "qeWvgZLz9yU",
         "17.14.11",
         "A Smart... MUG?! - Take apart a Heated Thermos!",
         "JerryRigEverything",
         "26",
         "2017-11-13 16:00:03+00:00",
         "Smart mug|\"Heated thermos\"|\"tech\"|\"gift idea\"|\"unboxed\"|\"Ember mug\"|\"ember\"|\"Ember review\"|\"Heated mug\"|\"teardown\"|\"technology\"|\"Thermous\"|\"winter\"|\"holiday\"|\"christmas\"|\"gift\"|\"mug\"|\"unboxing\"",
         "120727",
         "9033",
         "224",
         "1346",
         "https://i.ytimg.com/vi/qeWvgZLz9yU/default.jpg",
         "False",
         "False",
         "False",
         "YouTubes new channel!: https://www.youtube.com/unboxed for the latest unboxings from YouTubes creators! Good gift ideas for everyone on your list. \\nWinter is coming, and this smart mug is designed to keep your drinks warm on the go, or all day long at your desk! This new mug from Ember is the smart mug you never though you needed, but now want to have. http://amzn.to/2zC9VFE\\n\\nThe camera I used to film this video: http://amzn.to/2p7GtkX\\nThe Lens I used for this video: http://amzn.to/1QOXDw2\\nWide angle lens: http://amzn.to/2qiYM4u\\nAnd this Metabones adapter: http://amzn.to/2iZ67Ty\\nThis is the drone I use: http://amzn.to/2joH00G\\n\\n*Follow me for updates!*\\nInstagram: http://instagram.com/zacksjerryrig\\nFacebook: http://on.fb.me/1U4bQqv\\nTwitter: https://twitter.com/ZacksJerryRig\\nSnapchat: http://bit.ly/1UAb2Fq\\nGooglePlus: https://bit.ly/1YyKice\\n\\nJerryRigEverything assumes no liability for property damage or injury incurred as a result of any of the information contained in this video.  JerryRigEverything recommends safe practices when working with power tools, automotive lifts, lifting tools, jack stands, electrical equipment, blunt instruments, chemicals, lubricants, expensive electronics, or any other tools or equipment seen or implied in this video.  Due to factors beyond the control of JerryRigEverything, no information contained in this video shall create any express or implied warranty or guarantee of any particular result.  Any injury, damage or loss that may result from improper use of these tools, equipment, or the information contained in this video is the sole responsibility of the user and not JerryRigEverything. Only attempt your own repairs if you can accept personal responsibility for the results, whether they are good or bad.",
         "Howto & Style",
         "0.9758020957113536",
         "0.08782625261954585",
         "0.011149121571810687"
        ],
        [
         "28",
         "iIxy3JN3-jc",
         "17.14.11",
         "LeBron James admits he was ripping Phil Jackson and thinks DeShaun Watson should be the Browns qu...",
         "Cleveland Cavaliers on cleveland.com",
         "25",
         "2017-11-13 15:42:28+00:00",
         "auth-jvardon-auth",
         "27943",
         "156",
         "36",
         "83",
         "https://i.ytimg.com/vi/iIxy3JN3-jc/default.jpg",
         "False",
         "False",
         "False",
         "LeBron James gave another all-time press conference in New York",
         "News & Politics",
         "0.8125",
         "0.009841462978205281",
         "0.0029703324625128666"
        ],
        [
         "29",
         "n30k5CwLhS4",
         "17.14.11",
         "Nick Andopolis: Drummer",
         "FaeryInLoveInc",
         "1",
         "2011-05-29 17:03:12+00:00",
         "freaks and geeks|\"jason segel\"|\"judd apatow\"|\"drums\"|\"rush\"|\"paul feig\"|\"drummer\"|\"nick andopolis\"",
         "50867",
         "715",
         "238",
         "246",
         "https://i.ytimg.com/vi/n30k5CwLhS4/default.jpg",
         "False",
         "False",
         "False",
         "The opening of Freaks and Geeks Episode 6, I'm With The Band",
         "Film & Animation",
         "0.7502623294858342",
         "0.02357127410698442",
         "0.004836141309689881"
        ],
        [
         "30",
         "U0hAC8O7RoI",
         "17.14.11",
         "I TOOK THE $3,000,000 LAMBO TO CARMAX! They offered me......",
         "hp_overload",
         "2",
         "2017-11-13 01:43:12+00:00",
         "carmax|\"lamborghini miura\"|\"miura carmax\"|\"lamborghini carmax\"|\"took lamborghini to carmax\"|\"supercar carmax\"|\"selling my car at acrmax\"|\"lambo carmax\"|\"stradman\"|\"vehicle virgins\"|\"doug demuro\"",
         "98378",
         "4035",
         "495",
         "486",
         "https://i.ytimg.com/vi/U0hAC8O7RoI/default.jpg",
         "False",
         "False",
         "False",
         "Finally took the Miura to Carmax! Hope you enjoyed!\\nMake sure to subscribe and follow me on Instagram @Hp_overload",
         "Autos & Vehicles",
         "0.890728476821192",
         "0.05098700929069455",
         "0.004940128890605573"
        ],
        [
         "31",
         "CBVGjS_EJok",
         "17.14.11",
         "Amazon Christmas Advert 2017 - Toys & Games",
         "Amazon.co.uk",
         "24",
         "2017-11-06 17:52:50+00:00",
         "Amazon|\"Amazon Christmas\"|\"Amazon Xmas\"|\"Christmas\"|\"Xmas\"|\"ad\"|\"christmas ad\"|\"commercial\"|\"Holidays\"|\"advert\"|\"christmas advert\"|\"Amazon ad\"|\"UK\"|\"Amazon Christmas Advert\"|\"Christmas (Holiday)\"|\"Amazon Christmas advert 2017\"|\"Amazon xmas ad 2017\"|\"Amazon Holiday Advert\"|\"Delivery\"|\"Gift\"|\"Amazon Delivery\"|\"boxes\"|\"singing boxes\"|\"smile\"|\"give a littlle bit\"|\"Roger Hodgson - Give a Little Bit\"|\"Roger Hodgson\"",
         "26000",
         "119",
         "69",
         "0",
         "https://i.ytimg.com/vi/CBVGjS_EJok/default.jpg",
         "True",
         "False",
         "False",
         "Shhhh. See how Amazon helps Dad create a magical Christmas to the tune of Roger Hodgson’s “Give a Little Bit”#givealittlebit http://www.rogerhodgson.com",
         "Entertainment",
         "0.6329787234042553",
         "0.007230769230768952",
         "0.0"
        ],
        [
         "32",
         "n1WpP7iowLc",
         "17.14.11",
         "Eminem - Walk On Water (Audio) ft. Beyoncé",
         "EminemVEVO",
         "10",
         "2017-11-10 17:00:03+00:00",
         "Eminem|\"Walk\"|\"On\"|\"Water\"|\"Aftermath/Shady/Interscope\"|\"Rap\"",
         "17158531",
         "787419",
         "43420",
         "125882",
         "https://i.ytimg.com/vi/n1WpP7iowLc/default.jpg",
         "False",
         "False",
         "False",
         "Eminem's new track Walk on Water ft. Beyoncé is available everywhere: http://shady.sr/WOWEminem \\nPlaylist Best of Eminem: https://goo.gl/AquNpo\\nSubscribe for more: https://goo.gl/DxCrDV\\n\\nFor more visit: \\nhttp://eminem.com\\nhttp://facebook.com/eminem\\nhttp://twitter.com/eminem\\nhttp://instagram.com/eminem\\nhttp://eminem.tumblr.com\\nhttp://shadyrecords.com\\nhttp://facebook.com/shadyrecords\\nhttp://twitter.com/shadyrecords\\nhttp://instagram.com/shadyrecords\\nhttp://trustshady.tumblr.com\\n\\nMusic video by Eminem performing Walk On Water. (C) 2017 Aftermath Records\\nhttp://vevo.ly/gA7xKt",
         "Music",
         "0.9477395740931757",
         "0.05575774522888935",
         "0.007336408926848109"
        ],
        [
         "33",
         "hz7ukDjuq4w",
         "17.14.11",
         "What's Inside a Detectives Car?",
         "officer401",
         "24",
         "2017-11-12 23:41:37+00:00",
         "detective|\"officer\"|\"401\"|\"officer401\"|\"police\"|\"cop\"|\"cops\"|\"law\"|\"enforcement\"|\"investigator\"|\"ford\"|\"fusion\"|\"crown vic\"|\"charger\"|\"dodge\"|\"patrol\"|\"cid\"|\"criminal\"|\"investigations\"|\"division\"|\"mre\"|\"survival food\"|\"trunk\"|\"2011\"|\"2012\"|\"2013\"|\"2014\"|\"2015\"|\"2016\"|\"2017\"|\"fusion se\"|\"ford fusion\"|\"ford fusion se\"|\"vest\"|\"outter\"|\"carrier\"|\"bullet-proof\"|\"bullet-proof vest\"|\"level 2 armor\"|\"level 3 armor\"",
         "67661",
         "3781",
         "84",
         "626",
         "https://i.ytimg.com/vi/hz7ukDjuq4w/default.jpg",
         "False",
         "False",
         "False",
         "Intro Song: Dion Timmer - Lost\\nEnding Song: Slips & Slurs - 04 Divided VIP\\nNEW STORE: https://store.officer401.com/\\n-------------------------------------------------------------------------------\\nPATREON: https://www.patreon.com/officer401\\nDISCORD CHATROOM: https://discord.gg/officer401\\nCOMMUNITY FORUM: https://officer401.com/forum\\nFACEBOOK: https://www.facebook.com/officer401\\nINSTAGRAM: https://instagram.com/officer401\\nTWITCH: https://www.twitch.tv/officer401\\nTWITTER: https://twitter.com/Officer401Vlogs\\nSnapChat: officer401\\n-----------------------------------------\\nWhat do detectives keep inside their cars?",
         "Entertainment",
         "0.9782664941785252",
         "0.06637501662700719",
         "0.00925200632565275"
        ],
        [
         "34",
         "p2hJxyF7mok",
         "17.14.11",
         "New Emirates First Class Suite | Boeing 777 | Emirates",
         "Emirates",
         "19",
         "2017-11-12 05:55:42+00:00",
         "Emirates|\"First Class\"",
         "141148",
         "1661",
         "70",
         "236",
         "https://i.ytimg.com/vi/p2hJxyF7mok/default.jpg",
         "False",
         "False",
         "False",
         "We are the changing the game in First Class travel. Inspired by @MercedesBenz, our new fully enclosed @Boeing 777 First Class Private Suites have floor-to-ceiling sliding doors, and combine smart technology and intelligent design to deliver function, luxury and comfort. http://bit.ly/emiratesgamechanger",
         "Travel & Events",
         "0.9595609474292317",
         "0.013935727038285956",
         "0.0016720038541105672"
        ],
        [
         "35",
         "0mlNzVSJrT0",
         "17.14.11",
         "Me-O Cats Commercial",
         "Nobrand",
         "22",
         "2017-04-21 06:47:32+00:00",
         "cute|\"cats\"|\"thai\"|\"eggs\"",
         "98966",
         "2486",
         "184",
         "532",
         "https://i.ytimg.com/vi/0mlNzVSJrT0/default.jpg",
         "False",
         "False",
         "False",
         "Kittens come out of the eggs in a Thai commercial\\n\\nReuploaded from Youku since original was deleted.",
         "People & Blogs",
         "0.9310861423220974",
         "0.0323545460056986",
         "0.0053755835337388055"
        ],
        [
         "36",
         "Om_zGhJLZ5U",
         "17.14.11",
         "TL;DW - Every DCEU Movie Before Justice League",
         "Screen Junkies",
         "1",
         "2017-11-12 18:00:03+00:00",
         "screenjunkies|\"screen junkies\"|\"sj news\"|\"honest trailers\"|\"honest trailer\"|\"wonder woman\"|\"batman\"|\"superman\"|\"the joker jared leto\"|\"man of steel\"|\"justice league\"|\"justice league review\"|\"batman vs superman\"|\"bvs\"|\"dceu\"|\"dc movie plot\"|\"justice league plot\"|\"wonder woman plot\"|\"batman plot\"|\"motherbox\"|\"justice league trailer\"|\"suicide squad\"|\"will smith\"|\"deadshot\"|\"joker harley quinn\"|\"margot robbie\"|\"suicide squad review\"|\"dc marvel\"",
         "288922",
         "7515",
         "792",
         "2111",
         "https://i.ytimg.com/vi/Om_zGhJLZ5U/default.jpg",
         "False",
         "False",
         "False",
         "With Justice League approaching fast we rewatched all four movies in the DCEU so that you don't have too. Spencer Gilbert breaks down the plot and things that will be important going forward!\\n\\nGot a tip? Email us ► tips@screenjunkies.com\\nFollow us on Twitter ► http://twitter.com/screenjunkies\\nLike us on Facebook ► http://www.fb.com/screenjunkies\\nGet Screen Junkies Gear! ►► http://bit.ly/SJMerch",
         "Film & Animation",
         "0.90465872156013",
         "0.03605817487072623",
         "0.0073064702584088185"
        ],
        [
         "37",
         "e_7zHm7GsYc",
         "17.14.11",
         "Hunter Hayes - You Should Be Loved (Part One Of Pictures)",
         "Hunter Hayes",
         "10",
         "2017-11-13 15:01:18+00:00",
         "Hunter|\"Hayes\"|\"you should be loved\"|\"the shadowboxers\"|\"pictures\"|\"part one\"|\"official\"|\"music video\"|\"trilogy\"|\"hunter hayes\"|\"wanted\"|\"i want crazy\"|\"storm warning\"",
         "13917",
         "1318",
         "24",
         "76",
         "https://i.ytimg.com/vi/e_7zHm7GsYc/default.jpg",
         "False",
         "False",
         "False",
         "You Should Be Loved (feat. The Shadowboxers) Available Now! Download or stream it here: https://HunterHayes.lnk.to/ysbl\\n\\nLike what you heard? Download or stream more songs by Hunter: \\niTunes: http://smarturl.it/hunterhayes_itunes\\nSpotify: http://smarturl.it/hunterhayes_sp\\n\\nStay in touch with Hunter! Follow him on social media: \\nWebsite: http://smarturl.it/hunterhayes_site\\nFacebook: http://smarturl.it/hunterhayes_fb \\nTwitter: http://smarturl.it/hunterhayes_tw\\nInstagram: http://smarturl.it/hunterhayes_ig\\n\\nMusic video by Hunter Hayes. ©2017 Atlantic Recording Corporation.",
         "Music",
         "0.9821162444113264",
         "0.10188977509519997",
         "0.005460947043184202"
        ],
        [
         "38",
         "dQvIbulWCM4",
         "17.14.11",
         "Celebrities on Thanksgiving 2017!",
         "Niki and Gabi",
         "23",
         "2017-11-12 23:41:48+00:00",
         "niki and gabi|\"nikiandgabibeauty\"|\"celebrities on thanksgiving\"|\"celebrities\"|\"thanksgiving\"|\"celebrity thanksgiving\"|\"thanksgiving 2017\"|\"celebrities in high school\"|\"celebrities at prom\"|\"celebrities have a sleepover\"|\"celebrity talent show\"|\"celebrities at the beach\"|\"taylor swift\"|\"parody\"|\"comedy\"",
         "605932",
         "38397",
         "1387",
         "3412",
         "https://i.ytimg.com/vi/dQvIbulWCM4/default.jpg",
         "False",
         "False",
         "False",
         "Celebrities on Thanksgiving 2017!\\nWhat if one day Taylor Swift invited her enemies toThanksgiving? Watch to find out what would happen! This video features Kim and Kanye, Katy Perry, Calvin Harris, Joe Jonas, Demi Lovato, and Kylie Jenner.  Let the games begin! \\nSubscribe here ➜ http://bit.ly/2vxi9ch\\n\\nSpecial thanks to:\\nJoe Jonas- http://youtube.com/dahberger\\nKaty Perry- Alessandra DeMartino @alessandralorenn\\nhttps://www.youtube.com/xxYourPalAlxx\\nDemi Lovato- @therealjessemarie\\nKanye West- Juvany Georges\\n\\nIf you enjoyed this Taylor swift parody, then watch our previous Look What You Made Me Do Parody down below:\\nhttps://youtu.be/Qww8L3DUpSM\\n\\nIf you enjoyed this Taylor swift parody, then watch our previous Celebrity videos below!\\nCelebrities go to the Beach: https://www.youtube.com/watch?v=sgFGb3bKe0o\\nCelebrities at Prom: \\nhttps://www.youtube.com/watch?v=2ZO8W97K5_A\\nCelebrities in High School:\\nhttps://www.youtube.com/watch?v=K3SYedrtKOo\\nCelebrity Talent Show:\\n https://www.youtube.com/watch?v=qZaHv7PDo_Y\\nCelebrities Have a Sleepover:\\nhttps://www.youtube.com/watch?v=bQxLZ5jROkA\\nCelebrities on Halloween:\\n https://www.youtube.com/watch?v=PGQvzX_bXa8\\nCelebrity Morning Routines: https://youtu.be/ghebChMBp3w\\n\\n\\n**NEW VIDEOS EVERY SUNDAY!**\\n\\nIf you see this, comment THAT FOOD FIGHT OMG \\nonly those who watch up to that point will know what this means ;)\\n\\nSOCIAL MEDIA \\nInstagram➜ @NIKI / @GABI\\nTwitter➜ @nikidemar / @gabcake\\n\\nTumblr➜ nikidemar / breakfastatchanel-starringgabi\\nSnapchat➜ nikidemarrr / fancysnapsbygab\\n\\nWe’re Niki and Gabi! We hope you enjoyed our taylor swift parody! We’re twin sisters who are totally different with opposite fashion and styles, but we come together to make videos about  celebrities, create parody videos, shopping videos, beauty, and more!",
         "Comedy",
         "0.9651367383872914",
         "0.07128852742551957",
         "0.005630994897117159"
        ],
        [
         "39",
         "zZ9FciUx6gs",
         "17.14.11",
         "Nickelback - The Betrayal Act III [Official Video]",
         "Nickelback",
         "10",
         "2017-11-13 15:31:44+00:00",
         "Nickelback|\"Feed The Machine\"|\"The Betrayal Act III\"|\"The Betrayal\"|\"Rock\"|\"Alternative\"|\"Anthem Films\"|\"Kevin Slack\"|\"Chad Kroeger\"|\"Ryan Peake\"|\"Mike Kroeger\"|\"Daniel Adair\"|\"How You Remind Me\"|\"Rockstar\"",
         "57169",
         "6927",
         "161",
         "565",
         "https://i.ytimg.com/vi/zZ9FciUx6gs/default.jpg",
         "False",
         "False",
         "False",
         "New Album, ‘Feed The Machine’, Available Now: http://smarturl.it/FeedTheMachine\\n\\nProduced by Anthem Films\\n\\nFor more Nickelback, visit:\\nhttp://www.nickelback.com\\nhttp://www.facebook.com/nickelback\\nhttp://www.twitter.com/nickelback\\nhttp://www.instagram.com/nickelback",
         "Music",
         "0.977285553047404",
         "0.13386625618779174",
         "0.009882978537319004"
        ],
        [
         "40",
         "PaJCFHXcWmM",
         "17.14.11",
         "U2 - The Blackout",
         "U2VEVO",
         "10",
         "2017-11-13 17:00:04+00:00",
         "U2|\"The\"|\"Blackout\"|\"Island\"|\"Records\"|\"Rock\"",
         "60506",
         "5389",
         "106",
         "455",
         "https://i.ytimg.com/vi/PaJCFHXcWmM/default.jpg",
         "False",
         "False",
         "False",
         "'The Blackout’ from upcoming album Songs of Experience – Pre-order now.\\n \\nFollow U2: http://www.u2.com/\\nFacebook: https://U2.lnk.to/FBID\\nTwitter: https://U2.lnk.to/TWID\\nInstagram: https://U2.lnk.to/ISID\\n \\n#U2TheBlackout \\n#U2SongsofExperience In the darkness where we learn to see\\n\\nMusic video by U2 performing The Blackout. (C) 2017 Universal Music Operations Limited\\n\\nhttp://vevo.ly/TETtx3",
         "Music",
         "0.9807097361237489",
         "0.0983373549730589",
         "0.007519915380292739"
        ],
        [
         "41",
         "goP4Z5wyOlM",
         "17.14.11",
         "Iraq-Iran earthquake: Deadly tremor hits border region - BBC News",
         "BBC News",
         "25",
         "2017-11-12 21:16:40+00:00",
         "bbc|\"bbc news\"|\"news\"|\"iran\"|\"iran news\"|\"iraq\"|\"iraq news\"|\"earthquake\"|\"breaking news\"|\"Iraq-Iran earthquake\"",
         "34785",
         "308",
         "26",
         "413",
         "https://i.ytimg.com/vi/goP4Z5wyOlM/default.jpg",
         "False",
         "False",
         "False",
         "A strong 7.2-magnitude earthquake has rattled the northern Iraq-Iran border region, killing at least 10 people.\\nThe quake struck in the evening local time south of the Iraqi town of Halabja at a depth of 33.9 km (21 miles), the US Geological Survey (USGS) said.\\nAt least six people died in western Iran, state media said, with another four reported dead in Iraq.\\n\\n\\nPlease subscribe HERE http://bit.ly/1rbfUog\\n\\nWorld In Pictures https://www.youtube.com/playlist?list=PLS3XGZxi7cBX37n4R0UGJN-TLiQOm7ZTP\\nBig Hitters https://www.youtube.com/playlist?list=PLS3XGZxi7cBUME-LUrFkDwFmiEc3jwMXP\\nJust Good News https://www.youtube.com/playlist?list=PLS3XGZxi7cBUsYo_P26cjihXLN-k3w246",
         "News & Politics",
         "0.9221556886227545",
         "0.021474773609313744",
         "0.011872933735805323"
        ],
        [
         "42",
         "NZFhMSgbKKM",
         "17.14.11",
         "Dennis Smith Jr. and LeBron James go back and forth",
         "Ben Rohrbach",
         "17",
         "2017-11-13 15:11:00+00:00",
         "[none]",
         "945",
         "7",
         "5",
         "8",
         "https://i.ytimg.com/vi/NZFhMSgbKKM/default.jpg",
         "False",
         "False",
         "False",
         "",
         "Sports",
         "0.5833333333333334",
         "0.021164021163998768",
         "0.008465608465599508"
        ],
        [
         "43",
         "0tO_l_Ed5Rs",
         "17.14.11",
         "Matthew Santoro - FACTS (Official Music Video) f. Ellevan & Humble the Poet",
         "MatthewSantoro",
         "10",
         "2017-11-11 16:00:01+00:00",
         "matthew santoro facts|\"music video\"|\"matthew santoro\"|\"Ellevan\"|\"EllevanMusic\"|\"HumbleThePoet\"|\"Humble The Poet\"|\"FACTS\"|\"whats that facts\"",
         "328330",
         "15186",
         "15448",
         "7484",
         "https://i.ytimg.com/vi/0tO_l_Ed5Rs/default.jpg",
         "False",
         "False",
         "False",
         "LISTEN WITH HEADPHONES! 🎧. WATCH IN 4K! 👀\\nProduced by Ellevan. Directed by Strø. Shot on RED.\\nSpecial thanks to EllevanMusic and HumbleThePoet for their tireless hours put in helping to produce, perform in, and perfect this song! \\nEllevan: \\nhttp://youtube.com/ellevanmusic11\\nhttp://instagram.com/ellevanmusic\\nMore music: http://bit.ly/EllevanSpotify\\nHumble:\\nhttp://www.youtube.com/humblethepoet\\nhttp://instagram.com/humblethepoet\\nMore music: http://bit.ly/HumbleTPMusic\\n\\nHuge thanks to all these talented people who appeared in the video. They all do amazing things! FOLLOW THEM ON IG!\\nStephen Spence @iamstevenspence\\nJah'lon Wright @ijahlon\\nSwoozie @swoozie\\nAshley Kaltwasser @ashleykfit\\nTim Brehmer @tim_brehmer\\nJosh Lin @joshpalerlin\\nSimmi Singh @simszter\\nBrandon Dawson @bdizzlewitthestampinthemiddle\\nTwan @twan\\nRay Diaz @raydiaz\\nLondon Shay @londonshaygoheen\\nAdin Kolansky @adinkolansky\\nBrittanie Nash @brittanie.nash\\nTori Ross @itstoriross\\nSabrina Manning @sabrina_nissa\\nHuda Chay @hudachay\\nMadeleine Rose @cheriemadeleine\\nMarissa Gold @themarissagold\\nAyla Marie @ayla_woodruff\\nEmily Katz @emily_k8z\\nMax Weisz @maxnosleeves\\nKathryn Le @kathrynle_\\nStrø @directedbystro\\n\\nOfficial album art: https://instagram.com/p/BbTfs-7AnrZ/\\nvia http://instagram.com/jocktherock\\n\\nTwitter: http://twitter.com/MatthewSantoro\\nFacebook: http://facebook.com/MatthewSantoro\\nInstagram: http://instagram.com/MatthewSantoro\\nSnapchat: http://snapchat.com/add/MatthewSantoro\\n\\nGet my book MIND = BLOWN here! http://bit.ly/MattsBook",
         "Music",
         "0.49572370568649216",
         "0.11609661011786887",
         "0.022794140042030814"
        ],
        [
         "44",
         "STI2fI7sKMo",
         "17.14.11",
         "AFFAIRS, EX BOYFRIENDS, $18MILLION NET WORTH - GOOGLE US | Shawn and Andrew",
         "Shawn Johnson East",
         "22",
         "2017-11-11 15:00:03+00:00",
         "shawn johnson|\"andrew east\"|\"shawn east\"|\"shawn and andrew\"|\"olympian\"|\"nfl player\"|\"athletes\"|\"vlog\"|\"couples\"|\"google irl\"|\"google feud\"|\"google markiplier\"|\"google myself\"|\"challenge\"|\"reactions\"|\"reacts\"|\"internet\"|\"memes\"|\"funny\"|\"birthday\"|\"cringe\"|\"laughing\"|\"daily\"|\"vlogger\"|\"stupid\"|\"cute\"|\"boy\"|\"diy\"|\"google\"|\"myself\"|\"googled\"|\"googling\"|\"liza\"|\"lizakoshy\"|\"wednesdays\"|\"liza koshy\"|\"googling myself\"|\"liza koshy net worth\"|\"liza koshy google\"|\"liza facts\"|\"liza panties\"|\"net worth\"|\"youtuber net worth\"|\"youtuber facts\"",
         "321053",
         "4451",
         "1772",
         "895",
         "https://i.ytimg.com/vi/STI2fI7sKMo/default.jpg",
         "False",
         "False",
         "False",
         "Subscribe for weekly videos ▶ http://bit.ly/sjofficoak\\n\\nDon't believe everything you read.\\n\\nFAN MAIL ADDRESS: \\nShawn and Andrew East\\n750 N San Vicente Blvd., \\nEast Tower, 11th Floor, \\nLos Angles, CA 90069\\n\\nFollow My Instagram ▶ http://www.instagram.com/ShawnJohnson\\nLike the Facebook page! ▶ http://www.facebook.com/ShawnJohnson\\nFollow My Twitter ▶ http://www.twitter.com/ShawnJohnson\\nSnapchat! ▶ @ShawneyJ\\n\\nFollow AndrewsTwitter ▶ http://www.twitter.com/AndrewDEast\\nFollow My Instagram ▶ http://www.instagram.com/AndrewDEast\\nLike the Facebook page! ▶ http://www.facebook.com/AndrewDEast\\nSnapchat! ▶ @AndrewDEast",
         "People & Blogs",
         "0.7152498794793508",
         "0.02217079423023606",
         "0.0027877017190308055"
        ],
        [
         "45",
         "BWPrk9PUwQE",
         "17.14.11",
         "iPhone X vs Makeup Transformation (Face ID TEST)",
         "dope2111",
         "26",
         "2017-11-12 00:45:54+00:00",
         "iphone x|\"iphonex makeup\"|\"iphonex test\"|\"new iphone\"|\"iphone vs makeup\"|\"face id\"|\"face id test\"|\"iphone x challenge\"|\"iphone hack\"|\"iphone x makeup tutorial\"|\"makup tutorial\"|\"2017 makeup\"|\"promise phan\"|\"twins face id\"|\"twins iphonex\"|\"iphonex face\"|\"iphonex review\"",
         "1456472",
         "33505",
         "1660",
         "2160",
         "https://i.ytimg.com/vi/BWPrk9PUwQE/default.jpg",
         "False",
         "False",
         "False",
         "I was really curious to see how good Apple's iPhone X Face Recognization feature was so I filmed this quick video. I am not gonna give you spoilers but it was a tough challenge. I started with the Brows, Eye Makeup, Lips, Face Contour and the wig and contacts. I had to make sure each of my feature was made the exact opposite to try to trick the phone. Anyways watch the whole video and see how this ends up. Please Subscribe and Hit the Bell button on your phone to get upload notifications.\\n\\nProducts used : \\nJouer High Coverage creme foundation \\nWashable Elmers glue\\nMac Studio fix foundation\\nColourpop Brow Pencil\\nUrban Decay Naked Heat Palette \\nABH Concealer\\nClinique black Liner \\nLily Lashes \\nGerard Cosmetics Lip Liner \\nNYX Cosmetics  Sculpt and Highlight\\nTrestique Contour stick\\nKat Von D Contour Palette\\nBen Nye Nose and Scar Wax \\n\\nThanks for Watching !!!",
         "Howto & Style",
         "0.9527939712782596",
         "0.02562699454572417",
         "0.001483035719189932"
        ],
        [
         "46",
         "ogYum4kWXgk",
         "17.14.11",
         "People are Awesome & The Pet Collective present Pets are Awesome!",
         "People are Awesome",
         "24",
         "2017-11-13 13:00:06+00:00",
         "people are awesome|\"people are awesome 2017\"|\"youtube\"|\"hd\"|\"compilation\"|\"humans\"|\"amazing people\"|\"incredible\"|\"gopro\"|\"gopro hero\"|\"extreme sports\"|\"adventure travel\"|\"people are awesome videos\"|\"PAA\"|\"the pet collective\"|\"pet collective TV\"|\"I love my pets\"|\"awesome pets\"|\"pets are awesome\"|\"Adventure Pup\"|\"Adventure Dogs\"|\"Good Doggo\"|\"Adventure Cats\"|\"Surfing\"|\"snowboarding\"|\"skiing\"|\"wakeboarding\"",
         "69844",
         "3417",
         "33",
         "160",
         "https://i.ytimg.com/vi/ogYum4kWXgk/default.jpg",
         "False",
         "False",
         "False",
         "Pets are Awesome! This is for all the animal lovers out there. Pets aren't just animals, they're family! They make the best of best friends, and are pretty rad adventure buddies too. Did you have a favorite? Let us know in the comments! \\n\\nSubscribe to The Pet Collective! \\nhttps://www.youtube.com/ThePetCollective\\n\\n➤ WATCH NEXT\\n\\n⇢ Best of the Week!\\nhttps://www.youtube.com/watch?v=z9NFbXNghuE\\n\\n\\n➤ MUSIC\\nTitle: Some Kind Of Magic (feat. MYZICA) by LVTHER\\niTunes Download Link: https://itunes.apple.com/us/album/some-kind-magic-feat.-myzica/id1095080701\\nListen on Spotify: https://open.spotify.com/album/7fyHjUeUewEqqvTol9QQx9\\nVideo Link: https://www.youtube.com/watch?v=SzWk_I304Sg\\n\\n\\n➤ ORIGINAL VIDEOS\\nhttps://goo.gl/xP69SA\\nhttps://goo.gl/iPkWa9\\nhttps://goo.gl/nSi3cb\\nhttps://goo.gl/384Nrq\\nhttps://goo.gl/XckbCJ\\nhttps://goo.gl/71GvLa\\nhttps://goo.gl/kvUbQv\\nhttps://goo.gl/r5Kzr9\\nhttps://goo.gl/gyK6pc\\nhttps://goo.gl/bZa42g\\nhttps://goo.gl/PqHR2E\\nhttps://goo.gl/gWhv3E\\nhttps://goo.gl/1nmW8A\\nhttps://goo.gl/nL7tZp\\nhttps://goo.gl/chJ6om\\nhttps://goo.gl/F7myih\\nhttps://goo.gl/QPSy6L\\nhttps://goo.gl/tZyzLm\\nhttps://goo.gl/svtLJj\\nhttps://goo.gl/svtLJj\\nhttps://goo.gl/tXQS3V\\nhttps://goo.gl/FcmueK\\nhttps://goo.gl/3nmZCr\\nhttps://goo.gl/pjnAm2\\nhttps://goo.gl/9y9Cy9\\nhttps://goo.gl/jHE597\\nhttps://goo.gl/qr3zxP\\nhttps://goo.gl/XSnYXX\\nhttps://goo.gl/5Kpmvm\\nhttps://goo.gl/5nvFjV\\nhttps://goo.gl/juLFcN\\n\\n\\n➤ Subscribe: http://bit.ly/PAASubscribe\\n➤ Submit Videos: http://bit.ly/SubmitPAA\\n\\n\\nFacebook: http://bit.ly/fPAA\\nInstagram: http://bit.ly/InstaPAA\\nTwitter: http://bit.ly/tweetPAA\\n\\nFor business and licensing inquiries: contact@peopleareawesome.com\\n\\nPEOPLE ARE AWESOME is the number one destination for amazing, original videos and compilations of ordinary people doing extraordinary things. We feature all sorts of different extreme sports and activities other amazing feats, including parkour, skateboarding, tricking, cliff diving, wingsuit flying, skiing, snowboarding, surfing, BMX, acrobatics, calisthenics, cheerleading, freestyle football, basketball dunks, extreme pogo, freerunning, cycling, kayaking, frisbee trick shots, golf, martial arts, BASE jumping and many, many more a host of other action sports! Whether you’re searching in 2015 or any other year, check out our amazing and original action sports videos in HD where we show you why we think people are awesome!\\n\\nTo license any of the videos shown on People are Awesome, visit Jukin Media at http://jukinmedia.com/licensing",
         "Entertainment",
         "0.9904347826086957",
         "0.05168661588683277",
         "0.0022908195406906493"
        ],
        [
         "47",
         "sbcbvuitiTc",
         "17.14.11",
         "Stephon Marbury and Jimmer Fredette fight in China",
         "NBA Highlights · YouTube",
         "17",
         "2017-11-10 18:23:05+00:00",
         "NBA|\"Basketball\"|\"Sports\"",
         "956169",
         "2017",
         "2425",
         "1447",
         "https://i.ytimg.com/vi/sbcbvuitiTc/default.jpg",
         "False",
         "False",
         "False",
         "",
         "Sports",
         "0.4540747411076092",
         "0.006158953072103355",
         "0.0015133308023999924"
        ],
        [
         "48",
         "zNqCVTs38nU",
         "17.14.11",
         "Heidelberg's nifty hook-and-lateral to the left tackle",
         "D3sports.com",
         "17",
         "2017-11-13 02:15:30+00:00",
         "D3sports|\"NCAA Division III\"|\"D3sports.com\"|\"D3football.com\"|\"Division III football\"|\"#d3fb\"|\"college football\"|\"Division III (Sports Association)\"",
         "4569",
         "35",
         "18",
         "19",
         "https://i.ytimg.com/vi/zNqCVTs38nU/default.jpg",
         "False",
         "False",
         "False",
         "Tyler Stoyle hits Demetrius Magee for a short gain, who then laterals it to the left tackle, Brock Riggs, who comes around to score the touchdown for Heidelberg. It put the Student Princes up 49-20 on Capital in a Division III football game on Nov. 11, 2017.",
         "Sports",
         "0.660377358490566",
         "0.015758371634927607",
         "0.00415845918143923"
        ],
        [
         "49",
         "DM-ni_LSOFE",
         "17.14.11",
         "ELDERS REACT TO iPHONE X (Facial Recognition, Animojis)",
         "FBE",
         "24",
         "2017-11-10 23:05:25+00:00",
         "iPhone X|\"animojis\"|\"facial recognition\"|\"ELDERS REACT TO iPHONE X Facial Recognition Animojis\"|\"elders react\"|\"react\"|\"reaction\"|\"thefinebros\"|\"fine brothers\"|\"fine brothers entertainment\"|\"finebros\"|\"fine bros\"|\"FBE\"|\"watch\"|\"review\"|\"for the first time\"|\"reviews\"|\"responds\"|\"respond\"|\"youtubers react\"|\"teens react\"|\"kids react\"|\"adults react\"|\"parents react\"|\"teenagers react\"|\"iphone\"|\"apple\"|\"iphone 8\"",
         "2045386",
         "45406",
         "2842",
         "8309",
         "https://i.ytimg.com/vi/DM-ni_LSOFE/default.jpg",
         "False",
         "False",
         "False",
         "iPhoneX (Facial Recognition, Animojis) reacted to by Elders!\\nWatch all main React episodes (Kids/Teens/Elders/Adults/YouTubers): http://goo.gl/4iDVa\\nSUBSCRIBE THEN HIT THE 🔔! New Videos 2pm PT on FBE! http://goo.gl/aFu8C\\nWatch latest videos from FBE: https://goo.gl/aU5PSm\\n\\nElders react to the new iPhone X including animojis! Watch to see their reaction!\\n\\nFeatured Elders: \\nAlex\\nCatherine\\nhttps://twitter.com/rocknrollElder\\nDon\\nhttps://twitter.com/donwblocker\\nGary\\nJohnny\\nJosie\\nRobert\\nhttps://www.youtube.com/c/Robgoldston\\nRuby\\nhttps://twitter.com/rhayes11\\nVera\\n\\nMERCH 👕 https://www.shopfbe.com\\n\\nFollow Fine Brothers Entertainment:\\nFBE WEBSITE: http://www.finebrosent.com\\nFBE CHANNEL: http://www.youtube.com/FBE\\nREACT CHANNEL: http://www.youtube.com/REACT\\nBONUS CHANNEL: https://www.youtube.com/FBE2\\nFACEBOOK: http://www.facebook.com/FBE\\nFACEBOOK: http://www.facebook.com/FBEShows\\nTWITTER: http://www.twitter.com/fbe\\nINSTAGRAM: http://www.instagram.com/fbe\\nSNAPCHAT: https://www.snapchat.com/add/finebros\\nSOUNDCLOUD: https://soundcloud.com/fbepodcast\\niTUNES (Podcast): https://goo.gl/DSdGFT\\nGOOGLE PLAY (Podcast): https://goo.gl/UhL6bk\\nMUSICAL.LY: @fbe\\n\\nSEND US STUFF:\\nFBE\\nP.O. BOX 4324\\nValley Village, CA 91617-4324\\n\\nCreators & Executive Producers - Benny Fine & Rafi Fine\\nHead of Post Production - Nick Bergthold\\nSr.  Associate Producer - Kyle Segal\\nAssociate Producer - Ethan Weiser, Vartuhi Oganesyan\\nJr. Associate Producer - JC Chavez\\nProduction Coordinator - Cynthia Garcia\\nStudio Technician - Josh Hilton\\nProduction Assistant - Jayden Romero, Lauren Hutchinson\\nEditor - Luke Braun\\nAssistant Editor - Austin Miller, Karen Rivas\\nDirector of Production - Drew Roder\\nAssistant Production Coordinator - Kristy Kiefer\\nPost Supervisor - Adam Speas, David Valbuena\\nMusic - Cormac Bluestone http://www.youtube.com/cormacbluestone\\n\\n© Fine Brothers Entertainment.\\n\\nElders React #129 - ELDERS REACT TO iPHONE X (Facial Recognition, Animojis)",
         "Entertainment",
         "0.9410960039794396",
         "0.027651015505141804",
         "0.004062313910430597"
        ]
       ],
       "shape": {
        "columns": 20,
        "rows": 6351
       }
      },
      "text/html": [
       "<div>\n",
       "<style scoped>\n",
       "    .dataframe tbody tr th:only-of-type {\n",
       "        vertical-align: middle;\n",
       "    }\n",
       "\n",
       "    .dataframe tbody tr th {\n",
       "        vertical-align: top;\n",
       "    }\n",
       "\n",
       "    .dataframe thead th {\n",
       "        text-align: right;\n",
       "    }\n",
       "</style>\n",
       "<table border=\"1\" class=\"dataframe\">\n",
       "  <thead>\n",
       "    <tr style=\"text-align: right;\">\n",
       "      <th></th>\n",
       "      <th>video_id</th>\n",
       "      <th>trending_date</th>\n",
       "      <th>title</th>\n",
       "      <th>channel_title</th>\n",
       "      <th>category_id</th>\n",
       "      <th>publish_time</th>\n",
       "      <th>tags</th>\n",
       "      <th>views</th>\n",
       "      <th>likes</th>\n",
       "      <th>dislikes</th>\n",
       "      <th>comment_count</th>\n",
       "      <th>thumbnail_link</th>\n",
       "      <th>comments_disabled</th>\n",
       "      <th>ratings_disabled</th>\n",
       "      <th>video_error_or_removed</th>\n",
       "      <th>description</th>\n",
       "      <th>category_title</th>\n",
       "      <th>like_ratio</th>\n",
       "      <th>engagement_rate</th>\n",
       "      <th>comments_per_view</th>\n",
       "    </tr>\n",
       "  </thead>\n",
       "  <tbody>\n",
       "    <tr>\n",
       "      <th>0</th>\n",
       "      <td>2kyS6SvSYSE</td>\n",
       "      <td>17.14.11</td>\n",
       "      <td>WE WANT TO TALK ABOUT OUR MARRIAGE</td>\n",
       "      <td>CaseyNeistat</td>\n",
       "      <td>22</td>\n",
       "      <td>2017-11-13 17:13:01+00:00</td>\n",
       "      <td>SHANtell martin</td>\n",
       "      <td>748374</td>\n",
       "      <td>57527</td>\n",
       "      <td>2966</td>\n",
       "      <td>15954</td>\n",
       "      <td>https://i.ytimg.com/vi/2kyS6SvSYSE/default.jpg</td>\n",
       "      <td>False</td>\n",
       "      <td>False</td>\n",
       "      <td>False</td>\n",
       "      <td>SHANTELL'S CHANNEL - https://www.youtube.com/s...</td>\n",
       "      <td>People &amp; Blogs</td>\n",
       "      <td>0.950970</td>\n",
       "      <td>0.102151</td>\n",
       "      <td>0.021318</td>\n",
       "    </tr>\n",
       "    <tr>\n",
       "      <th>1</th>\n",
       "      <td>1ZAPwfrtAFY</td>\n",
       "      <td>17.14.11</td>\n",
       "      <td>The Trump Presidency: Last Week Tonight with J...</td>\n",
       "      <td>LastWeekTonight</td>\n",
       "      <td>24</td>\n",
       "      <td>2017-11-13 07:30:00+00:00</td>\n",
       "      <td>last week tonight trump presidency|\"last week ...</td>\n",
       "      <td>2418783</td>\n",
       "      <td>97185</td>\n",
       "      <td>6146</td>\n",
       "      <td>12703</td>\n",
       "      <td>https://i.ytimg.com/vi/1ZAPwfrtAFY/default.jpg</td>\n",
       "      <td>False</td>\n",
       "      <td>False</td>\n",
       "      <td>False</td>\n",
       "      <td>One year after the presidential election, John...</td>\n",
       "      <td>Entertainment</td>\n",
       "      <td>0.940521</td>\n",
       "      <td>0.047972</td>\n",
       "      <td>0.005252</td>\n",
       "    </tr>\n",
       "    <tr>\n",
       "      <th>2</th>\n",
       "      <td>5qpjK5DgCt4</td>\n",
       "      <td>17.14.11</td>\n",
       "      <td>Racist Superman | Rudy Mancuso, King Bach &amp; Le...</td>\n",
       "      <td>Rudy Mancuso</td>\n",
       "      <td>23</td>\n",
       "      <td>2017-11-12 19:05:24+00:00</td>\n",
       "      <td>racist superman|\"rudy\"|\"mancuso\"|\"king\"|\"bach\"...</td>\n",
       "      <td>3191434</td>\n",
       "      <td>146033</td>\n",
       "      <td>5339</td>\n",
       "      <td>8181</td>\n",
       "      <td>https://i.ytimg.com/vi/5qpjK5DgCt4/default.jpg</td>\n",
       "      <td>False</td>\n",
       "      <td>False</td>\n",
       "      <td>False</td>\n",
       "      <td>WATCH MY PREVIOUS VIDEO ▶ \\n\\nSUBSCRIBE ► http...</td>\n",
       "      <td>Comedy</td>\n",
       "      <td>0.964729</td>\n",
       "      <td>0.049994</td>\n",
       "      <td>0.002563</td>\n",
       "    </tr>\n",
       "    <tr>\n",
       "      <th>3</th>\n",
       "      <td>puqaWrEC7tY</td>\n",
       "      <td>17.14.11</td>\n",
       "      <td>Nickelback Lyrics: Real or Fake?</td>\n",
       "      <td>Good Mythical Morning</td>\n",
       "      <td>24</td>\n",
       "      <td>2017-11-13 11:00:04+00:00</td>\n",
       "      <td>rhett and link|\"gmm\"|\"good mythical morning\"|\"...</td>\n",
       "      <td>343168</td>\n",
       "      <td>10172</td>\n",
       "      <td>666</td>\n",
       "      <td>2146</td>\n",
       "      <td>https://i.ytimg.com/vi/puqaWrEC7tY/default.jpg</td>\n",
       "      <td>False</td>\n",
       "      <td>False</td>\n",
       "      <td>False</td>\n",
       "      <td>Today we find out if Link is a Nickelback amat...</td>\n",
       "      <td>Entertainment</td>\n",
       "      <td>0.938550</td>\n",
       "      <td>0.037836</td>\n",
       "      <td>0.006253</td>\n",
       "    </tr>\n",
       "    <tr>\n",
       "      <th>4</th>\n",
       "      <td>d380meD0W0M</td>\n",
       "      <td>17.14.11</td>\n",
       "      <td>I Dare You: GOING BALD!?</td>\n",
       "      <td>nigahiga</td>\n",
       "      <td>24</td>\n",
       "      <td>2017-11-12 18:01:41+00:00</td>\n",
       "      <td>ryan|\"higa\"|\"higatv\"|\"nigahiga\"|\"i dare you\"|\"...</td>\n",
       "      <td>2095731</td>\n",
       "      <td>132235</td>\n",
       "      <td>1989</td>\n",
       "      <td>17518</td>\n",
       "      <td>https://i.ytimg.com/vi/d380meD0W0M/default.jpg</td>\n",
       "      <td>False</td>\n",
       "      <td>False</td>\n",
       "      <td>False</td>\n",
       "      <td>I know it's been a while since we did this sho...</td>\n",
       "      <td>Entertainment</td>\n",
       "      <td>0.985181</td>\n",
       "      <td>0.072405</td>\n",
       "      <td>0.008359</td>\n",
       "    </tr>\n",
       "    <tr>\n",
       "      <th>...</th>\n",
       "      <td>...</td>\n",
       "      <td>...</td>\n",
       "      <td>...</td>\n",
       "      <td>...</td>\n",
       "      <td>...</td>\n",
       "      <td>...</td>\n",
       "      <td>...</td>\n",
       "      <td>...</td>\n",
       "      <td>...</td>\n",
       "      <td>...</td>\n",
       "      <td>...</td>\n",
       "      <td>...</td>\n",
       "      <td>...</td>\n",
       "      <td>...</td>\n",
       "      <td>...</td>\n",
       "      <td>...</td>\n",
       "      <td>...</td>\n",
       "      <td>...</td>\n",
       "      <td>...</td>\n",
       "      <td>...</td>\n",
       "    </tr>\n",
       "    <tr>\n",
       "      <th>40760</th>\n",
       "      <td>dS5Thrl-4Kc</td>\n",
       "      <td>18.14.06</td>\n",
       "      <td>CRAYOLA MAKEUP | HIT OR MISS?</td>\n",
       "      <td>Laura Lee</td>\n",
       "      <td>26</td>\n",
       "      <td>2018-06-12 18:55:26+00:00</td>\n",
       "      <td>Laura88Lee|\"crayola\"|\"crayon makeup\"|\"crayola ...</td>\n",
       "      <td>607422</td>\n",
       "      <td>26166</td>\n",
       "      <td>895</td>\n",
       "      <td>3517</td>\n",
       "      <td>https://i.ytimg.com/vi/dS5Thrl-4Kc/default.jpg</td>\n",
       "      <td>False</td>\n",
       "      <td>False</td>\n",
       "      <td>False</td>\n",
       "      <td>Hey Larlees, todays video is me testing Crayol...</td>\n",
       "      <td>Howto &amp; Style</td>\n",
       "      <td>0.966927</td>\n",
       "      <td>0.050341</td>\n",
       "      <td>0.005790</td>\n",
       "    </tr>\n",
       "    <tr>\n",
       "      <th>40761</th>\n",
       "      <td>JGm9Y_hFqNk</td>\n",
       "      <td>18.14.06</td>\n",
       "      <td>First Take reacts: Kyrie Irving says contract ...</td>\n",
       "      <td>ESPN</td>\n",
       "      <td>17</td>\n",
       "      <td>2018-06-13 15:06:08+00:00</td>\n",
       "      <td>espn|\"espn live\"|\"boston celtics\"|\"kyrie irvin...</td>\n",
       "      <td>812832</td>\n",
       "      <td>7701</td>\n",
       "      <td>320</td>\n",
       "      <td>2505</td>\n",
       "      <td>https://i.ytimg.com/vi/JGm9Y_hFqNk/default.jpg</td>\n",
       "      <td>False</td>\n",
       "      <td>False</td>\n",
       "      <td>False</td>\n",
       "      <td>First Take's Stephen A. Smith and Max Kellerma...</td>\n",
       "      <td>Sports</td>\n",
       "      <td>0.960105</td>\n",
       "      <td>0.012950</td>\n",
       "      <td>0.003082</td>\n",
       "    </tr>\n",
       "    <tr>\n",
       "      <th>40762</th>\n",
       "      <td>6h8QgZF5Qu4</td>\n",
       "      <td>18.14.06</td>\n",
       "      <td>Drop the Mic w/ Ashton Kutcher &amp; Sean Diddy Combs</td>\n",
       "      <td>The Late Late Show with James Corden</td>\n",
       "      <td>24</td>\n",
       "      <td>2018-06-13 05:27:27+00:00</td>\n",
       "      <td>The Late Late Show|\"Late Late Show\"|\"James Cor...</td>\n",
       "      <td>864189</td>\n",
       "      <td>18811</td>\n",
       "      <td>399</td>\n",
       "      <td>1074</td>\n",
       "      <td>https://i.ytimg.com/vi/6h8QgZF5Qu4/default.jpg</td>\n",
       "      <td>False</td>\n",
       "      <td>False</td>\n",
       "      <td>False</td>\n",
       "      <td>James Corden and Ashton Kutcher square off in ...</td>\n",
       "      <td>Entertainment</td>\n",
       "      <td>0.979230</td>\n",
       "      <td>0.023472</td>\n",
       "      <td>0.001243</td>\n",
       "    </tr>\n",
       "    <tr>\n",
       "      <th>40764</th>\n",
       "      <td>mpnshdmtE2Y</td>\n",
       "      <td>18.14.06</td>\n",
       "      <td>Carla Makes BA Smashburgers | From the Test Ki...</td>\n",
       "      <td>Bon Appétit</td>\n",
       "      <td>26</td>\n",
       "      <td>2018-06-12 16:03:58+00:00</td>\n",
       "      <td>bon appetit|\"burgers\"|\"cheeseburgers\"|\"how to ...</td>\n",
       "      <td>540149</td>\n",
       "      <td>14206</td>\n",
       "      <td>693</td>\n",
       "      <td>1211</td>\n",
       "      <td>https://i.ytimg.com/vi/mpnshdmtE2Y/default.jpg</td>\n",
       "      <td>False</td>\n",
       "      <td>False</td>\n",
       "      <td>False</td>\n",
       "      <td>Ground chuck is a great all-purpose, buy-it-an...</td>\n",
       "      <td>Howto &amp; Style</td>\n",
       "      <td>0.953487</td>\n",
       "      <td>0.029825</td>\n",
       "      <td>0.002242</td>\n",
       "    </tr>\n",
       "    <tr>\n",
       "      <th>40766</th>\n",
       "      <td>yz7Xq3T0YPs</td>\n",
       "      <td>18.14.06</td>\n",
       "      <td>Katherine Langford on 13 Reasons Why, Australi...</td>\n",
       "      <td>Jimmy Kimmel Live</td>\n",
       "      <td>24</td>\n",
       "      <td>2018-06-13 09:00:06+00:00</td>\n",
       "      <td>jimmy|\"kimmel\"|\"live\"|\"late\"|\"night\"|\"talk\"|\"s...</td>\n",
       "      <td>296295</td>\n",
       "      <td>8157</td>\n",
       "      <td>294</td>\n",
       "      <td>764</td>\n",
       "      <td>https://i.ytimg.com/vi/yz7Xq3T0YPs/default.jpg</td>\n",
       "      <td>False</td>\n",
       "      <td>False</td>\n",
       "      <td>False</td>\n",
       "      <td>Katherine talks about learning accents, growin...</td>\n",
       "      <td>Entertainment</td>\n",
       "      <td>0.965211</td>\n",
       "      <td>0.031101</td>\n",
       "      <td>0.002579</td>\n",
       "    </tr>\n",
       "  </tbody>\n",
       "</table>\n",
       "<p>6351 rows × 20 columns</p>\n",
       "</div>"
      ],
      "text/plain": [
       "          video_id trending_date  \\\n",
       "0      2kyS6SvSYSE      17.14.11   \n",
       "1      1ZAPwfrtAFY      17.14.11   \n",
       "2      5qpjK5DgCt4      17.14.11   \n",
       "3      puqaWrEC7tY      17.14.11   \n",
       "4      d380meD0W0M      17.14.11   \n",
       "...            ...           ...   \n",
       "40760  dS5Thrl-4Kc      18.14.06   \n",
       "40761  JGm9Y_hFqNk      18.14.06   \n",
       "40762  6h8QgZF5Qu4      18.14.06   \n",
       "40764  mpnshdmtE2Y      18.14.06   \n",
       "40766  yz7Xq3T0YPs      18.14.06   \n",
       "\n",
       "                                                   title  \\\n",
       "0                     WE WANT TO TALK ABOUT OUR MARRIAGE   \n",
       "1      The Trump Presidency: Last Week Tonight with J...   \n",
       "2      Racist Superman | Rudy Mancuso, King Bach & Le...   \n",
       "3                       Nickelback Lyrics: Real or Fake?   \n",
       "4                               I Dare You: GOING BALD!?   \n",
       "...                                                  ...   \n",
       "40760                      CRAYOLA MAKEUP | HIT OR MISS?   \n",
       "40761  First Take reacts: Kyrie Irving says contract ...   \n",
       "40762  Drop the Mic w/ Ashton Kutcher & Sean Diddy Combs   \n",
       "40764  Carla Makes BA Smashburgers | From the Test Ki...   \n",
       "40766  Katherine Langford on 13 Reasons Why, Australi...   \n",
       "\n",
       "                              channel_title  category_id  \\\n",
       "0                              CaseyNeistat           22   \n",
       "1                           LastWeekTonight           24   \n",
       "2                              Rudy Mancuso           23   \n",
       "3                     Good Mythical Morning           24   \n",
       "4                                  nigahiga           24   \n",
       "...                                     ...          ...   \n",
       "40760                             Laura Lee           26   \n",
       "40761                                  ESPN           17   \n",
       "40762  The Late Late Show with James Corden           24   \n",
       "40764                           Bon Appétit           26   \n",
       "40766                     Jimmy Kimmel Live           24   \n",
       "\n",
       "                   publish_time  \\\n",
       "0     2017-11-13 17:13:01+00:00   \n",
       "1     2017-11-13 07:30:00+00:00   \n",
       "2     2017-11-12 19:05:24+00:00   \n",
       "3     2017-11-13 11:00:04+00:00   \n",
       "4     2017-11-12 18:01:41+00:00   \n",
       "...                         ...   \n",
       "40760 2018-06-12 18:55:26+00:00   \n",
       "40761 2018-06-13 15:06:08+00:00   \n",
       "40762 2018-06-13 05:27:27+00:00   \n",
       "40764 2018-06-12 16:03:58+00:00   \n",
       "40766 2018-06-13 09:00:06+00:00   \n",
       "\n",
       "                                                    tags    views   likes  \\\n",
       "0                                        SHANtell martin   748374   57527   \n",
       "1      last week tonight trump presidency|\"last week ...  2418783   97185   \n",
       "2      racist superman|\"rudy\"|\"mancuso\"|\"king\"|\"bach\"...  3191434  146033   \n",
       "3      rhett and link|\"gmm\"|\"good mythical morning\"|\"...   343168   10172   \n",
       "4      ryan|\"higa\"|\"higatv\"|\"nigahiga\"|\"i dare you\"|\"...  2095731  132235   \n",
       "...                                                  ...      ...     ...   \n",
       "40760  Laura88Lee|\"crayola\"|\"crayon makeup\"|\"crayola ...   607422   26166   \n",
       "40761  espn|\"espn live\"|\"boston celtics\"|\"kyrie irvin...   812832    7701   \n",
       "40762  The Late Late Show|\"Late Late Show\"|\"James Cor...   864189   18811   \n",
       "40764  bon appetit|\"burgers\"|\"cheeseburgers\"|\"how to ...   540149   14206   \n",
       "40766  jimmy|\"kimmel\"|\"live\"|\"late\"|\"night\"|\"talk\"|\"s...   296295    8157   \n",
       "\n",
       "       dislikes  comment_count  \\\n",
       "0          2966          15954   \n",
       "1          6146          12703   \n",
       "2          5339           8181   \n",
       "3           666           2146   \n",
       "4          1989          17518   \n",
       "...         ...            ...   \n",
       "40760       895           3517   \n",
       "40761       320           2505   \n",
       "40762       399           1074   \n",
       "40764       693           1211   \n",
       "40766       294            764   \n",
       "\n",
       "                                       thumbnail_link  comments_disabled  \\\n",
       "0      https://i.ytimg.com/vi/2kyS6SvSYSE/default.jpg              False   \n",
       "1      https://i.ytimg.com/vi/1ZAPwfrtAFY/default.jpg              False   \n",
       "2      https://i.ytimg.com/vi/5qpjK5DgCt4/default.jpg              False   \n",
       "3      https://i.ytimg.com/vi/puqaWrEC7tY/default.jpg              False   \n",
       "4      https://i.ytimg.com/vi/d380meD0W0M/default.jpg              False   \n",
       "...                                               ...                ...   \n",
       "40760  https://i.ytimg.com/vi/dS5Thrl-4Kc/default.jpg              False   \n",
       "40761  https://i.ytimg.com/vi/JGm9Y_hFqNk/default.jpg              False   \n",
       "40762  https://i.ytimg.com/vi/6h8QgZF5Qu4/default.jpg              False   \n",
       "40764  https://i.ytimg.com/vi/mpnshdmtE2Y/default.jpg              False   \n",
       "40766  https://i.ytimg.com/vi/yz7Xq3T0YPs/default.jpg              False   \n",
       "\n",
       "       ratings_disabled  video_error_or_removed  \\\n",
       "0                 False                   False   \n",
       "1                 False                   False   \n",
       "2                 False                   False   \n",
       "3                 False                   False   \n",
       "4                 False                   False   \n",
       "...                 ...                     ...   \n",
       "40760             False                   False   \n",
       "40761             False                   False   \n",
       "40762             False                   False   \n",
       "40764             False                   False   \n",
       "40766             False                   False   \n",
       "\n",
       "                                             description  category_title  \\\n",
       "0      SHANTELL'S CHANNEL - https://www.youtube.com/s...  People & Blogs   \n",
       "1      One year after the presidential election, John...   Entertainment   \n",
       "2      WATCH MY PREVIOUS VIDEO ▶ \\n\\nSUBSCRIBE ► http...          Comedy   \n",
       "3      Today we find out if Link is a Nickelback amat...   Entertainment   \n",
       "4      I know it's been a while since we did this sho...   Entertainment   \n",
       "...                                                  ...             ...   \n",
       "40760  Hey Larlees, todays video is me testing Crayol...   Howto & Style   \n",
       "40761  First Take's Stephen A. Smith and Max Kellerma...          Sports   \n",
       "40762  James Corden and Ashton Kutcher square off in ...   Entertainment   \n",
       "40764  Ground chuck is a great all-purpose, buy-it-an...   Howto & Style   \n",
       "40766  Katherine talks about learning accents, growin...   Entertainment   \n",
       "\n",
       "       like_ratio  engagement_rate  comments_per_view  \n",
       "0        0.950970         0.102151           0.021318  \n",
       "1        0.940521         0.047972           0.005252  \n",
       "2        0.964729         0.049994           0.002563  \n",
       "3        0.938550         0.037836           0.006253  \n",
       "4        0.985181         0.072405           0.008359  \n",
       "...           ...              ...                ...  \n",
       "40760    0.966927         0.050341           0.005790  \n",
       "40761    0.960105         0.012950           0.003082  \n",
       "40762    0.979230         0.023472           0.001243  \n",
       "40764    0.953487         0.029825           0.002242  \n",
       "40766    0.965211         0.031101           0.002579  \n",
       "\n",
       "[6351 rows x 20 columns]"
      ]
     },
     "metadata": {},
     "output_type": "display_data"
    }
   ],
   "source": [
    "# VOTRE CODE ICI - Section 4.1\n",
    "import numpy as np\n",
    "eps = 1e-9       # eps = 0.000000001 est une valeur très petite pour éviter la division par zéro. Ex: si views = 0, Python plante avec ZeroDivisionError.\n",
    "\n",
    "# Nombre total de réactions (likes + dislikes).\n",
    "denom = df_clean['likes'] + df_clean['dislikes'] \n",
    "\n",
    "# Ratio de \"like\" par rapport aux interactions\n",
    "df_clean['like_ratio'] = np.where(denom > 0, df_clean['likes'] / denom, 0)\n",
    "\"\"\"\n",
    "    np.where(condition, valeur_si_vrai, valeur_si_faux) → équivalent d’un if vectorisé :\n",
    "    Si denom > 0 → calculer likes / denom\n",
    "    Sinon → mettre 0 (aucune interaction)\n",
    "\n",
    "\"\"\"\n",
    "# Taux d’engagement global\n",
    "df_clean['engagement_rate'] = np.where(df_clean['views'] > 0,\n",
    "                                      (df_clean['likes'] + df_clean['dislikes'] + df_clean['comment_count']) / (df_clean['views'] + eps),\n",
    "                                       0)\n",
    "\"\"\"\n",
    "    Avec la condition views > 0, eps n’est pas strictement nécessaire.\n",
    "    eps est là pour prévenir toute division par zéro accidentelle, notamment dans des calculs plus complexes ou sur des colonnes float,\n",
    "    il peut y avoir des vues très proches de zéro ou des flottants arrondis à zéro (0.0).\n",
    "\n",
    "\"\"\"\n",
    "# Commentaires par vue\n",
    "df_clean['comments_per_view'] = np.where(df_clean['views'] > 0, df_clean['comment_count'] / (df_clean['views'] + eps), 0)\n",
    "\n",
    "display(df_clean)"
   ]
  },
  {
   "cell_type": "markdown",
   "id": "eb0ab393",
   "metadata": {},
   "source": [
    "### Visualiser les top N vidéos par métrique\n"
   ]
  },
  {
   "cell_type": "code",
   "execution_count": 169,
   "id": "34a2c638",
   "metadata": {},
   "outputs": [
    {
     "data": {
      "image/png": "[encoded data removed]",
      "text/plain": [
       "<Figure size 1200x600 with 1 Axes>"
      ]
     },
     "metadata": {},
     "output_type": "display_data"
    }
   ],
   "source": [
    "\n",
    "# Trier par engagement_rate et garder les 20 meilleures\n",
    "top_videos = df_clean.sort_values('engagement_rate', ascending=False).head(20)\n",
    "\n",
    "# Bar plot\n",
    "plt.figure(figsize=(12,6))\n",
    "x = np.arange(len(top_videos['video_id']))\n",
    "width = 0.25\n",
    "\n",
    "plt.bar(x - width, top_videos['like_ratio'], width, label='Like Ratio')\n",
    "plt.bar(x, top_videos['engagement_rate'], width, label='Engagement Rate')\n",
    "plt.bar(x + width, top_videos['comments_per_view'], width, label='Comments per View')\n",
    "\n",
    "plt.xticks(x, top_videos['video_id'], rotation=45, ha='right')\n",
    "plt.ylabel('Ratio')\n",
    "plt.title('Top 20 vidéos par engagement')\n",
    "plt.legend()\n",
    "plt.tight_layout()\n",
    "plt.show()\n"
   ]
  },
  {
   "cell_type": "code",
   "execution_count": 170,
   "id": "71c9ffb4",
   "metadata": {},
   "outputs": [
    {
     "data": {
      "image/png": "[encoded data removed]",
      "text/plain": [
       "<Figure size 1200x600 with 1 Axes>"
      ]
     },
     "metadata": {},
     "output_type": "display_data"
    }
   ],
   "source": [
    "# Distribution générale avec histogrammes pour voir toutes les vidéos\n",
    "plt.figure(figsize=(12,6))\n",
    "plt.hist(df_clean['engagement_rate'], bins=50, color='skyblue', edgecolor='black')\n",
    "plt.xlabel('Engagement Rate')\n",
    "plt.ylabel('Nombre de vidéos')\n",
    "plt.title('Distribution de l\\'engagement pour toutes les vidéos')\n",
    "plt.show()\n"
   ]
  },
  {
   "cell_type": "code",
   "execution_count": 171,
   "id": "d22dcd73",
   "metadata": {},
   "outputs": [
    {
     "data": {
      "image/png": "[encoded data removed]",
      "text/plain": [
       "<Figure size 1200x800 with 2 Axes>"
      ]
     },
     "metadata": {},
     "output_type": "display_data"
    }
   ],
   "source": [
    "# Top 20 heatmap : on compare toutes les métriques ensemble pour les meilleures vidéos :\n",
    "\n",
    "top_videos_metrics = top_videos[['video_id', 'like_ratio', 'engagement_rate', 'comments_per_view']]\n",
    "top_videos_metrics = top_videos_metrics.set_index('video_id')\n",
    "\n",
    "plt.figure(figsize=(12,8))\n",
    "sb.heatmap(top_videos_metrics, annot=True, fmt=\".2f\", cmap=\"YlGnBu\")\n",
    "plt.title('Métriques d\\'engagement des 20 meilleures vidéos')\n",
    "plt.show()\n"
   ]
  },
  {
   "cell_type": "markdown",
   "id": "d76ad347",
   "metadata": {},
   "source": [
    "**Consigne 4.2 — Variables temporelles** : \n",
    "\n",
    "Elles permettent de :\n",
    "\n",
    "Analyser la saisonnalité :\n",
    "Quels mois ou jours génèrent le plus d’engagement ?\n",
    "\n",
    "Analyser les tendances :\n",
    "L’engagement augmente-t-il avec le temps ?\n",
    "Extraire des parties du temps pour mieux comprendre le comportement des utilisateurs :Heure de publication, jour de la semaine, mois, trimestre, année,etc."
   ]
  },
  {
   "cell_type": "code",
   "execution_count": 172,
   "id": "b4c4ab58",
   "metadata": {},
   "outputs": [
    {
     "data": {
      "application/vnd.microsoft.datawrangler.viewer.v0+json": {
       "columns": [
        {
         "name": "index",
         "rawType": "int64",
         "type": "integer"
        },
        {
         "name": "publish_day_of_week",
         "rawType": "int32",
         "type": "integer"
        },
        {
         "name": "publish_time",
         "rawType": "datetime64[ns, UTC]",
         "type": "unknown"
        }
       ],
       "ref": "e4d2695b-990a-4534-93b5-63aefc93701f",
       "rows": [
        [
         "0",
         "0",
         "2017-11-13 17:13:01+00:00"
        ],
        [
         "1",
         "0",
         "2017-11-13 07:30:00+00:00"
        ],
        [
         "2",
         "6",
         "2017-11-12 19:05:24+00:00"
        ],
        [
         "3",
         "0",
         "2017-11-13 11:00:04+00:00"
        ],
        [
         "4",
         "6",
         "2017-11-12 18:01:41+00:00"
        ],
        [
         "5",
         "0",
         "2017-11-13 19:07:23+00:00"
        ],
        [
         "6",
         "6",
         "2017-11-12 05:37:17+00:00"
        ],
        [
         "7",
         "6",
         "2017-11-12 21:50:37+00:00"
        ],
        [
         "8",
         "0",
         "2017-11-13 14:00:23+00:00"
        ],
        [
         "9",
         "0",
         "2017-11-13 13:45:16+00:00"
        ],
        [
         "10",
         "0",
         "2017-11-13 02:05:26+00:00"
        ],
        [
         "11",
         "0",
         "2017-11-13 03:00:00+00:00"
        ],
        [
         "12",
         "0",
         "2017-11-13 17:00:00+00:00"
        ],
        [
         "13",
         "6",
         "2017-11-12 14:00:00+00:00"
        ],
        [
         "14",
         "6",
         "2017-11-12 18:30:01+00:00"
        ],
        [
         "15",
         "0",
         "2017-11-13 20:09:58+00:00"
        ],
        [
         "16",
         "6",
         "2017-11-12 17:00:05+00:00"
        ],
        [
         "17",
         "0",
         "2017-11-13 16:00:07+00:00"
        ],
        [
         "18",
         "0",
         "2017-11-13 15:30:17+00:00"
        ],
        [
         "19",
         "6",
         "2017-11-12 22:00:01+00:00"
        ],
        [
         "20",
         "0",
         "2017-11-13 14:00:03+00:00"
        ],
        [
         "21",
         "6",
         "2017-11-12 15:00:01+00:00"
        ],
        [
         "22",
         "0",
         "2017-11-13 16:00:03+00:00"
        ],
        [
         "23",
         "6",
         "2017-11-12 16:00:01+00:00"
        ],
        [
         "24",
         "0",
         "2017-11-13 14:44:24+00:00"
        ],
        [
         "25",
         "6",
         "2017-11-12 14:00:04+00:00"
        ],
        [
         "26",
         "0",
         "2017-11-13 12:13:36+00:00"
        ],
        [
         "27",
         "0",
         "2017-11-13 16:00:03+00:00"
        ],
        [
         "28",
         "0",
         "2017-11-13 15:42:28+00:00"
        ],
        [
         "29",
         "6",
         "2011-05-29 17:03:12+00:00"
        ],
        [
         "30",
         "0",
         "2017-11-13 01:43:12+00:00"
        ],
        [
         "31",
         "0",
         "2017-11-06 17:52:50+00:00"
        ],
        [
         "32",
         "4",
         "2017-11-10 17:00:03+00:00"
        ],
        [
         "33",
         "6",
         "2017-11-12 23:41:37+00:00"
        ],
        [
         "34",
         "6",
         "2017-11-12 05:55:42+00:00"
        ],
        [
         "35",
         "4",
         "2017-04-21 06:47:32+00:00"
        ],
        [
         "36",
         "6",
         "2017-11-12 18:00:03+00:00"
        ],
        [
         "37",
         "0",
         "2017-11-13 15:01:18+00:00"
        ],
        [
         "38",
         "6",
         "2017-11-12 23:41:48+00:00"
        ],
        [
         "39",
         "0",
         "2017-11-13 15:31:44+00:00"
        ],
        [
         "40",
         "0",
         "2017-11-13 17:00:04+00:00"
        ],
        [
         "41",
         "6",
         "2017-11-12 21:16:40+00:00"
        ],
        [
         "42",
         "0",
         "2017-11-13 15:11:00+00:00"
        ],
        [
         "43",
         "5",
         "2017-11-11 16:00:01+00:00"
        ],
        [
         "44",
         "5",
         "2017-11-11 15:00:03+00:00"
        ],
        [
         "45",
         "6",
         "2017-11-12 00:45:54+00:00"
        ],
        [
         "46",
         "0",
         "2017-11-13 13:00:06+00:00"
        ],
        [
         "47",
         "4",
         "2017-11-10 18:23:05+00:00"
        ],
        [
         "48",
         "0",
         "2017-11-13 02:15:30+00:00"
        ],
        [
         "49",
         "4",
         "2017-11-10 23:05:25+00:00"
        ]
       ],
       "shape": {
        "columns": 2,
        "rows": 6351
       }
      },
      "text/html": [
       "<div>\n",
       "<style scoped>\n",
       "    .dataframe tbody tr th:only-of-type {\n",
       "        vertical-align: middle;\n",
       "    }\n",
       "\n",
       "    .dataframe tbody tr th {\n",
       "        vertical-align: top;\n",
       "    }\n",
       "\n",
       "    .dataframe thead th {\n",
       "        text-align: right;\n",
       "    }\n",
       "</style>\n",
       "<table border=\"1\" class=\"dataframe\">\n",
       "  <thead>\n",
       "    <tr style=\"text-align: right;\">\n",
       "      <th></th>\n",
       "      <th>publish_day_of_week</th>\n",
       "      <th>publish_time</th>\n",
       "    </tr>\n",
       "  </thead>\n",
       "  <tbody>\n",
       "    <tr>\n",
       "      <th>0</th>\n",
       "      <td>0</td>\n",
       "      <td>2017-11-13 17:13:01+00:00</td>\n",
       "    </tr>\n",
       "    <tr>\n",
       "      <th>1</th>\n",
       "      <td>0</td>\n",
       "      <td>2017-11-13 07:30:00+00:00</td>\n",
       "    </tr>\n",
       "    <tr>\n",
       "      <th>2</th>\n",
       "      <td>6</td>\n",
       "      <td>2017-11-12 19:05:24+00:00</td>\n",
       "    </tr>\n",
       "    <tr>\n",
       "      <th>3</th>\n",
       "      <td>0</td>\n",
       "      <td>2017-11-13 11:00:04+00:00</td>\n",
       "    </tr>\n",
       "    <tr>\n",
       "      <th>4</th>\n",
       "      <td>6</td>\n",
       "      <td>2017-11-12 18:01:41+00:00</td>\n",
       "    </tr>\n",
       "    <tr>\n",
       "      <th>...</th>\n",
       "      <td>...</td>\n",
       "      <td>...</td>\n",
       "    </tr>\n",
       "    <tr>\n",
       "      <th>40760</th>\n",
       "      <td>1</td>\n",
       "      <td>2018-06-12 18:55:26+00:00</td>\n",
       "    </tr>\n",
       "    <tr>\n",
       "      <th>40761</th>\n",
       "      <td>2</td>\n",
       "      <td>2018-06-13 15:06:08+00:00</td>\n",
       "    </tr>\n",
       "    <tr>\n",
       "      <th>40762</th>\n",
       "      <td>2</td>\n",
       "      <td>2018-06-13 05:27:27+00:00</td>\n",
       "    </tr>\n",
       "    <tr>\n",
       "      <th>40764</th>\n",
       "      <td>1</td>\n",
       "      <td>2018-06-12 16:03:58+00:00</td>\n",
       "    </tr>\n",
       "    <tr>\n",
       "      <th>40766</th>\n",
       "      <td>2</td>\n",
       "      <td>2018-06-13 09:00:06+00:00</td>\n",
       "    </tr>\n",
       "  </tbody>\n",
       "</table>\n",
       "<p>6351 rows × 2 columns</p>\n",
       "</div>"
      ],
      "text/plain": [
       "       publish_day_of_week              publish_time\n",
       "0                        0 2017-11-13 17:13:01+00:00\n",
       "1                        0 2017-11-13 07:30:00+00:00\n",
       "2                        6 2017-11-12 19:05:24+00:00\n",
       "3                        0 2017-11-13 11:00:04+00:00\n",
       "4                        6 2017-11-12 18:01:41+00:00\n",
       "...                    ...                       ...\n",
       "40760                    1 2018-06-12 18:55:26+00:00\n",
       "40761                    2 2018-06-13 15:06:08+00:00\n",
       "40762                    2 2018-06-13 05:27:27+00:00\n",
       "40764                    1 2018-06-12 16:03:58+00:00\n",
       "40766                    2 2018-06-13 09:00:06+00:00\n",
       "\n",
       "[6351 rows x 2 columns]"
      ]
     },
     "metadata": {},
     "output_type": "display_data"
    },
    {
     "data": {
      "application/vnd.microsoft.datawrangler.viewer.v0+json": {
       "columns": [
        {
         "name": "index",
         "rawType": "int64",
         "type": "integer"
        },
        {
         "name": "publish_day_of_week",
         "rawType": "int32",
         "type": "integer"
        },
        {
         "name": "publish_time",
         "rawType": "datetime64[ns, UTC]",
         "type": "unknown"
        }
       ],
       "ref": "a32fb449-566b-4f3a-8737-98c84d4cc7c4",
       "rows": [
        [
         "0",
         "0",
         "2017-11-13 17:13:01+00:00"
        ],
        [
         "1",
         "0",
         "2017-11-13 07:30:00+00:00"
        ],
        [
         "2",
         "6",
         "2017-11-12 19:05:24+00:00"
        ],
        [
         "3",
         "0",
         "2017-11-13 11:00:04+00:00"
        ],
        [
         "4",
         "6",
         "2017-11-12 18:01:41+00:00"
        ],
        [
         "5",
         "0",
         "2017-11-13 19:07:23+00:00"
        ],
        [
         "6",
         "6",
         "2017-11-12 05:37:17+00:00"
        ],
        [
         "7",
         "6",
         "2017-11-12 21:50:37+00:00"
        ],
        [
         "8",
         "0",
         "2017-11-13 14:00:23+00:00"
        ],
        [
         "9",
         "0",
         "2017-11-13 13:45:16+00:00"
        ],
        [
         "10",
         "0",
         "2017-11-13 02:05:26+00:00"
        ],
        [
         "11",
         "0",
         "2017-11-13 03:00:00+00:00"
        ],
        [
         "12",
         "0",
         "2017-11-13 17:00:00+00:00"
        ],
        [
         "13",
         "6",
         "2017-11-12 14:00:00+00:00"
        ],
        [
         "14",
         "6",
         "2017-11-12 18:30:01+00:00"
        ],
        [
         "15",
         "0",
         "2017-11-13 20:09:58+00:00"
        ],
        [
         "16",
         "6",
         "2017-11-12 17:00:05+00:00"
        ],
        [
         "17",
         "0",
         "2017-11-13 16:00:07+00:00"
        ],
        [
         "18",
         "0",
         "2017-11-13 15:30:17+00:00"
        ],
        [
         "19",
         "6",
         "2017-11-12 22:00:01+00:00"
        ],
        [
         "20",
         "0",
         "2017-11-13 14:00:03+00:00"
        ],
        [
         "21",
         "6",
         "2017-11-12 15:00:01+00:00"
        ],
        [
         "22",
         "0",
         "2017-11-13 16:00:03+00:00"
        ],
        [
         "23",
         "6",
         "2017-11-12 16:00:01+00:00"
        ],
        [
         "24",
         "0",
         "2017-11-13 14:44:24+00:00"
        ],
        [
         "25",
         "6",
         "2017-11-12 14:00:04+00:00"
        ],
        [
         "26",
         "0",
         "2017-11-13 12:13:36+00:00"
        ],
        [
         "27",
         "0",
         "2017-11-13 16:00:03+00:00"
        ],
        [
         "28",
         "0",
         "2017-11-13 15:42:28+00:00"
        ],
        [
         "29",
         "6",
         "2011-05-29 17:03:12+00:00"
        ],
        [
         "30",
         "0",
         "2017-11-13 01:43:12+00:00"
        ],
        [
         "31",
         "0",
         "2017-11-06 17:52:50+00:00"
        ],
        [
         "32",
         "4",
         "2017-11-10 17:00:03+00:00"
        ],
        [
         "33",
         "6",
         "2017-11-12 23:41:37+00:00"
        ],
        [
         "34",
         "6",
         "2017-11-12 05:55:42+00:00"
        ],
        [
         "35",
         "4",
         "2017-04-21 06:47:32+00:00"
        ],
        [
         "36",
         "6",
         "2017-11-12 18:00:03+00:00"
        ],
        [
         "37",
         "0",
         "2017-11-13 15:01:18+00:00"
        ],
        [
         "38",
         "6",
         "2017-11-12 23:41:48+00:00"
        ],
        [
         "39",
         "0",
         "2017-11-13 15:31:44+00:00"
        ],
        [
         "40",
         "0",
         "2017-11-13 17:00:04+00:00"
        ],
        [
         "41",
         "6",
         "2017-11-12 21:16:40+00:00"
        ],
        [
         "42",
         "0",
         "2017-11-13 15:11:00+00:00"
        ],
        [
         "43",
         "5",
         "2017-11-11 16:00:01+00:00"
        ],
        [
         "44",
         "5",
         "2017-11-11 15:00:03+00:00"
        ],
        [
         "45",
         "6",
         "2017-11-12 00:45:54+00:00"
        ],
        [
         "46",
         "0",
         "2017-11-13 13:00:06+00:00"
        ],
        [
         "47",
         "4",
         "2017-11-10 18:23:05+00:00"
        ],
        [
         "48",
         "0",
         "2017-11-13 02:15:30+00:00"
        ],
        [
         "49",
         "4",
         "2017-11-10 23:05:25+00:00"
        ]
       ],
       "shape": {
        "columns": 2,
        "rows": 6351
       }
      },
      "text/html": [
       "<div>\n",
       "<style scoped>\n",
       "    .dataframe tbody tr th:only-of-type {\n",
       "        vertical-align: middle;\n",
       "    }\n",
       "\n",
       "    .dataframe tbody tr th {\n",
       "        vertical-align: top;\n",
       "    }\n",
       "\n",
       "    .dataframe thead th {\n",
       "        text-align: right;\n",
       "    }\n",
       "</style>\n",
       "<table border=\"1\" class=\"dataframe\">\n",
       "  <thead>\n",
       "    <tr style=\"text-align: right;\">\n",
       "      <th></th>\n",
       "      <th>publish_day_of_week</th>\n",
       "      <th>publish_time</th>\n",
       "    </tr>\n",
       "  </thead>\n",
       "  <tbody>\n",
       "    <tr>\n",
       "      <th>0</th>\n",
       "      <td>0</td>\n",
       "      <td>2017-11-13 17:13:01+00:00</td>\n",
       "    </tr>\n",
       "    <tr>\n",
       "      <th>1</th>\n",
       "      <td>0</td>\n",
       "      <td>2017-11-13 07:30:00+00:00</td>\n",
       "    </tr>\n",
       "    <tr>\n",
       "      <th>2</th>\n",
       "      <td>6</td>\n",
       "      <td>2017-11-12 19:05:24+00:00</td>\n",
       "    </tr>\n",
       "    <tr>\n",
       "      <th>3</th>\n",
       "      <td>0</td>\n",
       "      <td>2017-11-13 11:00:04+00:00</td>\n",
       "    </tr>\n",
       "    <tr>\n",
       "      <th>4</th>\n",
       "      <td>6</td>\n",
       "      <td>2017-11-12 18:01:41+00:00</td>\n",
       "    </tr>\n",
       "    <tr>\n",
       "      <th>...</th>\n",
       "      <td>...</td>\n",
       "      <td>...</td>\n",
       "    </tr>\n",
       "    <tr>\n",
       "      <th>40760</th>\n",
       "      <td>1</td>\n",
       "      <td>2018-06-12 18:55:26+00:00</td>\n",
       "    </tr>\n",
       "    <tr>\n",
       "      <th>40761</th>\n",
       "      <td>2</td>\n",
       "      <td>2018-06-13 15:06:08+00:00</td>\n",
       "    </tr>\n",
       "    <tr>\n",
       "      <th>40762</th>\n",
       "      <td>2</td>\n",
       "      <td>2018-06-13 05:27:27+00:00</td>\n",
       "    </tr>\n",
       "    <tr>\n",
       "      <th>40764</th>\n",
       "      <td>1</td>\n",
       "      <td>2018-06-12 16:03:58+00:00</td>\n",
       "    </tr>\n",
       "    <tr>\n",
       "      <th>40766</th>\n",
       "      <td>2</td>\n",
       "      <td>2018-06-13 09:00:06+00:00</td>\n",
       "    </tr>\n",
       "  </tbody>\n",
       "</table>\n",
       "<p>6351 rows × 2 columns</p>\n",
       "</div>"
      ],
      "text/plain": [
       "       publish_day_of_week              publish_time\n",
       "0                        0 2017-11-13 17:13:01+00:00\n",
       "1                        0 2017-11-13 07:30:00+00:00\n",
       "2                        6 2017-11-12 19:05:24+00:00\n",
       "3                        0 2017-11-13 11:00:04+00:00\n",
       "4                        6 2017-11-12 18:01:41+00:00\n",
       "...                    ...                       ...\n",
       "40760                    1 2018-06-12 18:55:26+00:00\n",
       "40761                    2 2018-06-13 15:06:08+00:00\n",
       "40762                    2 2018-06-13 05:27:27+00:00\n",
       "40764                    1 2018-06-12 16:03:58+00:00\n",
       "40766                    2 2018-06-13 09:00:06+00:00\n",
       "\n",
       "[6351 rows x 2 columns]"
      ]
     },
     "metadata": {},
     "output_type": "display_data"
    },
    {
     "name": "stdout",
     "output_type": "stream",
     "text": [
      "4\n"
     ]
    }
   ],
   "source": [
    "# VOTRE CODE ICI - Section 4.2\n",
    "df_clean['publish_hour'] = df_clean['publish_time'].dt.hour\n",
    "df_clean['publish_day_of_week'] = df_clean['publish_time'].dt.day_of_week\n",
    "df_clean['publish_month'] = df_clean['publish_time'].dt.month\n",
    "display(df_clean[['publish_day_of_week','publish_time']])\n",
    "\n",
    "\"\"\"\n",
    "L’idée, c’est de rendre l’information plus exploitable pour l’analyse et la modélisation.\n",
    "1. Faciliter les regroupements et visualisations\n",
    "\n",
    "Si tu veux savoir quel jour de la semaine les vidéos sont le plus souvent publiées :\n",
    "  Tu ne peux pas directement grouper sur une colonne publish_time (trop granulaire, chaque date est unique).\n",
    "  Mais si tu crées publish_day_of_week, tu peux faire un simple groupby et un barplot. \n",
    "\n",
    "Les algorithmes de ML ne savent pas deviner tout seuls que dans une date il y a une saisonnalité, des jours de la semaine, etc.\n",
    "On décompose publish_time en features pour donner ces indices au modèle.\n",
    "\n",
    "publish_hour → capter si les vidéos publiées le soir performent mieux.\n",
    "publish_day_of_week → voir si les vidéos de tel jour attirent plus.\n",
    "publish_month → analyser la saisonnalité.\n",
    "\"\"\"\n",
    "\n",
    "df_clean['publish_hour'] = df_clean['publish_time'].dt.hour\n",
    "df_clean['publish_day_of_week'] = df_clean['publish_time'].dt.day_of_week\n",
    "df_clean['publish_month'] = df_clean['publish_time'].dt.month\n",
    "display(df_clean[['publish_day_of_week','publish_time']])\n",
    "print((df_clean['publish_month'] == 7).sum())"
   ]
  },
  {
   "cell_type": "markdown",
   "id": "eb6b5319",
   "metadata": {},
   "source": [
    "### Visualisation en rapport avec le temps"
   ]
  },
  {
   "cell_type": "code",
   "execution_count": 173,
   "id": "a06b9450",
   "metadata": {},
   "outputs": [
    {
     "data": {
      "image/png": "[encoded data removed]",
      "text/plain": [
       "<Figure size 1000x500 with 1 Axes>"
      ]
     },
     "metadata": {},
     "output_type": "display_data"
    },
    {
     "data": {
      "image/png": "[encoded data removed]",
      "text/plain": [
       "<Figure size 1000x500 with 1 Axes>"
      ]
     },
     "metadata": {},
     "output_type": "display_data"
    },
    {
     "data": {
      "image/png": "[encoded data removed]",
      "text/plain": [
       "<Figure size 1000x500 with 1 Axes>"
      ]
     },
     "metadata": {},
     "output_type": "display_data"
    }
   ],
   "source": [
    "import matplotlib.pyplot as plt\n",
    "\n",
    "# Histogramme : Nombre de vidéos par heure\n",
    "plt.figure(figsize=(10,5))\n",
    "df_clean['publish_hour'].value_counts().sort_index().plot(kind='bar')\n",
    "plt.title(\"Nombre de vidéos par heure de publication\")\n",
    "plt.xlabel(\"Heure (0-23)\")\n",
    "plt.ylabel(\"Nombre de vidéos\")\n",
    "plt.show()\n",
    "\n",
    "# Histogramme : Nombre de vidéos par jour de la semaine\n",
    "jours = ['Lundi','Mardi','Mercredi','Jeudi','Vendredi','Samedi','Dimanche']\n",
    "plt.figure(figsize=(10,5))\n",
    "df_clean['publish_day_of_week'].value_counts().sort_index().plot(kind='bar')\n",
    "plt.title(\"Nombre de vidéos publiées par jour de la semaine\")\n",
    "plt.xlabel(\"Jour\")\n",
    "plt.ylabel(\"Nombre de vidéos\")\n",
    "plt.xticks(range(7), jours, rotation=45)\n",
    "plt.show()\n",
    "\n",
    "mois = ['Jan','Fév','Mar','Avr','Mai','Juin','Juil','Août','Sep','Oct','Nov','Déc']\n",
    "\n",
    "# Comptage par mois, avec reindex pour inclure tous les mois 1 à 12\n",
    "counts = df_clean['publish_month'].value_counts().sort_index().reindex(range(1,13), fill_value=0)\n",
    "\n",
    "plt.figure(figsize=(10,5))\n",
    "counts.plot(kind='bar')\n",
    "plt.title(\"Nombre de vidéos publiées par mois\")\n",
    "plt.xlabel(\"Mois\")\n",
    "plt.ylabel(\"Nombre de vidéos\")\n",
    "plt.xticks(range(12), mois, rotation=45)\n",
    "plt.show()\n"
   ]
  },
  {
   "cell_type": "markdown",
   "id": "0252ebee",
   "metadata": {},
   "source": [
    "**Consigne 4.3 — Variables textuelles (titre)**"
   ]
  },
  {
   "cell_type": "code",
   "execution_count": 174,
   "id": "786ebdac",
   "metadata": {},
   "outputs": [],
   "source": [
    "# VOTRE CODE ICI - Section 4.3\n",
    "s = df_clean['title'].fillna('')  # évite que 'NaN' soit compté comme texte\n",
    "\n",
    "# Longueur du titre (en caractères)\n",
    "df_clean['title_length'] = s.str.len() # calcule la longueur en caractères de chaque titre\n",
    "\n",
    "# Nombre de mots dans le titre\n",
    "df_clean['title_word_count'] = (s.str\n",
    "                    .split()           # coupe chaque titre en mots (par défaut sur les espaces) \n",
    "                    .str               # un “accès spécial” qui te donne plein de méthodes de chaînes de caractères, mais appliquées à toute la colonne d’un coup.\n",
    "                    .len())            # compte combien d’éléments dans cette liste\n",
    "\n",
    "# Présence de « beaucoup » de majuscules (plus de 3)\n",
    "df_clean['has_caps'] = (s.str.contains(r'[A-Z]{3,}', regex=True) # vérifie si le titre contient au moins 3 lettres MAJUSCULES consécutives.\n",
    "                        .astype(int))                            # convertit True/False en 1/0.\n",
    "\n",
    "# Présence de chiffres dans le titre\n",
    "df_clean['has_numbers'] = (s.str.contains(r'\\d', regex=True)     # vérifie si le titre contient des chiffres\n",
    "                           .astype(int))                         # convertit True/False en 1/0.\n"
   ]
  },
  {
   "cell_type": "markdown",
   "id": "075dc262",
   "metadata": {},
   "source": [
    "#### Explication des features créées : ####\n",
    "\n",
    "title_length\n",
    "→ Longueur du titre en caractères (utile pour voir si les titres courts/longs attirent plus de vues).\n",
    "\n",
    "title_word_count\n",
    "→ Nombre de mots dans le titre (ex. un titre de 10 mots contre un titre de 3 mots).\n",
    "\n",
    "has_caps\n",
    "→ Variable binaire : est-ce qu’un titre contient beaucoup de majuscules ? (souvent utilisé pour attirer l’attention : \"OMG YOU WON’T BELIEVE THIS\").\n",
    "\n",
    "has_numbers\n",
    "→ Variable binaire : est-ce qu’un titre contient des chiffres ? (souvent lié à des formats type \"Top 10\", \"5 astuces\")."
   ]
  },
  {
   "cell_type": "markdown",
   "id": "a1b7eb43",
   "metadata": {},
   "source": [
    "## 5. Création de la variable cible  ( Target )"
   ]
  },
  {
   "cell_type": "markdown",
   "id": "e8ad73d8",
   "metadata": {},
   "source": [
    "**Consigne 5.1 — Définition de `is_trending`**  \n",
    "- Une vidéo est *trending* si elle a plus de vues que le 80e percentile de sa catégorie"
   ]
  },
  {
   "cell_type": "code",
   "execution_count": 175,
   "id": "53bbcd85",
   "metadata": {},
   "outputs": [
    {
     "name": "stdout",
     "output_type": "stream",
     "text": [
      "Distribution de la variable cible:\n"
     ]
    },
    {
     "data": {
      "application/vnd.microsoft.datawrangler.viewer.v0+json": {
       "columns": [
        {
         "name": "is_trending",
         "rawType": "int64",
         "type": "integer"
        },
        {
         "name": "count",
         "rawType": "int64",
         "type": "integer"
        }
       ],
       "ref": "bcaf4896-c75c-4fda-b58c-77ad02bfa616",
       "rows": [
        [
         "0",
         "5078"
        ],
        [
         "1",
         "1273"
        ]
       ],
       "shape": {
        "columns": 1,
        "rows": 2
       }
      },
      "text/html": [
       "<div>\n",
       "<style scoped>\n",
       "    .dataframe tbody tr th:only-of-type {\n",
       "        vertical-align: middle;\n",
       "    }\n",
       "\n",
       "    .dataframe tbody tr th {\n",
       "        vertical-align: top;\n",
       "    }\n",
       "\n",
       "    .dataframe thead th {\n",
       "        text-align: right;\n",
       "    }\n",
       "</style>\n",
       "<table border=\"1\" class=\"dataframe\">\n",
       "  <thead>\n",
       "    <tr style=\"text-align: right;\">\n",
       "      <th></th>\n",
       "      <th>count</th>\n",
       "    </tr>\n",
       "    <tr>\n",
       "      <th>is_trending</th>\n",
       "      <th></th>\n",
       "    </tr>\n",
       "  </thead>\n",
       "  <tbody>\n",
       "    <tr>\n",
       "      <th>0</th>\n",
       "      <td>5078</td>\n",
       "    </tr>\n",
       "    <tr>\n",
       "      <th>1</th>\n",
       "      <td>1273</td>\n",
       "    </tr>\n",
       "  </tbody>\n",
       "</table>\n",
       "</div>"
      ],
      "text/plain": [
       "             count\n",
       "is_trending       \n",
       "0             5078\n",
       "1             1273"
      ]
     },
     "metadata": {},
     "output_type": "display_data"
    }
   ],
   "source": [
    "# VOTRE CODE ICI - Section 5.1\n",
    "df_clean['is_trending'] = ((df_clean.groupby('category_id')['views'] # regroupe le DataFrame par category_id. Pour chaque catégorie, on prend uniquement la colonne views\n",
    "                                  .transform(lambda x: x > x         # renvoie un tableau de True/False indiquant si chaque vidéo dépasse ce seuil.\n",
    "                                  .quantile(0.8)))                   # calcule le 80ᵉ percentile (le seuil de \"top 20%\" des vues).\n",
    "                                  .astype(int))                      # convertit les booléens True/False en 1 et 0.\n",
    "\n",
    "print(\"Distribution de la variable cible:\")\n",
    "display((df_clean['is_trending']\n",
    "         .value_counts()        # compte combien de vidéos ont is_trending = 0 et combien ont is_trending = 1.\n",
    "         .to_frame('count')     # transforme le résultat (une Series) en tableau (DataFrame) avec une colonne nommée count.\n",
    "         ))"
   ]
  },
  {
   "cell_type": "markdown",
   "id": "bfac7477",
   "metadata": {},
   "source": [
    "## 6. Préparation des données pour l'entraînement"
   ]
  },
  {
   "cell_type": "markdown",
   "id": "828d672c",
   "metadata": {},
   "source": [
    "**Consignes 6.1 & 6.2 — Sélection des features & split train/test**"
   ]
  },
  {
   "cell_type": "code",
   "execution_count": 176,
   "id": "c91a2b35",
   "metadata": {},
   "outputs": [
    {
     "name": "stdout",
     "output_type": "stream",
     "text": [
      "Taille train: (5080, 9)\n",
      "Taille test: (1271, 9)\n"
     ]
    }
   ],
   "source": [
    "# VOTRE CODE ICI - Section 6.1 et 6.2\n",
    "# import\n",
    "from sklearn.model_selection import train_test_split\n",
    "\n",
    "# selectionne les colonnes pertinentes pour prédire is_trending\n",
    "features = ['views', 'likes', 'dislikes', 'comment_count',\n",
    "             'like_ratio', 'engagement_rate', 'title_length', 'publish_hour', 'category_id']\n",
    "\n",
    "X = df_clean[features].copy()         # matrice des features (X)\n",
    "y = df_clean['is_trending'].copy()    # variable cible (y)\n",
    "\n",
    "#....... Split train/test ........\n",
    "X_train, X_test, y_train, y_test = train_test_split (\n",
    "        X, y,\n",
    "        test_size = 0.2,    # 20% test, 80% train\n",
    "        random_state=42,    # pour reproductibilité\n",
    "        stratify=y          # conserve la même proportion de trending/non-trending\n",
    ")\n",
    "# ......\n",
    "\n",
    "print(f\"Taille train: {X_train.shape}\")\n",
    "print(f\"Taille test: {X_test.shape}\")"
   ]
  },
  {
   "cell_type": "markdown",
   "id": "0a60a766",
   "metadata": {},
   "source": [
    "### Test avec d'autres features ###"
   ]
  },
  {
   "cell_type": "code",
   "execution_count": 177,
   "id": "a986447b",
   "metadata": {},
   "outputs": [],
   "source": [
    "# from sklearn.model_selection import train_test_split\n",
    "\n",
    "# # --- Sélection des colonnes utiles (features) ---\n",
    "# features = [\n",
    "#     'views', 'likes', 'comment_count',   # colonnes numériques\n",
    "#     'title_length', 'title_word_count', 'has_caps', 'has_numbers',  # text features\n",
    "#     'publish_hour', 'publish_day_of_week', 'publish_month',         # temporelles\n",
    "#     'category_id'  # catégorielle\n",
    "# ]\n",
    "\n",
    "# X = df_clean[features].copy()         # matrice des features (X)\n",
    "# y = df_clean['is_trending'].copy()    # variable cible (y)\n",
    "\n",
    "# # --- Split train/test ---\n",
    "# X_train, X_test, y_train, y_test = train_test_split(\n",
    "#     X, y, \n",
    "#     test_size=0.2,      # 20% test, 80% train\n",
    "#     random_state=42,    # pour reproductibilité\n",
    "#     stratify=y          # conserve la même proportion de trending/non-trending\n",
    "# )\n",
    "\n",
    "# print(\"Taille train :\", X_train.shape)\n",
    "# print(\"Taille test  :\", X_test.shape)\n"
   ]
  },
  {
   "cell_type": "markdown",
   "id": "fbd9f34b",
   "metadata": {},
   "source": [
    "**Consigne 6.3 — Normalisation des données (StandardScaler)** \n",
    "\n",
    "Les colonnes numériques (views, likes, comment_count, etc.) n’ont pas la même échelle.\n",
    "\n",
    "Exemple :\n",
    "\n",
    "views peut aller jusqu’à plusieurs millions\n",
    "\n",
    "like_ratio est entre 0 et 1\n",
    "\n",
    "publish_hour va de 0 à 23\n",
    "\n",
    "Si on ne normalise pas, certaines variables (comme views) vont « écraser » les autres, car elles ont des valeurs énormes."
   ]
  },
  {
   "cell_type": "markdown",
   "id": "27f0af37",
   "metadata": {},
   "source": [
    "scaler = StandardScaler()\n",
    "\n",
    "On crée un objet scaler, un outil qui va apprendre à recentrer et réduire les données.\n",
    "\n",
    "Concrètement :\n",
    "\n",
    "il calcule la moyenne et l’écart-type de chaque colonne (dans num_cols) puis, il appliquera la formule :\n",
    "\n",
    "𝑋 𝑠𝑐𝑎𝑙𝑒𝑑 = (𝑋 − 𝜇) / 𝜎\n",
    "\n",
    "où μ est la moyenne et σ l’écart-type.\n",
    "\n",
    "On entraîne le scaler sur le train uniquement (jamais sur le test ).\n",
    "\n",
    "\n",
    "Parce qu’on doit simuler une situation réelle : le modèle ne connaît pas encore les données de test.\n",
    "\n",
    "Donc le scaler apprend uniquement à partir de X_train.\n",
    "\n",
    "À cette étape, le scaler mémorise :\n",
    "\n",
    "la moyenne (μ) de chaque colonne,\n",
    "\n",
    "l’écart-type (σ) de chaque colonne."
   ]
  },
  {
   "cell_type": "code",
   "execution_count": 178,
   "id": "d8f4b910",
   "metadata": {},
   "outputs": [
    {
     "data": {
      "image/png": "[encoded data removed]",
      "text/plain": [
       "<Figure size 1600x1000 with 4 Axes>"
      ]
     },
     "metadata": {},
     "output_type": "display_data"
    }
   ],
   "source": [
    "import matplotlib.pyplot as plt\n",
    "import pandas as pd\n",
    "from sklearn.preprocessing import StandardScaler\n",
    "\n",
    "# --- Ton code de normalisation ---\n",
    "scaler = StandardScaler()\n",
    "\n",
    "num_cols = ['views', 'likes', 'dislikes', 'comment_count', \n",
    "            'like_ratio', 'engagement_rate', 'title_length', 'publish_hour']\n",
    "\n",
    "# On garde une copie \"avant\" pour comparer\n",
    "X_train_before = X_train[num_cols].copy()\n",
    "X_test_before = X_test[num_cols].copy()\n",
    "\n",
    "# Fit uniquement sur le train\n",
    "scaler.fit(X_train[num_cols])\n",
    "\n",
    "# Transformation\n",
    "X_train[num_cols] = scaler.transform(X_train[num_cols])\n",
    "X_test[num_cols]  = scaler.transform(X_test[num_cols])\n",
    "\n",
    "# --- VISUALISATION ---\n",
    "fig, axes = plt.subplots(2, 2, figsize=(16,10))\n",
    "\n",
    "# Train avant\n",
    "X_train_before.plot(kind=\"box\", ax=axes[0,0])\n",
    "axes[0,0].set_title(\"X_train - Avant standardisation\")\n",
    "axes[0,0].tick_params(axis='x', rotation=45)\n",
    "\n",
    "# Train après\n",
    "X_train[num_cols].plot(kind=\"box\", ax=axes[0,1])\n",
    "axes[0,1].set_title(\"X_train - Après standardisation\")\n",
    "axes[0,1].tick_params(axis='x', rotation=45)\n",
    "\n",
    "# Test avant\n",
    "X_test_before.plot(kind=\"box\", ax=axes[1,0])\n",
    "axes[1,0].set_title(\"X_test - Avant standardisation\")\n",
    "axes[1,0].tick_params(axis='x', rotation=45)\n",
    "\n",
    "# Test après\n",
    "X_test[num_cols].plot(kind=\"box\", ax=axes[1,1])\n",
    "axes[1,1].set_title(\"X_test - Après standardisation\")\n",
    "axes[1,1].tick_params(axis='x', rotation=45)\n",
    "\n",
    "plt.tight_layout()\n",
    "plt.show()\n"
   ]
  },
  {
   "cell_type": "markdown",
   "id": "27586c4a",
   "metadata": {},
   "source": [
    "## 7. Modèle 1 — Random Forest"
   ]
  },
  {
   "cell_type": "markdown",
   "id": "4dc20f6b",
   "metadata": {},
   "source": [
    "**Consigne 7.1 — Entraînement**"
   ]
  },
  {
   "cell_type": "code",
   "execution_count": 179,
   "id": "6bd08b5c",
   "metadata": {},
   "outputs": [],
   "source": [
    "# VOTRE CODE ICI - Section 7.1\n",
    "# from sklearn.ensemble import RandomForestClassifier\n",
    "# ....\n",
    "# ....\n",
    "# ...."
   ]
  },
  {
   "cell_type": "markdown",
   "id": "4ee70bbb",
   "metadata": {},
   "source": [
    "**Consigne 7.2 — Évaluation**"
   ]
  },
  {
   "cell_type": "code",
   "execution_count": 180,
   "id": "ecc1abe3",
   "metadata": {},
   "outputs": [],
   "source": [
    "# VOTRE CODE ICI - Section 7.2\n",
    "# from sklearn.metrics import accuracy_score, precision_score, recall_score, f1_score, confusion_matrix\n",
    "# print(\"Random Forest - Résultats:\")\n",
    "# print(f\"Accuracy: {accuracy_score(y_test, rf_predictions):.4f}\")\n",
    "# print(f\"Precision: {precision_score(y_test, rf_predictions):.4f}\")\n",
    "# print(f\"Recall: {recall_score(y_test, rf_predictions):.4f}\")\n",
    "# print(f\"F1-Score: {f1_score(y_test, rf_predictions):.4f}\")\n",
    "# # Importance des variables\n",
    "# import pandas as pd\n",
    "# feature_importance = pd.DataFrame({\n",
    "#     'feature': X.columns,\n",
    "#     'importance': rf_model.feature_importances_\n",
    "# }).sort_values('importance', ascending=False)\n",
    "# print(\"\\nTop 10 variables importantes:\")\n",
    "# display(feature_importance.head(10))"
   ]
  },
  {
   "cell_type": "markdown",
   "id": "34bd0a5c",
   "metadata": {},
   "source": [
    "## 8. Modèle 2 — Support Vector Machine (SVM)"
   ]
  },
  {
   "cell_type": "markdown",
   "id": "2aad95c6",
   "metadata": {},
   "source": [
    "**Consigne 8.1 — Entraînement (utiliser données normalisées)**"
   ]
  },
  {
   "cell_type": "code",
   "execution_count": 181,
   "id": "711bf04b",
   "metadata": {},
   "outputs": [],
   "source": [
    "# VOTRE CODE ICI - Section 8.1\n",
    "# from sklearn.svm import SVC\n",
    "# ...\n",
    "# ...\n",
    "# ..."
   ]
  },
  {
   "cell_type": "markdown",
   "id": "979a3ce6",
   "metadata": {},
   "source": [
    "**Consigne 8.2 — Évaluation**"
   ]
  },
  {
   "cell_type": "code",
   "execution_count": 182,
   "id": "29d067ed",
   "metadata": {},
   "outputs": [],
   "source": [
    "# VOTRE CODE ICI - Section 8.2\n",
    "# print(\"SVM - Résultats:\")\n",
    "# print(f\"Accuracy: {accuracy_score(y_test, svm_predictions):.4f}\")\n",
    "#....\n",
    "# ...\n",
    "# ..."
   ]
  },
  {
   "cell_type": "markdown",
   "id": "d4372dac",
   "metadata": {},
   "source": [
    "## 9. Modèle 3 — Gradient Boosting (XGBoost)"
   ]
  },
  {
   "cell_type": "markdown",
   "id": "7c4c3bfd",
   "metadata": {},
   "source": [
    "**Consigne 9.1 — Entraînement**"
   ]
  },
  {
   "cell_type": "code",
   "execution_count": 183,
   "id": "d831f458",
   "metadata": {},
   "outputs": [],
   "source": [
    "# VOTRE CODE ICI - Section 9.1\n",
    "# try:\n",
    "#     from xgboost import XGBClassifier\n",
    "#     xgb_model = XGBClassifier(n_estimators=100, max_depth=6, learning_rate=0.1, subsample=1.0, colsample_bytree=1.0, random_state=42, n_jobs=-1, eval_metric='logloss')\n",
    "#     xgb_model.fit(X_train, y_train)\n",
    "#     xgb_predictions = xgb_model.predict(X_test)\n",
    "# except ImportError:\n",
    "#     print(\"XGBoost n'est pas installé. Installez avec: pip install xgboost\")\n",
    "#     xgb_model = None\n",
    "#     xgb_predictions = None"
   ]
  },
  {
   "cell_type": "markdown",
   "id": "b9311d79",
   "metadata": {},
   "source": [
    "**Consigne 9.2 — Évaluation**"
   ]
  },
  {
   "cell_type": "code",
   "execution_count": 184,
   "id": "462bb271",
   "metadata": {},
   "outputs": [],
   "source": [
    "# VOTRE CODE ICI - Section 9.2\n",
    "# if xgb_predictions is not None:\n",
    "#     print(\"XGBoost - Résultats:\")\n",
    "#     print(f\"Accuracy: {accuracy_score(y_test, xgb_predictions):.4f}\")\n",
    "#     print(f\"Precision: {precision_score(y_test, xgb_predictions):.4f}\")\n",
    "#     print(f\"Recall: {recall_score(y_test, xgb_predictions):.4f}\")\n",
    "#     print(f\"F1-Score: {f1_score(y_test, xgb_predictions):.4f}\")"
   ]
  },
  {
   "cell_type": "markdown",
   "id": "2e11ab75",
   "metadata": {},
   "source": [
    "## 10. Modèle 4 — Réseau de Neurones (MLPClassifier)"
   ]
  },
  {
   "cell_type": "markdown",
   "id": "c346cba0",
   "metadata": {},
   "source": [
    "**Consigne 10.1 — Entraînement (données normalisées)**"
   ]
  },
  {
   "cell_type": "code",
   "execution_count": 185,
   "id": "80c15608",
   "metadata": {},
   "outputs": [],
   "source": [
    "# VOTRE CODE ICI - Section 10.1\n",
    "# from sklearn.neural_network import MLPClassifier\n",
    "# nn_model = MLPClassifier(hidden_layer_sizes=(100, 50), activation='relu', solver='adam', max_iter=1000, random_state=42)\n",
    "# nn_model.fit(X_train_scaled, y_train)\n",
    "# nn_predictions = nn_model.predict(X_test_scaled)"
   ]
  },
  {
   "cell_type": "markdown",
   "id": "b77af7a2",
   "metadata": {},
   "source": [
    "**Consigne 10.2 — Évaluation**"
   ]
  },
  {
   "cell_type": "code",
   "execution_count": 186,
   "id": "ae67284a",
   "metadata": {},
   "outputs": [],
   "source": [
    "# VOTRE CODE ICI - Section 10.2\n",
    "# print(\"Réseau de Neurones - Résultats:\")\n",
    "# ....\n",
    "# print(f\"Precision: {precision_score(y_test, nn_predictions):.4f}\")\n",
    "# print(f\"Recall: {recall_score(y_test, nn_predictions):.4f}\")\n",
    "# print(f\"F1-Score: {f1_score(y_test, nn_predictions):.4f}\")\n",
    "# # Nombre d'itérations\n",
    "# # ...."
   ]
  },
  {
   "cell_type": "markdown",
   "id": "7bc77978",
   "metadata": {},
   "source": [
    "## 11. Comparaison des modèles"
   ]
  },
  {
   "cell_type": "code",
   "execution_count": 187,
   "id": "9681619f",
   "metadata": {},
   "outputs": [],
   "source": [
    "# VOTRE CODE ICI - Section 11.1\n",
    "# import pandas as pd\n",
    "# results = []\n",
    "# # Remplir en fonction des métriques calculées plus haut\n",
    "# # results.append({'Model': 'Random Forest', 'Accuracy': ..., 'Precision': ..., 'Recall': ..., 'F1-Score': ...})\n",
    "# # results.append({'Model': 'SVM', 'Accuracy': ..., 'Precision': ..., 'Recall': ..., 'F1-Score': ...})\n",
    "# # if xgb_predictions is not None: results.append({'Model': 'XGBoost', 'Accuracy': ..., 'Precision': ..., 'Recall': ..., 'F1-Score': ...})\n",
    "# # results.append({'Model': 'Neural Network', 'Accuracy': ..., 'Precision': ..., 'Recall': ..., 'F1-Score': ...})\n",
    "# results_df = pd.DataFrame(results)\n",
    "# display(results_df)\n",
    "# # Graphique comparatif des F1-scores (optionnel)\n",
    "# # import matplotlib.pyplot as plt\n",
    "# # plt.figure()\n",
    "# # plt.bar(results_df['Model'], results_df['F1-Score'])\n",
    "# # plt.title('Comparaison des F1-scores')\n",
    "# # plt.ylabel('F1-Score')\n",
    "# # plt.show()"
   ]
  },
  {
   "cell_type": "markdown",
   "id": "ecb2a166",
   "metadata": {},
   "source": [
    "## 12. Validation croisée"
   ]
  },
  {
   "cell_type": "code",
   "execution_count": 188,
   "id": "aac69276",
   "metadata": {},
   "outputs": [],
   "source": [
    "# VOTRE CODE ICI - Section 12.1\n",
    "# from sklearn.model_selection import cross_val_score\n",
    "# # Exemple avec Random Forest (remplacez par votre meilleur modèle)\n",
    "# # scores = cross_val_score(rf_model, X_train, y_train, cv=5, scoring='f1', n_jobs=-1)\n",
    "# # print(f\"Validation croisée - F1-Score: {scores.mean():.4f} (+/- {scores.std() * 2:.4f})\")"
   ]
  },
  {
   "cell_type": "markdown",
   "id": "38b7ac2d",
   "metadata": {},
   "source": [
    "## 13. Optimisation des hyperparamètres (Grid Search)"
   ]
  },
  {
   "cell_type": "code",
   "execution_count": 189,
   "id": "509756b9",
   "metadata": {},
   "outputs": [],
   "source": [
    "# VOTRE CODE ICI - Section 13.1\n",
    "# from sklearn.model_selection import GridSearchCV\n",
    "# from sklearn.ensemble import RandomForestClassifier\n",
    "# param_grid = {\n",
    "#     'n_estimators': [50, 100, 200],\n",
    "#     'max_depth': [5, 10, None],\n",
    "#     'min_samples_split': [2, 5, 10]\n",
    "# }\n",
    "# grid_search = GridSearchCV(\n",
    "#     RandomForestClassifier(random_state=42),\n",
    "#     param_grid,\n",
    "#     cv=3,\n",
    "#     scoring='f1',\n",
    "#     n_jobs=-1\n",
    "# )\n",
    "# grid_search.fit(X_train, y_train)\n",
    "# print(\"Meilleurs paramètres:\", grid_search.best_params_)\n",
    "# print(\"Meilleur score CV:\", grid_search.best_score_)\n",
    "# best_rf = grid_search.best_estimator_\n",
    "# best_rf_pred = best_rf.predict(X_test)"
   ]
  },
  {
   "cell_type": "markdown",
   "id": "a4a30039",
   "metadata": {},
   "source": [
    "## 14. Analyse des erreurs"
   ]
  },
  {
   "cell_type": "code",
   "execution_count": 190,
   "id": "686bb0d4",
   "metadata": {},
   "outputs": [],
   "source": [
    "# VOTRE CODE ICI - Section 14.1\n",
    "# import matplotlib.pyplot as plt\n",
    "# import seaborn as sns\n",
    "# from sklearn.metrics import confusion_matrix\n",
    "# # Exemple: matrice de confusion pour le meilleur modèle (remplacez best_rf_pred)\n",
    "# # cm = confusion_matrix(y_test, best_rf_pred)\n",
    "# # plt.figure(figsize=(8, 6))\n",
    "# # sns.heatmap(cm, annot=True, fmt='d', cmap='Blues',\n",
    "# #             xticklabels=['Non-Trending', 'Trending'],\n",
    "# #             yticklabels=['Non-Trending', 'Trending'])\n",
    "# # plt.title('Matrice de Confusion - Meilleur Modèle')\n",
    "# # plt.ylabel('Valeurs Réelles')\n",
    "# # plt.xlabel('Prédictions')\n",
    "# # plt.show()"
   ]
  },
  {
   "cell_type": "code",
   "execution_count": 191,
   "id": "d05fb987",
   "metadata": {},
   "outputs": [],
   "source": [
    "# VOTRE CODE ICI - Section 14.2\n",
    "# # Identifier des exemples mal classifiés (adapter selon le modèle choisi)\n",
    "# # errors_mask = (y_test != best_rf_pred)\n",
    "# # error_indices = X_test[errors_mask].index\n",
    "# # print(\"Exemples de vidéos mal classifiées:\")\n",
    "# # for idx in list(error_indices)[:5]:\n",
    "# #     real_label = y_test.loc[idx]\n",
    "# #     predicted_label = best_rf_pred[list(error_indices).index(idx)]  # à adapter si nécessaire\n",
    "# #     print(f\"Index {idx}: Réel={real_label}, Prédit={predicted_label}\")"
   ]
  },
  {
   "cell_type": "markdown",
   "id": "7338b06f",
   "metadata": {},
   "source": [
    "## 15. Sauvegarde & conclusions"
   ]
  },
  {
   "cell_type": "code",
   "execution_count": 192,
   "id": "1eab9baf",
   "metadata": {},
   "outputs": [],
   "source": [
    "# VOTRE CODE ICI - Section 15.1\n",
    "# import joblib\n",
    "# # Remplacez 'best_rf' / 'scaler' par vos objets\n",
    "# # joblib.dump(best_model, 'best_youtube_classifier.pkl')\n",
    "# # joblib.dump(scaler, 'feature_scaler.pkl')\n",
    "# # print(\"Modèle et scaler sauvegardés avec succès!\")"
   ]
  },
  {
   "cell_type": "markdown",
   "id": "ed7eddb3",
   "metadata": {},
   "source": [
    "### Conclusions à rédiger\n",
    "\n",
    "1. **Meilleur modèle**  \n",
    "   - Modèle: *[À compléter]*  \n",
    "   - Performances: *[À compléter]*  \n",
    "   - Raisons: *[À compléter]*\n",
    "\n",
    "2. **Variables les plus importantes**  \n",
    "   - *[À compléter]*\n",
    "\n",
    "3. **Limitations**  \n",
    "   - *[À compléter]*\n",
    "\n",
    "4. **Améliorations suggérées**  \n",
    "   - *[À compléter]*\n",
    "\n",
    "5. **Apprentissages**  \n",
    "   - *[À compléter]*"
   ]
  },
  {
   "cell_type": "markdown",
   "id": "72c6e844",
   "metadata": {},
   "source": [
    "---\n",
    "## Guide de testing pour les étudiants\n",
    "\n",
    "**Comment tester vos implémentations :**\n",
    "1. **Vérifications de base** : `.shape`, `.info()`, `.head()`  \n",
    "2. **Validation des features** : pas de NaN, ratios entre 0 et 1, plages temporelles correctes  \n",
    "3. **Validation des modèles** : prédictions binaires {0,1}, longueurs cohérentes, comparaisons rigoureuses  \n",
    "4. **Tests de cohérence** : scores réalistes, F1 entre précision et rappel, impact de la normalisation  \n",
    "5. **Debugging** : augmenter `max_iter` si nécessaire, vérifier entrées/sorties et dimensions"
   ]
  }
 ],
 "metadata": {
  "kernelspec": {
   "display_name": ".venv (3.12.3)",
   "language": "python",
   "name": "python3"
  },
  "language_info": {
   "codemirror_mode": {
    "name": "ipython",
    "version": 3
   },
   "file_extension": ".py",
   "mimetype": "text/x-python",
   "name": "python",
   "nbconvert_exporter": "python",
   "pygments_lexer": "ipython3",
   "version": "3.12.3"
  }
 },
 "nbformat": 4,
 "nbformat_minor": 5
}
